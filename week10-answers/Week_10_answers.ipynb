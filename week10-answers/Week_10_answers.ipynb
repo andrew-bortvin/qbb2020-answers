{
 "cells": [
  {
   "cell_type": "markdown",
   "metadata": {},
   "source": [
    "# Week 10\n",
    "\n",
    "## Step 1\n",
    "\n",
    "First, SRR_.kraken files were reformatted as such:"
   ]
  },
  {
   "cell_type": "code",
   "execution_count": 3,
   "metadata": {},
   "outputs": [],
   "source": [
    "import pandas as pd \n",
    "import seaborn\n",
    "import numpy as np"
   ]
  },
  {
   "cell_type": "code",
   "execution_count": null,
   "metadata": {},
   "outputs": [],
   "source": [
    "fnames = ['SRR492183.kraken', 'SRR492188.kraken', 'SRR492190.kraken', 'SRR492194.kraken', 'SRR492186.kraken', 'SRR492189.kraken', 'SRR492193.kraken', 'SRR492197.kraken']"
   ]
  },
  {
   "cell_type": "code",
   "execution_count": null,
   "metadata": {},
   "outputs": [],
   "source": [
    "for i in fnames:\n",
    "    f = open('week13_data/KRAKEN/'+i, 'r')\n",
    "    L = f.readlines()\n",
    "    f.close()\n",
    "    f1 = open('week13_data/KRAKEN/'+i+'.formatted.txt', 'w')\n",
    "    for line in L:\n",
    "        current_line = line.split(';')[1::]\n",
    "        out_string = \"\"\n",
    "        for i in current_line:\n",
    "            out_string += i +'\\t'\n",
    "        out_string = out_string.rstrip('\\t')\n",
    "        #print(repr(out_string))  \n",
    "        f1.write(out_string)\n",
    "    f1.close()"
   ]
  },
  {
   "cell_type": "markdown",
   "metadata": {},
   "source": [
    "Sorting and counting were done with the following bash script: "
   ]
  },
  {
   "cell_type": "code",
   "execution_count": null,
   "metadata": {},
   "outputs": [],
   "source": [
    "%%bash\n",
    "#!/bin/bash\n",
    "\n",
    "for i in *formatted.txt \n",
    "do \n",
    "\tcut -f 6 $i | sort | uniq -c > ${i%.*}.sorted.kraken\n",
    "done"
   ]
  },
  {
   "cell_type": "markdown",
   "metadata": {},
   "source": [
    "To fix formatting of those files so that Krona would recognize them, the following was run:"
   ]
  },
  {
   "cell_type": "code",
   "execution_count": null,
   "metadata": {},
   "outputs": [],
   "source": [
    "filenames = ['SRR492183.kraken.formatted.sorted.kraken', 'SRR492189.kraken.formatted.sorted.kraken','SRR492194.kraken.formatted.sorted.kraken',\n",
    "'SRR492186.kraken.formatted.sorted.kraken','SRR492190.kraken.formatted.sorted.kraken','SRR492197.kraken.formatted.sorted.kraken',\n",
    "'SRR492188.kraken.formatted.sorted.kraken','SRR492193.kraken.formatted.sorted.kraken']"
   ]
  },
  {
   "cell_type": "code",
   "execution_count": null,
   "metadata": {},
   "outputs": [],
   "source": [
    "for i in filenames:\n",
    "    a = pd.read_table('week13_data/KRAKEN/'+i, names = ['1'], skipinitialspace=True)\n",
    "    a[['1', '2']] = a['1'].str.split(\" \", 1, expand = True)    \n",
    "    a.to_csv('week13_data/KRAKEN/'+i+'.fm.txt', header =None, index=None, sep = '\\t', mode='a') "
   ]
  },
  {
   "cell_type": "markdown",
   "metadata": {},
   "source": [
    "ktImportText was run on each of these files. Resulting files are stored as SRR*.html.\n",
    "\n",
    "## Question 1: \n",
    "\n",
    "The microbiome consists primarily of three orders: Lactobacillales  entirely of Lactobacillales, Propionibacteriales, and Bacilliales. There are plenty of other groups, but these exist at low frequencies. The first four days are marked by the increased predominance of Lactobacillales, but then the second half of the week shows grow in the other two species."
   ]
  },
  {
   "cell_type": "markdown",
   "metadata": {},
   "source": [
    "## Step 2\n",
    "\n",
    "First, and index was generated using bwa index assembly.fasta\n",
    "\n",
    "To get alligned sam files, I ran the following script:"
   ]
  },
  {
   "cell_type": "code",
   "execution_count": null,
   "metadata": {},
   "outputs": [],
   "source": [
    "%%bash\n",
    "\\#!/bin/bash\n",
    "\n",
    "for i in 183 186 188 189 190 193 194 197\n",
    "do \n",
    "\tbwa mem -o READS/sam/SRR492${i}.sam assembly.fasta READS/SRR492${i}_1.fastq READS/SRR492${i}_2.fastq\n",
    "done"
   ]
  },
  {
   "cell_type": "markdown",
   "metadata": {},
   "source": [
    "Converstion to BAM: "
   ]
  },
  {
   "cell_type": "code",
   "execution_count": null,
   "metadata": {},
   "outputs": [],
   "source": [
    "%%bash\n",
    "#!/bin/bash\n",
    "\n",
    "for i in 183 186 188 189 190 193 194 197\n",
    "do \n",
    "\tsamtools view -b -o READS/bam/SRR492${i}.bam READS/sam/SRR492${i}.sam\n",
    "done"
   ]
  },
  {
   "cell_type": "markdown",
   "metadata": {},
   "source": [
    "Sorting:"
   ]
  },
  {
   "cell_type": "code",
   "execution_count": null,
   "metadata": {},
   "outputs": [],
   "source": [
    "%%bash\n",
    "#!/bin/bash\n",
    "\n",
    "for i in 183 186 188 189 190 193 194 197\n",
    "do \n",
    "\tsamtools sort -o READS/sorted_bam/SRR492${i}.sorted.bam READS/bam/SRR492${i}.bam\n",
    "done"
   ]
  },
  {
   "cell_type": "markdown",
   "metadata": {},
   "source": [
    "Depth file generated using: \n",
    "    jgi_summarize_bam_contig_depths --outputDepth depth.txt *.bam\n",
    "\n",
    "and did metabat analysis using:\n",
    "\n",
    "metabat2 -i assembly.fasta -a READS/sorted_bam/depth.txt -o READS/metabat_out/\n",
    "\n",
    "Returns: MetaBAT 2 (2.15 (Bioconda)) using minContig 2500, minCV 1.0, minCVSum 1.0, maxP 95%, minS 60, maxEdges 200 and minClsSize 200000. with random seed=1608245256\n",
    "6 bins (13187322 bases in total) formed."
   ]
  },
  {
   "cell_type": "markdown",
   "metadata": {},
   "source": [
    "## Question 2: \n",
    "\n",
    "I think that one way to group contigs would be to use read count/abundance. We exepct different species to be found in the microbiome at really variable frequencies. We would expect a very common species to have significantly higher coverage than a rare species. From this, we can separate contigs by average coverage of a position within the contig and use that to match them. \n",
    "\n",
    "## Question 3:\n",
    "MetBAT returns six bins totalling 13187322 bases. Running \n",
    "\n",
    "grep -v NODE assembly.fasta | wc -c \n",
    "\n",
    "returns that the assembly has 38708237 charactesr in total. Therefore, approximately 1/3 of the assembly is covered in the metaBAT bins. \n",
    "\n",
    "Looking at the sizes of some of my bins, they are approximately 300-350 nt when contigs are summed together. I would assume that this is approximately 50%, maybe a bit less, of a prokaryotic genome.\n",
    "\n",
    "I think that the best way to assess how complete and correct these bins are would be to use multiple alignment to identify the most likely source species for each bin, and then map back to that species reference genome, looking for regions that display large stretches of mismatches between the contigs and the reference"
   ]
  },
  {
   "cell_type": "markdown",
   "metadata": {},
   "source": [
    "## Part 3\n",
    "\n",
    "First, I extracted all the header lines from the file using this script:"
   ]
  },
  {
   "cell_type": "code",
   "execution_count": null,
   "metadata": {},
   "outputs": [],
   "source": [
    "%%bash\n",
    "#!/bin/bash\n",
    "\n",
    "for i in 1 2 3 4 5 6 7 8\n",
    "do\n",
    "\tgrep \\> ../bins/bin.${i}.fa | cut -c2- > bin_nodes/bin.${i}.nodes.txt\n",
    "done"
   ]
  },
  {
   "cell_type": "markdown",
   "metadata": {},
   "source": [
    "Headers were cross-referenced to the kraken file as such:"
   ]
  },
  {
   "cell_type": "code",
   "execution_count": null,
   "metadata": {},
   "outputs": [],
   "source": [
    "#!/bin/bash\n",
    "\n",
    "for i in 1 2 3 4 5 6 7 8\n",
    "do\n",
    "\tcat bin_nodes/bin.${i}.nodes.txt | while read line\n",
    "\tdo \n",
    "\t\tgrep $line KRAKEN/assembly.kraken >> bin_nodes/bin.${i}.results.txt\n",
    "\tdone\n",
    "done"
   ]
  },
  {
   "cell_type": "markdown",
   "metadata": {},
   "source": [
    "From this, the bins are predominantly:\n",
    "\n",
    "Bin 1 – Firmicutes;Bacilli;Bacillales;Staphylococcaceae;Staphylococcus haemolyticus\n",
    "\n",
    "Bin 2 – Firmicutes;Bacilli;Lactobacillales;Leuconostocaceae;Leuconostoc;Leuconostoc citreum\n",
    "\n",
    "Bin 3 – Firmicutes;Bacilli;Bacillales;Staphylococcaceae;Staphylococcus;Staphylococcus lugdunensis\n",
    "\n",
    "Bin 4 – Firmicutes;Bacilli;Lactobacillales;Enterococcaceae;Enterococcus;Enterococcus faecalis\n",
    "\n",
    "Bin 5 – Actinobacteria;Propionibacteriales;Propionibacteriaceae;Cutibacterium;Cutibacterium avidum\n",
    "\n",
    "Bin 6 – Firmicutes;Bacilli;Bacillales;Staphylococcaceae;Staphylococcus;Staphylococcus epidermidis\n",
    "\n",
    "Bin 7 – Bacillales;Staphylococcaceae;Staphylococcus;Staphylococcus aureus;Staphylococcus aureus subsp. aureus\n",
    "\n",
    "Bin 8 – Terrabacteria group;Firmicutes;Tissierellia;Tissierellales;Peptoniphilaceae\n",
    "\n",
    "Though 8 has a lot more variation\n",
    "\n",
    "## Question 4\n",
    "I think that a more rigorous approach would be to take the contigs, use phylogeny software to generate a phylogenetic tree, and also do multiple allignments to various bacteria species for each bin to identify most likely species.\n",
    "\n",
    "## Part 4"
   ]
  },
  {
   "cell_type": "code",
   "execution_count": 6,
   "metadata": {},
   "outputs": [],
   "source": [
    "data = pd.read_table('abundance_table.tab')\n",
    "data = data.set_index('Genomic bins')"
   ]
  },
  {
   "cell_type": "code",
   "execution_count": 17,
   "metadata": {},
   "outputs": [],
   "source": [
    "rnames = pd.Index(['Staphylococcus haemolyticus', 'Leuconostoc citreum', 'Staphylococcus lugdunensis', 'Enterococcus faecalis','Cutibacterium avidum','Staphylococcus epidermidis', 'Staphylococcus aureus', 'Peptoniphilaceae'])"
   ]
  },
  {
   "cell_type": "code",
   "execution_count": 18,
   "metadata": {},
   "outputs": [],
   "source": [
    "data = data.set_index(rnames)"
   ]
  },
  {
   "cell_type": "code",
   "execution_count": 20,
   "metadata": {},
   "outputs": [
    {
     "data": {
      "text/plain": [
       "<seaborn.matrix.ClusterGrid at 0x7fb9da97fcf8>"
      ]
     },
     "execution_count": 20,
     "metadata": {},
     "output_type": "execute_result"
    },
    {
     "data": {
      "image/png": "[encoded data removed]",
      "text/plain": [
       "<Figure size 720x720 with 4 Axes>"
      ]
     },
     "metadata": {
      "needs_background": "light"
     },
     "output_type": "display_data"
    }
   ],
   "source": [
    "seaborn.clustermap(data)"
   ]
  },
  {
   "cell_type": "markdown",
   "metadata": {},
   "source": [
    "## Question 5\n",
    "\n",
    "This is mostly consistent with what I've seen in step 1 – the data is dominated by a few major groups. Of these, Lactobacillales is by far the dominant species, with Propionibacteriales as a distant second. One significant discrepancy, however, is that in the step 1 visualizations, Propionibacteriales proportions dropped dramatically in the first few days – here, it looks consierably more consistent (this also might be a consequence of how seaborn colors heatmaps?)"
   ]
  },
  {
   "cell_type": "code",
   "execution_count": null,
   "metadata": {},
   "outputs": [],
   "source": []
  }
 ],
 "metadata": {
  "kernelspec": {
   "display_name": "Python 3",
   "language": "python",
   "name": "python3"
  },
  "language_info": {
   "codemirror_mode": {
    "name": "ipython",
    "version": 3
   },
   "file_extension": ".py",
   "mimetype": "text/x-python",
   "name": "python",
   "nbconvert_exporter": "python",
   "pygments_lexer": "ipython3",
   "version": "3.6.10"
  }
 },
 "nbformat": 4,
 "nbformat_minor": 4
}
