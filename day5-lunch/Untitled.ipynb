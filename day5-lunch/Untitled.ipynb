{
 "cells": [
  {
   "cell_type": "markdown",
   "metadata": {},
   "source": [
    "## Load Packages"
   ]
  },
  {
   "cell_type": "code",
   "execution_count": 1,
   "metadata": {},
   "outputs": [],
   "source": [
    "import numpy as np\n",
    "import pandas as pd\n",
    "import matplotlib.pyplot as plt\n",
    "import math\n",
    "\n",
    "from scipy import stats\n",
    "import statsmodels.formula.api as smf\n",
    "import statsmodels.api as sm"
   ]
  },
  {
   "cell_type": "markdown",
   "metadata": {},
   "source": [
    "## Import Data"
   ]
  },
  {
   "cell_type": "code",
   "execution_count": 2,
   "metadata": {},
   "outputs": [],
   "source": [
    "df_num_origin = pd.read_csv('aau1043_dnm.tsv')\n",
    "df_parental_age = pd.read_csv('aau1043_parental_age.tsv')"
   ]
  },
  {
   "cell_type": "code",
   "execution_count": 3,
   "metadata": {},
   "outputs": [
    {
     "data": {
      "text/html": [
       "<div>\n",
       "<style scoped>\n",
       "    .dataframe tbody tr th:only-of-type {\n",
       "        vertical-align: middle;\n",
       "    }\n",
       "\n",
       "    .dataframe tbody tr th {\n",
       "        vertical-align: top;\n",
       "    }\n",
       "\n",
       "    .dataframe thead th {\n",
       "        text-align: right;\n",
       "    }\n",
       "</style>\n",
       "<table border=\"1\" class=\"dataframe\">\n",
       "  <thead>\n",
       "    <tr style=\"text-align: right;\">\n",
       "      <th></th>\n",
       "      <th>Chr</th>\n",
       "      <th>Pos</th>\n",
       "      <th>Ref</th>\n",
       "      <th>Alt</th>\n",
       "      <th>Proband_id</th>\n",
       "      <th>Phase_combined</th>\n",
       "      <th>Crossover</th>\n",
       "      <th>Sanger</th>\n",
       "    </tr>\n",
       "  </thead>\n",
       "  <tbody>\n",
       "    <tr>\n",
       "      <th>0</th>\n",
       "      <td>chr1</td>\n",
       "      <td>241097646</td>\n",
       "      <td>C</td>\n",
       "      <td>T</td>\n",
       "      <td>99379</td>\n",
       "      <td>father</td>\n",
       "      <td>paternal_crossover</td>\n",
       "      <td>confirmed</td>\n",
       "    </tr>\n",
       "    <tr>\n",
       "      <th>1</th>\n",
       "      <td>chr10</td>\n",
       "      <td>29202943</td>\n",
       "      <td>A</td>\n",
       "      <td>G</td>\n",
       "      <td>8147</td>\n",
       "      <td>father</td>\n",
       "      <td>maternal_crossover</td>\n",
       "      <td>PCR failed</td>\n",
       "    </tr>\n",
       "    <tr>\n",
       "      <th>2</th>\n",
       "      <td>chr11</td>\n",
       "      <td>129441657</td>\n",
       "      <td>C</td>\n",
       "      <td>T</td>\n",
       "      <td>5410</td>\n",
       "      <td>mother</td>\n",
       "      <td>maternal_crossover</td>\n",
       "      <td>confirmed</td>\n",
       "    </tr>\n",
       "    <tr>\n",
       "      <th>3</th>\n",
       "      <td>chr13</td>\n",
       "      <td>96867147</td>\n",
       "      <td>A</td>\n",
       "      <td>G</td>\n",
       "      <td>46025</td>\n",
       "      <td>father</td>\n",
       "      <td>paternal_crossover</td>\n",
       "      <td>confirmed</td>\n",
       "    </tr>\n",
       "    <tr>\n",
       "      <th>4</th>\n",
       "      <td>chr17</td>\n",
       "      <td>50609998</td>\n",
       "      <td>C</td>\n",
       "      <td>T</td>\n",
       "      <td>144769</td>\n",
       "      <td>mother</td>\n",
       "      <td>maternal_crossover</td>\n",
       "      <td>confirmed</td>\n",
       "    </tr>\n",
       "    <tr>\n",
       "      <th>...</th>\n",
       "      <td>...</td>\n",
       "      <td>...</td>\n",
       "      <td>...</td>\n",
       "      <td>...</td>\n",
       "      <td>...</td>\n",
       "      <td>...</td>\n",
       "      <td>...</td>\n",
       "      <td>...</td>\n",
       "    </tr>\n",
       "    <tr>\n",
       "      <th>26426</th>\n",
       "      <td>chr9</td>\n",
       "      <td>137374330</td>\n",
       "      <td>C</td>\n",
       "      <td>T</td>\n",
       "      <td>54383</td>\n",
       "      <td>father</td>\n",
       "      <td>NaN</td>\n",
       "      <td>NaN</td>\n",
       "    </tr>\n",
       "    <tr>\n",
       "      <th>26427</th>\n",
       "      <td>chr9</td>\n",
       "      <td>137396508</td>\n",
       "      <td>C</td>\n",
       "      <td>T</td>\n",
       "      <td>39729</td>\n",
       "      <td>father</td>\n",
       "      <td>NaN</td>\n",
       "      <td>NaN</td>\n",
       "    </tr>\n",
       "    <tr>\n",
       "      <th>26428</th>\n",
       "      <td>chr9</td>\n",
       "      <td>137633973</td>\n",
       "      <td>C</td>\n",
       "      <td>A</td>\n",
       "      <td>17904</td>\n",
       "      <td>mother</td>\n",
       "      <td>NaN</td>\n",
       "      <td>NaN</td>\n",
       "    </tr>\n",
       "    <tr>\n",
       "      <th>26429</th>\n",
       "      <td>chr9</td>\n",
       "      <td>137889777</td>\n",
       "      <td>G</td>\n",
       "      <td>A</td>\n",
       "      <td>80108</td>\n",
       "      <td>father</td>\n",
       "      <td>NaN</td>\n",
       "      <td>NaN</td>\n",
       "    </tr>\n",
       "    <tr>\n",
       "      <th>26430</th>\n",
       "      <td>chr9</td>\n",
       "      <td>138177157</td>\n",
       "      <td>G</td>\n",
       "      <td>A</td>\n",
       "      <td>110977</td>\n",
       "      <td>father</td>\n",
       "      <td>NaN</td>\n",
       "      <td>NaN</td>\n",
       "    </tr>\n",
       "  </tbody>\n",
       "</table>\n",
       "<p>26431 rows × 8 columns</p>\n",
       "</div>"
      ],
      "text/plain": [
       "         Chr        Pos Ref Alt  Proband_id Phase_combined  \\\n",
       "0       chr1  241097646   C   T       99379         father   \n",
       "1      chr10   29202943   A   G        8147         father   \n",
       "2      chr11  129441657   C   T        5410         mother   \n",
       "3      chr13   96867147   A   G       46025         father   \n",
       "4      chr17   50609998   C   T      144769         mother   \n",
       "...      ...        ...  ..  ..         ...            ...   \n",
       "26426   chr9  137374330   C   T       54383         father   \n",
       "26427   chr9  137396508   C   T       39729         father   \n",
       "26428   chr9  137633973   C   A       17904         mother   \n",
       "26429   chr9  137889777   G   A       80108         father   \n",
       "26430   chr9  138177157   G   A      110977         father   \n",
       "\n",
       "                Crossover      Sanger  \n",
       "0      paternal_crossover   confirmed  \n",
       "1      maternal_crossover  PCR failed  \n",
       "2      maternal_crossover   confirmed  \n",
       "3      paternal_crossover   confirmed  \n",
       "4      maternal_crossover   confirmed  \n",
       "...                   ...         ...  \n",
       "26426                 NaN         NaN  \n",
       "26427                 NaN         NaN  \n",
       "26428                 NaN         NaN  \n",
       "26429                 NaN         NaN  \n",
       "26430                 NaN         NaN  \n",
       "\n",
       "[26431 rows x 8 columns]"
      ]
     },
     "execution_count": 3,
     "metadata": {},
     "output_type": "execute_result"
    }
   ],
   "source": [
    "df_num_origin"
   ]
  },
  {
   "cell_type": "code",
   "execution_count": 4,
   "metadata": {},
   "outputs": [
    {
     "data": {
      "text/html": [
       "<div>\n",
       "<style scoped>\n",
       "    .dataframe tbody tr th:only-of-type {\n",
       "        vertical-align: middle;\n",
       "    }\n",
       "\n",
       "    .dataframe tbody tr th {\n",
       "        vertical-align: top;\n",
       "    }\n",
       "\n",
       "    .dataframe thead th {\n",
       "        text-align: right;\n",
       "    }\n",
       "</style>\n",
       "<table border=\"1\" class=\"dataframe\">\n",
       "  <thead>\n",
       "    <tr style=\"text-align: right;\">\n",
       "      <th></th>\n",
       "      <th>Proband_id</th>\n",
       "      <th>Father_age</th>\n",
       "      <th>Mother_age</th>\n",
       "    </tr>\n",
       "  </thead>\n",
       "  <tbody>\n",
       "    <tr>\n",
       "      <th>0</th>\n",
       "      <td>675</td>\n",
       "      <td>31</td>\n",
       "      <td>36</td>\n",
       "    </tr>\n",
       "    <tr>\n",
       "      <th>1</th>\n",
       "      <td>1097</td>\n",
       "      <td>19</td>\n",
       "      <td>19</td>\n",
       "    </tr>\n",
       "    <tr>\n",
       "      <th>2</th>\n",
       "      <td>1230</td>\n",
       "      <td>30</td>\n",
       "      <td>28</td>\n",
       "    </tr>\n",
       "    <tr>\n",
       "      <th>3</th>\n",
       "      <td>1481</td>\n",
       "      <td>32</td>\n",
       "      <td>20</td>\n",
       "    </tr>\n",
       "    <tr>\n",
       "      <th>4</th>\n",
       "      <td>1806</td>\n",
       "      <td>38</td>\n",
       "      <td>34</td>\n",
       "    </tr>\n",
       "    <tr>\n",
       "      <th>...</th>\n",
       "      <td>...</td>\n",
       "      <td>...</td>\n",
       "      <td>...</td>\n",
       "    </tr>\n",
       "    <tr>\n",
       "      <th>391</th>\n",
       "      <td>153657</td>\n",
       "      <td>27</td>\n",
       "      <td>23</td>\n",
       "    </tr>\n",
       "    <tr>\n",
       "      <th>392</th>\n",
       "      <td>154565</td>\n",
       "      <td>36</td>\n",
       "      <td>30</td>\n",
       "    </tr>\n",
       "    <tr>\n",
       "      <th>393</th>\n",
       "      <td>154621</td>\n",
       "      <td>19</td>\n",
       "      <td>18</td>\n",
       "    </tr>\n",
       "    <tr>\n",
       "      <th>394</th>\n",
       "      <td>154810</td>\n",
       "      <td>32</td>\n",
       "      <td>28</td>\n",
       "    </tr>\n",
       "    <tr>\n",
       "      <th>395</th>\n",
       "      <td>154936</td>\n",
       "      <td>30</td>\n",
       "      <td>34</td>\n",
       "    </tr>\n",
       "  </tbody>\n",
       "</table>\n",
       "<p>396 rows × 3 columns</p>\n",
       "</div>"
      ],
      "text/plain": [
       "     Proband_id  Father_age  Mother_age\n",
       "0           675          31          36\n",
       "1          1097          19          19\n",
       "2          1230          30          28\n",
       "3          1481          32          20\n",
       "4          1806          38          34\n",
       "..          ...         ...         ...\n",
       "391      153657          27          23\n",
       "392      154565          36          30\n",
       "393      154621          19          18\n",
       "394      154810          32          28\n",
       "395      154936          30          34\n",
       "\n",
       "[396 rows x 3 columns]"
      ]
     },
     "execution_count": 4,
     "metadata": {},
     "output_type": "execute_result"
    }
   ],
   "source": [
    "df_parental_age"
   ]
  },
  {
   "cell_type": "markdown",
   "metadata": {},
   "source": [
    "## Assembling de novo count table"
   ]
  },
  {
   "cell_type": "code",
   "execution_count": 5,
   "metadata": {},
   "outputs": [
    {
     "data": {
      "text/html": [
       "<div>\n",
       "<style scoped>\n",
       "    .dataframe tbody tr th:only-of-type {\n",
       "        vertical-align: middle;\n",
       "    }\n",
       "\n",
       "    .dataframe tbody tr th {\n",
       "        vertical-align: top;\n",
       "    }\n",
       "\n",
       "    .dataframe thead th {\n",
       "        text-align: right;\n",
       "    }\n",
       "</style>\n",
       "<table border=\"1\" class=\"dataframe\">\n",
       "  <thead>\n",
       "    <tr style=\"text-align: right;\">\n",
       "      <th></th>\n",
       "      <th>Proband_id</th>\n",
       "      <th>pat_dnm</th>\n",
       "      <th>mat_dnm</th>\n",
       "      <th>tot_dnm</th>\n",
       "    </tr>\n",
       "  </thead>\n",
       "  <tbody>\n",
       "    <tr>\n",
       "      <th>0</th>\n",
       "      <td>91410</td>\n",
       "      <td>111</td>\n",
       "      <td>10</td>\n",
       "      <td>122</td>\n",
       "    </tr>\n",
       "    <tr>\n",
       "      <th>1</th>\n",
       "      <td>114094</td>\n",
       "      <td>98</td>\n",
       "      <td>22</td>\n",
       "      <td>121</td>\n",
       "    </tr>\n",
       "    <tr>\n",
       "      <th>2</th>\n",
       "      <td>111288</td>\n",
       "      <td>93</td>\n",
       "      <td>21</td>\n",
       "      <td>115</td>\n",
       "    </tr>\n",
       "    <tr>\n",
       "      <th>3</th>\n",
       "      <td>8147</td>\n",
       "      <td>78</td>\n",
       "      <td>27</td>\n",
       "      <td>114</td>\n",
       "    </tr>\n",
       "    <tr>\n",
       "      <th>4</th>\n",
       "      <td>88246</td>\n",
       "      <td>87</td>\n",
       "      <td>25</td>\n",
       "      <td>113</td>\n",
       "    </tr>\n",
       "    <tr>\n",
       "      <th>...</th>\n",
       "      <td>...</td>\n",
       "      <td>...</td>\n",
       "      <td>...</td>\n",
       "      <td>...</td>\n",
       "    </tr>\n",
       "    <tr>\n",
       "      <th>391</th>\n",
       "      <td>121087</td>\n",
       "      <td>36</td>\n",
       "      <td>1</td>\n",
       "      <td>37</td>\n",
       "    </tr>\n",
       "    <tr>\n",
       "      <th>392</th>\n",
       "      <td>62630</td>\n",
       "      <td>28</td>\n",
       "      <td>5</td>\n",
       "      <td>34</td>\n",
       "    </tr>\n",
       "    <tr>\n",
       "      <th>393</th>\n",
       "      <td>76504</td>\n",
       "      <td>27</td>\n",
       "      <td>5</td>\n",
       "      <td>34</td>\n",
       "    </tr>\n",
       "    <tr>\n",
       "      <th>394</th>\n",
       "      <td>37789</td>\n",
       "      <td>17</td>\n",
       "      <td>3</td>\n",
       "      <td>34</td>\n",
       "    </tr>\n",
       "    <tr>\n",
       "      <th>395</th>\n",
       "      <td>13990</td>\n",
       "      <td>25</td>\n",
       "      <td>7</td>\n",
       "      <td>33</td>\n",
       "    </tr>\n",
       "  </tbody>\n",
       "</table>\n",
       "<p>396 rows × 4 columns</p>\n",
       "</div>"
      ],
      "text/plain": [
       "     Proband_id  pat_dnm  mat_dnm  tot_dnm\n",
       "0         91410      111       10      122\n",
       "1        114094       98       22      121\n",
       "2        111288       93       21      115\n",
       "3          8147       78       27      114\n",
       "4         88246       87       25      113\n",
       "..          ...      ...      ...      ...\n",
       "391      121087       36        1       37\n",
       "392       62630       28        5       34\n",
       "393       76504       27        5       34\n",
       "394       37789       17        3       34\n",
       "395       13990       25        7       33\n",
       "\n",
       "[396 rows x 4 columns]"
      ]
     },
     "execution_count": 5,
     "metadata": {},
     "output_type": "execute_result"
    }
   ],
   "source": [
    "# Subset dataframe and get counts for total, paternal, and maternal origin mutations\n",
    "proband_total_df = df_num_origin['Proband_id'].value_counts().rename_axis('Proband_id').to_frame('tot_dnm')\n",
    "pat = df_num_origin[df_num_origin['Phase_combined'] == 'father']['Proband_id'].value_counts().rename_axis('Proband_id').to_frame('pat_dnm')\n",
    "mat = df_num_origin[df_num_origin['Phase_combined'] == 'mother']['Proband_id'].value_counts().rename_axis('Proband_id').to_frame('mat_dnm')\n",
    "\n",
    "\n",
    "\n",
    "# merge all of the above dataframes and make the proband ids into their own column \n",
    "big = pd.merge(proband_total_df, pat, on='Proband_id')\n",
    "big = pd.merge(big, mat, on='Proband_id')\n",
    "big.reset_index(inplace=True)\n",
    "\n",
    "# rearrange the columns\n",
    "cols = ['Proband_id', 'pat_dnm', 'mat_dnm', 'tot_dnm']\n",
    "big = big[cols]\n",
    "big\n",
    "\n"
   ]
  },
  {
   "cell_type": "code",
   "execution_count": 6,
   "metadata": {},
   "outputs": [
    {
     "data": {
      "text/html": [
       "<div>\n",
       "<style scoped>\n",
       "    .dataframe tbody tr th:only-of-type {\n",
       "        vertical-align: middle;\n",
       "    }\n",
       "\n",
       "    .dataframe tbody tr th {\n",
       "        vertical-align: top;\n",
       "    }\n",
       "\n",
       "    .dataframe thead th {\n",
       "        text-align: right;\n",
       "    }\n",
       "</style>\n",
       "<table border=\"1\" class=\"dataframe\">\n",
       "  <thead>\n",
       "    <tr style=\"text-align: right;\">\n",
       "      <th></th>\n",
       "      <th>Proband_id</th>\n",
       "      <th>pat_dnm</th>\n",
       "      <th>mat_dnm</th>\n",
       "      <th>tot_dnm</th>\n",
       "      <th>Father_age</th>\n",
       "      <th>Mother_age</th>\n",
       "    </tr>\n",
       "  </thead>\n",
       "  <tbody>\n",
       "    <tr>\n",
       "      <th>0</th>\n",
       "      <td>91410</td>\n",
       "      <td>111</td>\n",
       "      <td>10</td>\n",
       "      <td>122</td>\n",
       "      <td>51</td>\n",
       "      <td>34</td>\n",
       "    </tr>\n",
       "    <tr>\n",
       "      <th>1</th>\n",
       "      <td>114094</td>\n",
       "      <td>98</td>\n",
       "      <td>22</td>\n",
       "      <td>121</td>\n",
       "      <td>51</td>\n",
       "      <td>44</td>\n",
       "    </tr>\n",
       "    <tr>\n",
       "      <th>2</th>\n",
       "      <td>111288</td>\n",
       "      <td>93</td>\n",
       "      <td>21</td>\n",
       "      <td>115</td>\n",
       "      <td>53</td>\n",
       "      <td>44</td>\n",
       "    </tr>\n",
       "    <tr>\n",
       "      <th>3</th>\n",
       "      <td>8147</td>\n",
       "      <td>78</td>\n",
       "      <td>27</td>\n",
       "      <td>114</td>\n",
       "      <td>40</td>\n",
       "      <td>33</td>\n",
       "    </tr>\n",
       "    <tr>\n",
       "      <th>4</th>\n",
       "      <td>88246</td>\n",
       "      <td>87</td>\n",
       "      <td>25</td>\n",
       "      <td>113</td>\n",
       "      <td>56</td>\n",
       "      <td>46</td>\n",
       "    </tr>\n",
       "    <tr>\n",
       "      <th>...</th>\n",
       "      <td>...</td>\n",
       "      <td>...</td>\n",
       "      <td>...</td>\n",
       "      <td>...</td>\n",
       "      <td>...</td>\n",
       "      <td>...</td>\n",
       "    </tr>\n",
       "    <tr>\n",
       "      <th>391</th>\n",
       "      <td>121087</td>\n",
       "      <td>36</td>\n",
       "      <td>1</td>\n",
       "      <td>37</td>\n",
       "      <td>18</td>\n",
       "      <td>17</td>\n",
       "    </tr>\n",
       "    <tr>\n",
       "      <th>392</th>\n",
       "      <td>62630</td>\n",
       "      <td>28</td>\n",
       "      <td>5</td>\n",
       "      <td>34</td>\n",
       "      <td>23</td>\n",
       "      <td>20</td>\n",
       "    </tr>\n",
       "    <tr>\n",
       "      <th>393</th>\n",
       "      <td>76504</td>\n",
       "      <td>27</td>\n",
       "      <td>5</td>\n",
       "      <td>34</td>\n",
       "      <td>19</td>\n",
       "      <td>17</td>\n",
       "    </tr>\n",
       "    <tr>\n",
       "      <th>394</th>\n",
       "      <td>37789</td>\n",
       "      <td>17</td>\n",
       "      <td>3</td>\n",
       "      <td>34</td>\n",
       "      <td>19</td>\n",
       "      <td>19</td>\n",
       "    </tr>\n",
       "    <tr>\n",
       "      <th>395</th>\n",
       "      <td>13990</td>\n",
       "      <td>25</td>\n",
       "      <td>7</td>\n",
       "      <td>33</td>\n",
       "      <td>16</td>\n",
       "      <td>17</td>\n",
       "    </tr>\n",
       "  </tbody>\n",
       "</table>\n",
       "<p>396 rows × 6 columns</p>\n",
       "</div>"
      ],
      "text/plain": [
       "     Proband_id  pat_dnm  mat_dnm  tot_dnm  Father_age  Mother_age\n",
       "0         91410      111       10      122          51          34\n",
       "1        114094       98       22      121          51          44\n",
       "2        111288       93       21      115          53          44\n",
       "3          8147       78       27      114          40          33\n",
       "4         88246       87       25      113          56          46\n",
       "..          ...      ...      ...      ...         ...         ...\n",
       "391      121087       36        1       37          18          17\n",
       "392       62630       28        5       34          23          20\n",
       "393       76504       27        5       34          19          17\n",
       "394       37789       17        3       34          19          19\n",
       "395       13990       25        7       33          16          17\n",
       "\n",
       "[396 rows x 6 columns]"
      ]
     },
     "execution_count": 6,
     "metadata": {},
     "output_type": "execute_result"
    }
   ],
   "source": [
    "plotting_df = pd.merge(big, df_parental_age, on = \"Proband_id\")\n",
    "plotting_df"
   ]
  },
  {
   "cell_type": "markdown",
   "metadata": {},
   "source": [
    "## Plotting Mutation Number vs Age"
   ]
  },
  {
   "cell_type": "code",
   "execution_count": 7,
   "metadata": {},
   "outputs": [
    {
     "data": {
      "text/plain": [
       "(0.0, 125.0)"
      ]
     },
     "execution_count": 7,
     "metadata": {},
     "output_type": "execute_result"
    },
    {
     "data": {
      "image/png": "[encoded data removed]",
      "text/plain": [
       "<Figure size 288x720 with 2 Axes>"
      ]
     },
     "metadata": {
      "needs_background": "light"
     },
     "output_type": "display_data"
    }
   ],
   "source": [
    "fig, ax = plt.subplots(nrows = 2, figsize = (4, 10), sharex=True, sharey=True)\n",
    "ax[0].scatter(x = plotting_df['Mother_age'], y = plotting_df['mat_dnm'])\n",
    "ax[1].scatter(x = plotting_df['Father_age'], y = plotting_df['pat_dnm'])\n",
    "ax[0].set_title('Maternal mutation number vs age')\n",
    "ax[1].set_title('Paternal mutation number vs age')\n",
    "ax[0].set_xlabel('Maternal age')\n",
    "ax[0].set_ylabel('Mutation number')\n",
    "ax[1].set_xlabel('Paternal age')\n",
    "ax[1].set_ylabel('Mutation number')\n",
    "ax[0].set_xlim(10, 60)\n",
    "ax[0].set_ylim(0, 125)"
   ]
  },
  {
   "cell_type": "markdown",
   "metadata": {},
   "source": [
    "## Linear Regression"
   ]
  },
  {
   "cell_type": "code",
   "execution_count": 8,
   "metadata": {},
   "outputs": [
    {
     "data": {
      "text/html": [
       "<table class=\"simpletable\">\n",
       "<caption>OLS Regression Results</caption>\n",
       "<tr>\n",
       "  <th>Dep. Variable:</th>         <td>mat_dnm</td>     <th>  R-squared:         </th> <td>   0.228</td>\n",
       "</tr>\n",
       "<tr>\n",
       "  <th>Model:</th>                   <td>OLS</td>       <th>  Adj. R-squared:    </th> <td>   0.226</td>\n",
       "</tr>\n",
       "<tr>\n",
       "  <th>Method:</th>             <td>Least Squares</td>  <th>  F-statistic:       </th> <td>   116.0</td>\n",
       "</tr>\n",
       "<tr>\n",
       "  <th>Date:</th>             <td>Fri, 04 Sep 2020</td> <th>  Prob (F-statistic):</th> <td>6.88e-24</td>\n",
       "</tr>\n",
       "<tr>\n",
       "  <th>Time:</th>                 <td>15:12:47</td>     <th>  Log-Likelihood:    </th> <td> -1158.1</td>\n",
       "</tr>\n",
       "<tr>\n",
       "  <th>No. Observations:</th>      <td>   396</td>      <th>  AIC:               </th> <td>   2320.</td>\n",
       "</tr>\n",
       "<tr>\n",
       "  <th>Df Residuals:</th>          <td>   394</td>      <th>  BIC:               </th> <td>   2328.</td>\n",
       "</tr>\n",
       "<tr>\n",
       "  <th>Df Model:</th>              <td>     1</td>      <th>                     </th>     <td> </td>   \n",
       "</tr>\n",
       "<tr>\n",
       "  <th>Covariance Type:</th>      <td>nonrobust</td>    <th>                     </th>     <td> </td>   \n",
       "</tr>\n",
       "</table>\n",
       "<table class=\"simpletable\">\n",
       "<tr>\n",
       "       <td></td>         <th>coef</th>     <th>std err</th>      <th>t</th>      <th>P>|t|</th>  <th>[0.025</th>    <th>0.975]</th>  \n",
       "</tr>\n",
       "<tr>\n",
       "  <th>Intercept</th>  <td>    2.5040</td> <td>    0.981</td> <td>    2.553</td> <td> 0.011</td> <td>    0.576</td> <td>    4.432</td>\n",
       "</tr>\n",
       "<tr>\n",
       "  <th>Mother_age</th> <td>    0.3776</td> <td>    0.035</td> <td>   10.772</td> <td> 0.000</td> <td>    0.309</td> <td>    0.446</td>\n",
       "</tr>\n",
       "</table>\n",
       "<table class=\"simpletable\">\n",
       "<tr>\n",
       "  <th>Omnibus:</th>       <td>51.143</td> <th>  Durbin-Watson:     </th> <td>   1.923</td>\n",
       "</tr>\n",
       "<tr>\n",
       "  <th>Prob(Omnibus):</th> <td> 0.000</td> <th>  Jarque-Bera (JB):  </th> <td>  75.501</td>\n",
       "</tr>\n",
       "<tr>\n",
       "  <th>Skew:</th>          <td> 0.845</td> <th>  Prob(JB):          </th> <td>4.03e-17</td>\n",
       "</tr>\n",
       "<tr>\n",
       "  <th>Kurtosis:</th>      <td> 4.310</td> <th>  Cond. No.          </th> <td>    121.</td>\n",
       "</tr>\n",
       "</table><br/><br/>Notes:<br/>[1] Standard Errors assume that the covariance matrix of the errors is correctly specified."
      ],
      "text/plain": [
       "<class 'statsmodels.iolib.summary.Summary'>\n",
       "\"\"\"\n",
       "                            OLS Regression Results                            \n",
       "==============================================================================\n",
       "Dep. Variable:                mat_dnm   R-squared:                       0.228\n",
       "Model:                            OLS   Adj. R-squared:                  0.226\n",
       "Method:                 Least Squares   F-statistic:                     116.0\n",
       "Date:                Fri, 04 Sep 2020   Prob (F-statistic):           6.88e-24\n",
       "Time:                        15:12:47   Log-Likelihood:                -1158.1\n",
       "No. Observations:                 396   AIC:                             2320.\n",
       "Df Residuals:                     394   BIC:                             2328.\n",
       "Df Model:                           1                                         \n",
       "Covariance Type:            nonrobust                                         \n",
       "==============================================================================\n",
       "                 coef    std err          t      P>|t|      [0.025      0.975]\n",
       "------------------------------------------------------------------------------\n",
       "Intercept      2.5040      0.981      2.553      0.011       0.576       4.432\n",
       "Mother_age     0.3776      0.035     10.772      0.000       0.309       0.446\n",
       "==============================================================================\n",
       "Omnibus:                       51.143   Durbin-Watson:                   1.923\n",
       "Prob(Omnibus):                  0.000   Jarque-Bera (JB):               75.501\n",
       "Skew:                           0.845   Prob(JB):                     4.03e-17\n",
       "Kurtosis:                       4.310   Cond. No.                         121.\n",
       "==============================================================================\n",
       "\n",
       "Notes:\n",
       "[1] Standard Errors assume that the covariance matrix of the errors is correctly specified.\n",
       "\"\"\""
      ]
     },
     "execution_count": 8,
     "metadata": {},
     "output_type": "execute_result"
    }
   ],
   "source": [
    "model = smf.ols(formula = \"mat_dnm ~ 1 + Mother_age\", data = plotting_df) \n",
    "results = model.fit()\n",
    "results.summary()"
   ]
  },
  {
   "cell_type": "code",
   "execution_count": 9,
   "metadata": {},
   "outputs": [
    {
     "data": {
      "text/html": [
       "<table class=\"simpletable\">\n",
       "<caption>OLS Regression Results</caption>\n",
       "<tr>\n",
       "  <th>Dep. Variable:</th>         <td>pat_dnm</td>     <th>  R-squared:         </th> <td>   0.619</td>\n",
       "</tr>\n",
       "<tr>\n",
       "  <th>Model:</th>                   <td>OLS</td>       <th>  Adj. R-squared:    </th> <td>   0.618</td>\n",
       "</tr>\n",
       "<tr>\n",
       "  <th>Method:</th>             <td>Least Squares</td>  <th>  F-statistic:       </th> <td>   639.6</td>\n",
       "</tr>\n",
       "<tr>\n",
       "  <th>Date:</th>             <td>Fri, 04 Sep 2020</td> <th>  Prob (F-statistic):</th> <td>1.55e-84</td>\n",
       "</tr>\n",
       "<tr>\n",
       "  <th>Time:</th>                 <td>15:12:47</td>     <th>  Log-Likelihood:    </th> <td> -1406.6</td>\n",
       "</tr>\n",
       "<tr>\n",
       "  <th>No. Observations:</th>      <td>   396</td>      <th>  AIC:               </th> <td>   2817.</td>\n",
       "</tr>\n",
       "<tr>\n",
       "  <th>Df Residuals:</th>          <td>   394</td>      <th>  BIC:               </th> <td>   2825.</td>\n",
       "</tr>\n",
       "<tr>\n",
       "  <th>Df Model:</th>              <td>     1</td>      <th>                     </th>     <td> </td>   \n",
       "</tr>\n",
       "<tr>\n",
       "  <th>Covariance Type:</th>      <td>nonrobust</td>    <th>                     </th>     <td> </td>   \n",
       "</tr>\n",
       "</table>\n",
       "<table class=\"simpletable\">\n",
       "<tr>\n",
       "       <td></td>         <th>coef</th>     <th>std err</th>      <th>t</th>      <th>P>|t|</th>  <th>[0.025</th>    <th>0.975]</th>  \n",
       "</tr>\n",
       "<tr>\n",
       "  <th>Intercept</th>  <td>   10.3263</td> <td>    1.702</td> <td>    6.066</td> <td> 0.000</td> <td>    6.979</td> <td>   13.673</td>\n",
       "</tr>\n",
       "<tr>\n",
       "  <th>Father_age</th> <td>    1.3538</td> <td>    0.054</td> <td>   25.291</td> <td> 0.000</td> <td>    1.249</td> <td>    1.459</td>\n",
       "</tr>\n",
       "</table>\n",
       "<table class=\"simpletable\">\n",
       "<tr>\n",
       "  <th>Omnibus:</th>       <td> 7.687</td> <th>  Durbin-Watson:     </th> <td>   1.320</td>\n",
       "</tr>\n",
       "<tr>\n",
       "  <th>Prob(Omnibus):</th> <td> 0.021</td> <th>  Jarque-Bera (JB):  </th> <td>   8.185</td>\n",
       "</tr>\n",
       "<tr>\n",
       "  <th>Skew:</th>          <td> 0.256</td> <th>  Prob(JB):          </th> <td>  0.0167</td>\n",
       "</tr>\n",
       "<tr>\n",
       "  <th>Kurtosis:</th>      <td> 3.483</td> <th>  Cond. No.          </th> <td>    127.</td>\n",
       "</tr>\n",
       "</table><br/><br/>Notes:<br/>[1] Standard Errors assume that the covariance matrix of the errors is correctly specified."
      ],
      "text/plain": [
       "<class 'statsmodels.iolib.summary.Summary'>\n",
       "\"\"\"\n",
       "                            OLS Regression Results                            \n",
       "==============================================================================\n",
       "Dep. Variable:                pat_dnm   R-squared:                       0.619\n",
       "Model:                            OLS   Adj. R-squared:                  0.618\n",
       "Method:                 Least Squares   F-statistic:                     639.6\n",
       "Date:                Fri, 04 Sep 2020   Prob (F-statistic):           1.55e-84\n",
       "Time:                        15:12:47   Log-Likelihood:                -1406.6\n",
       "No. Observations:                 396   AIC:                             2817.\n",
       "Df Residuals:                     394   BIC:                             2825.\n",
       "Df Model:                           1                                         \n",
       "Covariance Type:            nonrobust                                         \n",
       "==============================================================================\n",
       "                 coef    std err          t      P>|t|      [0.025      0.975]\n",
       "------------------------------------------------------------------------------\n",
       "Intercept     10.3263      1.702      6.066      0.000       6.979      13.673\n",
       "Father_age     1.3538      0.054     25.291      0.000       1.249       1.459\n",
       "==============================================================================\n",
       "Omnibus:                        7.687   Durbin-Watson:                   1.320\n",
       "Prob(Omnibus):                  0.021   Jarque-Bera (JB):                8.185\n",
       "Skew:                           0.256   Prob(JB):                       0.0167\n",
       "Kurtosis:                       3.483   Cond. No.                         127.\n",
       "==============================================================================\n",
       "\n",
       "Notes:\n",
       "[1] Standard Errors assume that the covariance matrix of the errors is correctly specified.\n",
       "\"\"\""
      ]
     },
     "execution_count": 9,
     "metadata": {},
     "output_type": "execute_result"
    }
   ],
   "source": [
    "model = smf.ols(formula = \"pat_dnm ~ 1 + Father_age\", data = plotting_df) \n",
    "results = model.fit()\n",
    "results.summary()"
   ]
  },
  {
   "cell_type": "markdown",
   "metadata": {},
   "source": [
    "Both relationships have highly significant p-values, indicating that both maternal and paternal ages have significant impact on number of mutations. It is worth noting that male age has a much larger impact on mutation number than female age. The F statistic is more than higher and the slope is 1.35838 vs 0.3776. "
   ]
  },
  {
   "cell_type": "markdown",
   "metadata": {},
   "source": [
    "## Number of Maternal vs Paternal Mutations Histogram"
   ]
  },
  {
   "cell_type": "code",
   "execution_count": 18,
   "metadata": {},
   "outputs": [
    {
     "data": {
      "text/plain": [
       "<function matplotlib.pyplot.show>"
      ]
     },
     "execution_count": 18,
     "metadata": {},
     "output_type": "execute_result"
    },
    {
     "data": {
      "image/png": "[encoded data removed]",
      "text/plain": [
       "<Figure size 432x288 with 1 Axes>"
      ]
     },
     "metadata": {
      "needs_background": "light"
     },
     "output_type": "display_data"
    }
   ],
   "source": [
    "fig, ax = plt.subplots()\n",
    "ax.hist( plotting_df[\"pat_dnm\"],  alpha = 0.6, label = 'paternal')\n",
    "ax.hist( plotting_df[\"mat_dnm\"],  alpha = 0.6, label = 'maternal')\n",
    "ax.set_xlabel('Number of de novo mutations')\n",
    "ax.set_ylabel('Count')\n",
    "plt.legend()\n",
    "plt.show"
   ]
  },
  {
   "cell_type": "code",
   "execution_count": 11,
   "metadata": {},
   "outputs": [
    {
     "data": {
      "text/plain": [
       "Ttest_indResult(statistic=53.403565287269245, pvalue=2.1986031793078793e-264)"
      ]
     },
     "execution_count": 11,
     "metadata": {},
     "output_type": "execute_result"
    }
   ],
   "source": [
    "stats.ttest_ind(plotting_df[\"pat_dnm\"], \n",
    "                plotting_df[\"mat_dnm\"])"
   ]
  },
  {
   "cell_type": "markdown",
   "metadata": {},
   "source": [
    "## Fitting Poisson Model"
   ]
  },
  {
   "cell_type": "code",
   "execution_count": 12,
   "metadata": {
    "scrolled": true
   },
   "outputs": [
    {
     "name": "stdout",
     "output_type": "stream",
     "text": [
      "Optimization terminated successfully.\n",
      "         Current function value: 2.927974\n",
      "         Iterations 5\n"
     ]
    },
    {
     "data": {
      "text/html": [
       "<table class=\"simpletable\">\n",
       "<caption>Poisson Regression Results</caption>\n",
       "<tr>\n",
       "  <th>Dep. Variable:</th>        <td>mat_dnm</td>     <th>  No. Observations:  </th>  <td>   396</td>  \n",
       "</tr>\n",
       "<tr>\n",
       "  <th>Model:</th>                <td>Poisson</td>     <th>  Df Residuals:      </th>  <td>   394</td>  \n",
       "</tr>\n",
       "<tr>\n",
       "  <th>Method:</th>                 <td>MLE</td>       <th>  Df Model:          </th>  <td>     1</td>  \n",
       "</tr>\n",
       "<tr>\n",
       "  <th>Date:</th>            <td>Fri, 04 Sep 2020</td> <th>  Pseudo R-squ.:     </th>  <td>0.07164</td> \n",
       "</tr>\n",
       "<tr>\n",
       "  <th>Time:</th>                <td>15:12:47</td>     <th>  Log-Likelihood:    </th> <td> -1159.5</td> \n",
       "</tr>\n",
       "<tr>\n",
       "  <th>converged:</th>             <td>True</td>       <th>  LL-Null:           </th> <td> -1248.9</td> \n",
       "</tr>\n",
       "<tr>\n",
       "  <th>Covariance Type:</th>     <td>nonrobust</td>    <th>  LLR p-value:       </th> <td>8.241e-41</td>\n",
       "</tr>\n",
       "</table>\n",
       "<table class=\"simpletable\">\n",
       "<tr>\n",
       "       <td></td>         <th>coef</th>     <th>std err</th>      <th>z</th>      <th>P>|z|</th>  <th>[0.025</th>    <th>0.975]</th>  \n",
       "</tr>\n",
       "<tr>\n",
       "  <th>Intercept</th>  <td>    1.7671</td> <td>    0.060</td> <td>   29.235</td> <td> 0.000</td> <td>    1.649</td> <td>    1.886</td>\n",
       "</tr>\n",
       "<tr>\n",
       "  <th>Mother_age</th> <td>    0.0281</td> <td>    0.002</td> <td>   13.582</td> <td> 0.000</td> <td>    0.024</td> <td>    0.032</td>\n",
       "</tr>\n",
       "</table>"
      ],
      "text/plain": [
       "<class 'statsmodels.iolib.summary.Summary'>\n",
       "\"\"\"\n",
       "                          Poisson Regression Results                          \n",
       "==============================================================================\n",
       "Dep. Variable:                mat_dnm   No. Observations:                  396\n",
       "Model:                        Poisson   Df Residuals:                      394\n",
       "Method:                           MLE   Df Model:                            1\n",
       "Date:                Fri, 04 Sep 2020   Pseudo R-squ.:                 0.07164\n",
       "Time:                        15:12:47   Log-Likelihood:                -1159.5\n",
       "converged:                       True   LL-Null:                       -1248.9\n",
       "Covariance Type:            nonrobust   LLR p-value:                 8.241e-41\n",
       "==============================================================================\n",
       "                 coef    std err          z      P>|z|      [0.025      0.975]\n",
       "------------------------------------------------------------------------------\n",
       "Intercept      1.7671      0.060     29.235      0.000       1.649       1.886\n",
       "Mother_age     0.0281      0.002     13.582      0.000       0.024       0.032\n",
       "==============================================================================\n",
       "\"\"\""
      ]
     },
     "execution_count": 12,
     "metadata": {},
     "output_type": "execute_result"
    }
   ],
   "source": [
    "model = smf.poisson(formula = \"mat_dnm ~ 1 + Mother_age\", data = plotting_df) \n",
    "mat_results = model.fit()\n",
    "mat_results.summary()"
   ]
  },
  {
   "cell_type": "code",
   "execution_count": 13,
   "metadata": {},
   "outputs": [
    {
     "name": "stdout",
     "output_type": "stream",
     "text": [
      "Optimization terminated successfully.\n",
      "         Current function value: 3.578620\n",
      "         Iterations 5\n"
     ]
    },
    {
     "data": {
      "text/html": [
       "<table class=\"simpletable\">\n",
       "<caption>Poisson Regression Results</caption>\n",
       "<tr>\n",
       "  <th>Dep. Variable:</th>        <td>pat_dnm</td>     <th>  No. Observations:  </th>   <td>   396</td>  \n",
       "</tr>\n",
       "<tr>\n",
       "  <th>Model:</th>                <td>Poisson</td>     <th>  Df Residuals:      </th>   <td>   394</td>  \n",
       "</tr>\n",
       "<tr>\n",
       "  <th>Method:</th>                 <td>MLE</td>       <th>  Df Model:          </th>   <td>     1</td>  \n",
       "</tr>\n",
       "<tr>\n",
       "  <th>Date:</th>            <td>Fri, 04 Sep 2020</td> <th>  Pseudo R-squ.:     </th>   <td>0.2277</td>  \n",
       "</tr>\n",
       "<tr>\n",
       "  <th>Time:</th>                <td>15:12:48</td>     <th>  Log-Likelihood:    </th>  <td> -1417.1</td> \n",
       "</tr>\n",
       "<tr>\n",
       "  <th>converged:</th>             <td>True</td>       <th>  LL-Null:           </th>  <td> -1834.9</td> \n",
       "</tr>\n",
       "<tr>\n",
       "  <th>Covariance Type:</th>     <td>nonrobust</td>    <th>  LLR p-value:       </th> <td>1.004e-183</td>\n",
       "</tr>\n",
       "</table>\n",
       "<table class=\"simpletable\">\n",
       "<tr>\n",
       "       <td></td>         <th>coef</th>     <th>std err</th>      <th>z</th>      <th>P>|z|</th>  <th>[0.025</th>    <th>0.975]</th>  \n",
       "</tr>\n",
       "<tr>\n",
       "  <th>Intercept</th>  <td>    3.1903</td> <td>    0.027</td> <td>  116.856</td> <td> 0.000</td> <td>    3.137</td> <td>    3.244</td>\n",
       "</tr>\n",
       "<tr>\n",
       "  <th>Father_age</th> <td>    0.0241</td> <td>    0.001</td> <td>   29.608</td> <td> 0.000</td> <td>    0.023</td> <td>    0.026</td>\n",
       "</tr>\n",
       "</table>"
      ],
      "text/plain": [
       "<class 'statsmodels.iolib.summary.Summary'>\n",
       "\"\"\"\n",
       "                          Poisson Regression Results                          \n",
       "==============================================================================\n",
       "Dep. Variable:                pat_dnm   No. Observations:                  396\n",
       "Model:                        Poisson   Df Residuals:                      394\n",
       "Method:                           MLE   Df Model:                            1\n",
       "Date:                Fri, 04 Sep 2020   Pseudo R-squ.:                  0.2277\n",
       "Time:                        15:12:48   Log-Likelihood:                -1417.1\n",
       "converged:                       True   LL-Null:                       -1834.9\n",
       "Covariance Type:            nonrobust   LLR p-value:                1.004e-183\n",
       "==============================================================================\n",
       "                 coef    std err          z      P>|z|      [0.025      0.975]\n",
       "------------------------------------------------------------------------------\n",
       "Intercept      3.1903      0.027    116.856      0.000       3.137       3.244\n",
       "Father_age     0.0241      0.001     29.608      0.000       0.023       0.026\n",
       "==============================================================================\n",
       "\"\"\""
      ]
     },
     "execution_count": 13,
     "metadata": {},
     "output_type": "execute_result"
    }
   ],
   "source": [
    "pat_model = smf.poisson(formula = \"pat_dnm ~ 1 + Father_age\", data = plotting_df) \n",
    "pat_results = pat_model.fit()\n",
    "pat_results.summary()"
   ]
  },
  {
   "cell_type": "code",
   "execution_count": 14,
   "metadata": {},
   "outputs": [
    {
     "name": "stdout",
     "output_type": "stream",
     "text": [
      "Optimization terminated successfully.\n",
      "         Current function value: 3.011762\n",
      "         Iterations 4\n"
     ]
    },
    {
     "data": {
      "text/html": [
       "<table class=\"simpletable\">\n",
       "<caption>Poisson Regression Results</caption>\n",
       "<tr>\n",
       "  <th>Dep. Variable:</th>        <td>mat_dnm</td>     <th>  No. Observations:  </th>  <td>   396</td>  \n",
       "</tr>\n",
       "<tr>\n",
       "  <th>Model:</th>                <td>Poisson</td>     <th>  Df Residuals:      </th>  <td>   394</td>  \n",
       "</tr>\n",
       "<tr>\n",
       "  <th>Method:</th>                 <td>MLE</td>       <th>  Df Model:          </th>  <td>     1</td>  \n",
       "</tr>\n",
       "<tr>\n",
       "  <th>Date:</th>            <td>Fri, 04 Sep 2020</td> <th>  Pseudo R-squ.:     </th>  <td>0.04507</td> \n",
       "</tr>\n",
       "<tr>\n",
       "  <th>Time:</th>                <td>15:12:48</td>     <th>  Log-Likelihood:    </th> <td> -1192.7</td> \n",
       "</tr>\n",
       "<tr>\n",
       "  <th>converged:</th>             <td>True</td>       <th>  LL-Null:           </th> <td> -1248.9</td> \n",
       "</tr>\n",
       "<tr>\n",
       "  <th>Covariance Type:</th>     <td>nonrobust</td>    <th>  LLR p-value:       </th> <td>2.662e-26</td>\n",
       "</tr>\n",
       "</table>\n",
       "<table class=\"simpletable\">\n",
       "<tr>\n",
       "      <td></td>         <th>coef</th>     <th>std err</th>      <th>z</th>      <th>P>|z|</th>  <th>[0.025</th>    <th>0.975]</th>  \n",
       "</tr>\n",
       "<tr>\n",
       "  <th>Intercept</th> <td>    1.9885</td> <td>    0.055</td> <td>   36.355</td> <td> 0.000</td> <td>    1.881</td> <td>    2.096</td>\n",
       "</tr>\n",
       "<tr>\n",
       "  <th>pat_dnm</th>   <td>    0.0105</td> <td>    0.001</td> <td>   10.793</td> <td> 0.000</td> <td>    0.009</td> <td>    0.012</td>\n",
       "</tr>\n",
       "</table>"
      ],
      "text/plain": [
       "<class 'statsmodels.iolib.summary.Summary'>\n",
       "\"\"\"\n",
       "                          Poisson Regression Results                          \n",
       "==============================================================================\n",
       "Dep. Variable:                mat_dnm   No. Observations:                  396\n",
       "Model:                        Poisson   Df Residuals:                      394\n",
       "Method:                           MLE   Df Model:                            1\n",
       "Date:                Fri, 04 Sep 2020   Pseudo R-squ.:                 0.04507\n",
       "Time:                        15:12:48   Log-Likelihood:                -1192.7\n",
       "converged:                       True   LL-Null:                       -1248.9\n",
       "Covariance Type:            nonrobust   LLR p-value:                 2.662e-26\n",
       "==============================================================================\n",
       "                 coef    std err          z      P>|z|      [0.025      0.975]\n",
       "------------------------------------------------------------------------------\n",
       "Intercept      1.9885      0.055     36.355      0.000       1.881       2.096\n",
       "pat_dnm        0.0105      0.001     10.793      0.000       0.009       0.012\n",
       "==============================================================================\n",
       "\"\"\""
      ]
     },
     "execution_count": 14,
     "metadata": {},
     "output_type": "execute_result"
    }
   ],
   "source": [
    "model = smf.poisson(formula = \"mat_dnm ~ 1 + pat_dnm\", data = plotting_df) \n",
    "mat_vs_pat_results = model.fit()\n",
    "mat_vs_pat_results.summary()"
   ]
  },
  {
   "cell_type": "markdown",
   "metadata": {},
   "source": [
    "## Predicting from Poisson"
   ]
  },
  {
   "cell_type": "code",
   "execution_count": 15,
   "metadata": {},
   "outputs": [
    {
     "data": {
      "text/plain": [
       "Intercept     3.190257\n",
       "Father_age    0.024096\n",
       "dtype: float64"
      ]
     },
     "execution_count": 15,
     "metadata": {},
     "output_type": "execute_result"
    }
   ],
   "source": [
    "pat_results.params"
   ]
  },
  {
   "cell_type": "code",
   "execution_count": 16,
   "metadata": {},
   "outputs": [
    {
     "data": {
      "text/plain": [
       "82.03163782612788"
      ]
     },
     "execution_count": 16,
     "metadata": {},
     "output_type": "execute_result"
    }
   ],
   "source": [
    "math.exp(3.190257 + 0.024096*50.5)"
   ]
  },
  {
   "cell_type": "code",
   "execution_count": null,
   "metadata": {},
   "outputs": [],
   "source": []
  },
  {
   "cell_type": "code",
   "execution_count": null,
   "metadata": {},
   "outputs": [],
   "source": []
  },
  {
   "cell_type": "code",
   "execution_count": null,
   "metadata": {},
   "outputs": [],
   "source": []
  },
  {
   "cell_type": "code",
   "execution_count": null,
   "metadata": {},
   "outputs": [],
   "source": []
  }
 ],
 "metadata": {
  "kernelspec": {
   "display_name": "Python 3",
   "language": "python",
   "name": "python3"
  },
  "language_info": {
   "codemirror_mode": {
    "name": "ipython",
    "version": 3
   },
   "file_extension": ".py",
   "mimetype": "text/x-python",
   "name": "python",
   "nbconvert_exporter": "python",
   "pygments_lexer": "ipython3",
   "version": "3.6.10"
  }
 },
 "nbformat": 4,
 "nbformat_minor": 4
}
