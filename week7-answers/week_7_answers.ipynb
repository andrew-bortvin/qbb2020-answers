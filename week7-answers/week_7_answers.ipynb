{
 "cells": [
  {
   "cell_type": "markdown",
   "metadata": {},
   "source": [
    "# Clustering"
   ]
  },
  {
   "cell_type": "markdown",
   "metadata": {},
   "source": [
    "Loading in data"
   ]
  },
  {
   "cell_type": "code",
   "execution_count": 195,
   "metadata": {},
   "outputs": [],
   "source": [
    "fpkms = pd.read_csv(\"all_annotated.csv\")"
   ]
  },
  {
   "cell_type": "markdown",
   "metadata": {},
   "source": [
    "Filtering by median value"
   ]
  },
  {
   "cell_type": "code",
   "execution_count": 196,
   "metadata": {
    "scrolled": true
   },
   "outputs": [],
   "source": [
    "fpkms_filtered_by_median = fpkms[fpkms.median(axis = 1, numeric_only=True) > 0]"
   ]
  },
  {
   "cell_type": "code",
   "execution_count": 197,
   "metadata": {},
   "outputs": [
    {
     "data": {
      "text/html": [
       "<div>\n",
       "<style scoped>\n",
       "    .dataframe tbody tr th:only-of-type {\n",
       "        vertical-align: middle;\n",
       "    }\n",
       "\n",
       "    .dataframe tbody tr th {\n",
       "        vertical-align: top;\n",
       "    }\n",
       "\n",
       "    .dataframe thead th {\n",
       "        text-align: right;\n",
       "    }\n",
       "</style>\n",
       "<table border=\"1\" class=\"dataframe\">\n",
       "  <thead>\n",
       "    <tr style=\"text-align: right;\">\n",
       "      <th></th>\n",
       "      <th>t_name</th>\n",
       "      <th>gene_name</th>\n",
       "    </tr>\n",
       "  </thead>\n",
       "  <tbody>\n",
       "    <tr>\n",
       "      <th>8</th>\n",
       "      <td>FBtr0113885</td>\n",
       "      <td>Parp</td>\n",
       "    </tr>\n",
       "    <tr>\n",
       "      <th>9</th>\n",
       "      <td>FBtr0301810</td>\n",
       "      <td>Alg-2</td>\n",
       "    </tr>\n",
       "    <tr>\n",
       "      <th>10</th>\n",
       "      <td>FBtr0113895</td>\n",
       "      <td>Tim17b</td>\n",
       "    </tr>\n",
       "    <tr>\n",
       "      <th>11</th>\n",
       "      <td>FBtr0345179</td>\n",
       "      <td>Tim17b</td>\n",
       "    </tr>\n",
       "    <tr>\n",
       "      <th>12</th>\n",
       "      <td>FBtr0301812</td>\n",
       "      <td>CG41128</td>\n",
       "    </tr>\n",
       "    <tr>\n",
       "      <th>13</th>\n",
       "      <td>FBtr0113990</td>\n",
       "      <td>CG41099</td>\n",
       "    </tr>\n",
       "    <tr>\n",
       "      <th>16</th>\n",
       "      <td>FBtr0113989</td>\n",
       "      <td>CG41099</td>\n",
       "    </tr>\n",
       "    <tr>\n",
       "      <th>32</th>\n",
       "      <td>FBtr0078962</td>\n",
       "      <td>CG12581</td>\n",
       "    </tr>\n",
       "    <tr>\n",
       "      <th>37</th>\n",
       "      <td>FBtr0078964</td>\n",
       "      <td>CG12582</td>\n",
       "    </tr>\n",
       "    <tr>\n",
       "      <th>41</th>\n",
       "      <td>FBtr0336702</td>\n",
       "      <td>CG12582</td>\n",
       "    </tr>\n",
       "    <tr>\n",
       "      <th>46</th>\n",
       "      <td>FBtr0078966</td>\n",
       "      <td>aux</td>\n",
       "    </tr>\n",
       "    <tr>\n",
       "      <th>47</th>\n",
       "      <td>FBtr0336705</td>\n",
       "      <td>aux</td>\n",
       "    </tr>\n",
       "    <tr>\n",
       "      <th>50</th>\n",
       "      <td>FBtr0078985</td>\n",
       "      <td>CG14641</td>\n",
       "    </tr>\n",
       "    <tr>\n",
       "      <th>51</th>\n",
       "      <td>FBtr0078967</td>\n",
       "      <td>abs</td>\n",
       "    </tr>\n",
       "    <tr>\n",
       "      <th>102</th>\n",
       "      <td>FBtr0078958</td>\n",
       "      <td>Vps24</td>\n",
       "    </tr>\n",
       "    <tr>\n",
       "      <th>107</th>\n",
       "      <td>FBtr0336484</td>\n",
       "      <td>CG9795</td>\n",
       "    </tr>\n",
       "    <tr>\n",
       "      <th>109</th>\n",
       "      <td>FBtr0336483</td>\n",
       "      <td>CG9795</td>\n",
       "    </tr>\n",
       "    <tr>\n",
       "      <th>111</th>\n",
       "      <td>FBtr0078955</td>\n",
       "      <td>CG9776</td>\n",
       "    </tr>\n",
       "    <tr>\n",
       "      <th>113</th>\n",
       "      <td>FBtr0078953</td>\n",
       "      <td>Skp2</td>\n",
       "    </tr>\n",
       "    <tr>\n",
       "      <th>115</th>\n",
       "      <td>FBtr0344740</td>\n",
       "      <td>Skp2</td>\n",
       "    </tr>\n",
       "    <tr>\n",
       "      <th>116</th>\n",
       "      <td>FBtr0078909</td>\n",
       "      <td>CG1103</td>\n",
       "    </tr>\n",
       "    <tr>\n",
       "      <th>117</th>\n",
       "      <td>FBtr0111220</td>\n",
       "      <td>CG1103</td>\n",
       "    </tr>\n",
       "    <tr>\n",
       "      <th>118</th>\n",
       "      <td>FBtr0078951</td>\n",
       "      <td>hkb</td>\n",
       "    </tr>\n",
       "    <tr>\n",
       "      <th>125</th>\n",
       "      <td>FBtr0078914</td>\n",
       "      <td>CG11739</td>\n",
       "    </tr>\n",
       "    <tr>\n",
       "      <th>126</th>\n",
       "      <td>FBtr0078915</td>\n",
       "      <td>CG11739</td>\n",
       "    </tr>\n",
       "    <tr>\n",
       "      <th>127</th>\n",
       "      <td>FBtr0078916</td>\n",
       "      <td>CG11739</td>\n",
       "    </tr>\n",
       "    <tr>\n",
       "      <th>130</th>\n",
       "      <td>FBtr0302339</td>\n",
       "      <td>CG14646</td>\n",
       "    </tr>\n",
       "    <tr>\n",
       "      <th>131</th>\n",
       "      <td>FBtr0078919</td>\n",
       "      <td>CG14646</td>\n",
       "    </tr>\n",
       "    <tr>\n",
       "      <th>138</th>\n",
       "      <td>FBtr0339552</td>\n",
       "      <td>CG9855</td>\n",
       "    </tr>\n",
       "  </tbody>\n",
       "</table>\n",
       "</div>"
      ],
      "text/plain": [
       "          t_name gene_name\n",
       "8    FBtr0113885      Parp\n",
       "9    FBtr0301810     Alg-2\n",
       "10   FBtr0113895    Tim17b\n",
       "11   FBtr0345179    Tim17b\n",
       "12   FBtr0301812   CG41128\n",
       "13   FBtr0113990   CG41099\n",
       "16   FBtr0113989   CG41099\n",
       "32   FBtr0078962   CG12581\n",
       "37   FBtr0078964   CG12582\n",
       "41   FBtr0336702   CG12582\n",
       "46   FBtr0078966       aux\n",
       "47   FBtr0336705       aux\n",
       "50   FBtr0078985   CG14641\n",
       "51   FBtr0078967       abs\n",
       "102  FBtr0078958     Vps24\n",
       "107  FBtr0336484    CG9795\n",
       "109  FBtr0336483    CG9795\n",
       "111  FBtr0078955    CG9776\n",
       "113  FBtr0078953      Skp2\n",
       "115  FBtr0344740      Skp2\n",
       "116  FBtr0078909    CG1103\n",
       "117  FBtr0111220    CG1103\n",
       "118  FBtr0078951       hkb\n",
       "125  FBtr0078914   CG11739\n",
       "126  FBtr0078915   CG11739\n",
       "127  FBtr0078916   CG11739\n",
       "130  FBtr0302339   CG14646\n",
       "131  FBtr0078919   CG14646\n",
       "138  FBtr0339552    CG9855"
      ]
     },
     "execution_count": 197,
     "metadata": {},
     "output_type": "execute_result"
    }
   ],
   "source": [
    "fpkms_log2_values = np.log2(fpkms_filtered_by_median.iloc[:,2:] + 0.1)\n",
    "fpkms_log2 = pd.concat([fpkms_filtered_by_median.iloc[:,0:2], fpkms_log2_values], axis=1)\n",
    "gene_names = fpkms_filtered_by_median.iloc[:,0:2]\n",
    "gene_names[1:30]"
   ]
  },
  {
   "cell_type": "markdown",
   "metadata": {},
   "source": [
    "### Clustering by gene"
   ]
  },
  {
   "cell_type": "code",
   "execution_count": 41,
   "metadata": {},
   "outputs": [],
   "source": [
    "Z = linkage(fpkms_log2_values)"
   ]
  },
  {
   "cell_type": "markdown",
   "metadata": {},
   "source": [
    "Generating new row indices based on linkage"
   ]
  },
  {
   "cell_type": "code",
   "execution_count": 199,
   "metadata": {},
   "outputs": [
    {
     "data": {
      "text/plain": [
       "[1771,\n",
       " 15545,\n",
       " 1772,\n",
       " 14830,\n",
       " 2363,\n",
       " 19839,\n",
       " 23263,\n",
       " 16661,\n",
       " 6338,\n",
       " 10512,\n",
       " 32515,\n",
       " 28760,\n",
       " 10117,\n",
       " 24624,\n",
       " 12715,\n",
       " 3809,\n",
       " 21759,\n",
       " 12573,\n",
       " 25969,\n",
       " 30701,\n",
       " 2131,\n",
       " 12716,\n",
       " 7530,\n",
       " 26673,\n",
       " 30238,\n",
       " 16622,\n",
       " 33232,\n",
       " 18355,\n",
       " 21068,\n",
       " 32467,\n",
       " 2151,\n",
       " 1203,\n",
       " 18925,\n",
       " 9136,\n",
       " 487,\n",
       " 1522,\n",
       " 7896,\n",
       " 7897,\n",
       " 1578]"
      ]
     },
     "execution_count": 199,
     "metadata": {},
     "output_type": "execute_result"
    }
   ],
   "source": [
    "row_indexes = list(leaves_list(Z))\n",
    "row_indexes_reordered = []\n",
    "rows = list(fpkms_log2_values.index)\n",
    "for i in row_indexes:\n",
    "    row_indexes_reordered.append(rows[i])\n",
    "row_indexes_reordered[1:40]"
   ]
  },
  {
   "cell_type": "markdown",
   "metadata": {},
   "source": [
    "### Clustering by sample"
   ]
  },
  {
   "cell_type": "code",
   "execution_count": 31,
   "metadata": {},
   "outputs": [],
   "source": [
    "fpkms_log2_values_tranpose=fpkms_log2_values.transpose()"
   ]
  },
  {
   "cell_type": "code",
   "execution_count": 32,
   "metadata": {},
   "outputs": [],
   "source": [
    "Z=linkage(fpkms_log2_values_tranpose)"
   ]
  },
  {
   "cell_type": "markdown",
   "metadata": {},
   "source": [
    "Generating column order based on "
   ]
  },
  {
   "cell_type": "code",
   "execution_count": 33,
   "metadata": {},
   "outputs": [
    {
     "data": {
      "text/plain": [
       "['male_14C',\n",
       " 'female_14C',\n",
       " 'male_14D',\n",
       " 'female_14D',\n",
       " 'male_14B',\n",
       " 'female_14B',\n",
       " 'male_11',\n",
       " 'male_14A',\n",
       " 'female_14A',\n",
       " 'female_13',\n",
       " 'female_11',\n",
       " 'male_13',\n",
       " 'female_10',\n",
       " 'male_10',\n",
       " 'male_12',\n",
       " 'female_12']"
      ]
     },
     "execution_count": 33,
     "metadata": {},
     "output_type": "execute_result"
    }
   ],
   "source": [
    "col_index = list(leaves_list(Z))\n",
    "cols = list(fpkms_log2_values.columns)\n",
    "rows_reorg = []\n",
    "for i in col_index:\n",
    "    rows_reorg.append(cols[i])\n",
    "rows_reorg"
   ]
  },
  {
   "cell_type": "code",
   "execution_count": 34,
   "metadata": {},
   "outputs": [
    {
     "data": {
      "text/plain": [
       "{'icoord': [[25.0, 25.0, 35.0, 35.0],\n",
       "  [15.0, 15.0, 30.0, 30.0],\n",
       "  [5.0, 5.0, 22.5, 22.5],\n",
       "  [45.0, 45.0, 55.0, 55.0],\n",
       "  [75.0, 75.0, 85.0, 85.0],\n",
       "  [145.0, 145.0, 155.0, 155.0],\n",
       "  [135.0, 135.0, 150.0, 150.0],\n",
       "  [125.0, 125.0, 142.5, 142.5],\n",
       "  [115.0, 115.0, 133.75, 133.75],\n",
       "  [105.0, 105.0, 124.375, 124.375],\n",
       "  [95.0, 95.0, 114.6875, 114.6875],\n",
       "  [80.0, 80.0, 104.84375, 104.84375],\n",
       "  [65.0, 65.0, 92.421875, 92.421875],\n",
       "  [50.0, 50.0, 78.7109375, 78.7109375],\n",
       "  [13.75, 13.75, 64.35546875, 64.35546875]],\n",
       " 'dcoord': [[0.0, 199.06693917317384, 199.06693917317384, 0.0],\n",
       "  [0.0, 200.97140686659216, 200.97140686659216, 199.06693917317384],\n",
       "  [0.0, 203.82033861587234, 203.82033861587234, 200.97140686659216],\n",
       "  [0.0, 225.02139065289109, 225.02139065289109, 0.0],\n",
       "  [0.0, 176.95961019657616, 176.95961019657616, 0.0],\n",
       "  [0.0, 148.8023324368892, 148.8023324368892, 0.0],\n",
       "  [0.0, 161.18226855729915, 161.18226855729915, 148.8023324368892],\n",
       "  [0.0, 167.16634436378374, 167.16634436378374, 161.18226855729915],\n",
       "  [0.0, 202.90476828940638, 202.90476828940638, 167.16634436378374],\n",
       "  [0.0, 210.2901826941041, 210.2901826941041, 202.90476828940638],\n",
       "  [0.0, 210.35348061720973, 210.35348061720973, 210.2901826941041],\n",
       "  [176.95961019657616,\n",
       "   223.87927412487366,\n",
       "   223.87927412487366,\n",
       "   210.35348061720973],\n",
       "  [0.0, 230.93512591839476, 230.93512591839476, 223.87927412487366],\n",
       "  [225.02139065289109,\n",
       "   242.4458861999216,\n",
       "   242.4458861999216,\n",
       "   230.93512591839476],\n",
       "  [203.82033861587234,\n",
       "   281.7486002257326,\n",
       "   281.7486002257326,\n",
       "   242.4458861999216]],\n",
       " 'ivl': ['male_14C',\n",
       "  'female_14C',\n",
       "  'male_14D',\n",
       "  'female_14D',\n",
       "  'male_14B',\n",
       "  'female_14B',\n",
       "  'male_11',\n",
       "  'male_14A',\n",
       "  'female_14A',\n",
       "  'female_13',\n",
       "  'female_11',\n",
       "  'male_13',\n",
       "  'female_10',\n",
       "  'male_10',\n",
       "  'male_12',\n",
       "  'female_12'],\n",
       " 'leaves': [6, 14, 7, 15, 5, 13, 1, 4, 12, 11, 9, 3, 8, 0, 2, 10],\n",
       " 'color_list': ['C0',\n",
       "  'C0',\n",
       "  'C0',\n",
       "  'C0',\n",
       "  'C1',\n",
       "  'C2',\n",
       "  'C2',\n",
       "  'C2',\n",
       "  'C0',\n",
       "  'C0',\n",
       "  'C0',\n",
       "  'C0',\n",
       "  'C0',\n",
       "  'C0',\n",
       "  'C0']}"
      ]
     },
     "execution_count": 34,
     "metadata": {},
     "output_type": "execute_result"
    },
    {
     "data": {
      "image/png": "[encoded data removed]",
      "text/plain": [
       "<Figure size 432x288 with 1 Axes>"
      ]
     },
     "metadata": {
      "needs_background": "light"
     },
     "output_type": "display_data"
    }
   ],
   "source": [
    "dendrogram(Z, labels = fpkms_log2_values.columns, leaf_rotation = 90)"
   ]
  },
  {
   "cell_type": "markdown",
   "metadata": {},
   "source": [
    "Generating reorganized df using lists generated above."
   ]
  },
  {
   "cell_type": "code",
   "execution_count": 44,
   "metadata": {
    "scrolled": true
   },
   "outputs": [],
   "source": [
    "heatmap_data=fpkms_log2_values[rows_reorg].reindex(row_indexes_reordered)"
   ]
  },
  {
   "cell_type": "code",
   "execution_count": 47,
   "metadata": {},
   "outputs": [
    {
     "data": {
      "image/png": "[encoded data removed]",
      "text/plain": [
       "<Figure size 432x288 with 2 Axes>"
      ]
     },
     "metadata": {
      "needs_background": "light"
     },
     "output_type": "display_data"
    }
   ],
   "source": [
    "ax = sns.heatmap(heatmap_data)"
   ]
  },
  {
   "cell_type": "markdown",
   "metadata": {},
   "source": [
    "# DGE\n",
    "\n",
    "## Without sex"
   ]
  },
  {
   "cell_type": "code",
   "execution_count": 160,
   "metadata": {},
   "outputs": [
    {
     "data": {
      "text/html": [
       "<div>\n",
       "<style scoped>\n",
       "    .dataframe tbody tr th:only-of-type {\n",
       "        vertical-align: middle;\n",
       "    }\n",
       "\n",
       "    .dataframe tbody tr th {\n",
       "        vertical-align: top;\n",
       "    }\n",
       "\n",
       "    .dataframe thead th {\n",
       "        text-align: right;\n",
       "    }\n",
       "</style>\n",
       "<table border=\"1\" class=\"dataframe\">\n",
       "  <thead>\n",
       "    <tr style=\"text-align: right;\">\n",
       "      <th></th>\n",
       "      <th>male_10</th>\n",
       "      <th>male_11</th>\n",
       "      <th>male_12</th>\n",
       "      <th>male_13</th>\n",
       "      <th>male_14A</th>\n",
       "      <th>male_14B</th>\n",
       "      <th>male_14C</th>\n",
       "      <th>male_14D</th>\n",
       "      <th>female_10</th>\n",
       "      <th>female_11</th>\n",
       "      <th>female_12</th>\n",
       "      <th>female_13</th>\n",
       "      <th>female_14A</th>\n",
       "      <th>female_14B</th>\n",
       "      <th>female_14C</th>\n",
       "      <th>female_14D</th>\n",
       "    </tr>\n",
       "  </thead>\n",
       "  <tbody>\n",
       "    <tr>\n",
       "      <th>3</th>\n",
       "      <td>4.573651</td>\n",
       "      <td>3.593093</td>\n",
       "      <td>4.383186</td>\n",
       "      <td>3.772605</td>\n",
       "      <td>4.240476</td>\n",
       "      <td>4.749679</td>\n",
       "      <td>4.518529</td>\n",
       "      <td>3.558602</td>\n",
       "      <td>4.459054</td>\n",
       "      <td>3.809626</td>\n",
       "      <td>4.051558</td>\n",
       "      <td>3.669331</td>\n",
       "      <td>4.995485</td>\n",
       "      <td>4.522507</td>\n",
       "      <td>3.851021</td>\n",
       "      <td>4.112914</td>\n",
       "    </tr>\n",
       "    <tr>\n",
       "      <th>8</th>\n",
       "      <td>3.472120</td>\n",
       "      <td>-3.321928</td>\n",
       "      <td>-3.321928</td>\n",
       "      <td>-3.321928</td>\n",
       "      <td>3.897757</td>\n",
       "      <td>-3.321928</td>\n",
       "      <td>4.145813</td>\n",
       "      <td>3.436875</td>\n",
       "      <td>-3.321928</td>\n",
       "      <td>-3.321928</td>\n",
       "      <td>3.905799</td>\n",
       "      <td>3.869772</td>\n",
       "      <td>4.353582</td>\n",
       "      <td>2.066050</td>\n",
       "      <td>-3.321928</td>\n",
       "      <td>4.665883</td>\n",
       "    </tr>\n",
       "    <tr>\n",
       "      <th>9</th>\n",
       "      <td>4.260622</td>\n",
       "      <td>-3.321928</td>\n",
       "      <td>3.900371</td>\n",
       "      <td>4.801878</td>\n",
       "      <td>4.484797</td>\n",
       "      <td>2.990301</td>\n",
       "      <td>3.801070</td>\n",
       "      <td>3.701063</td>\n",
       "      <td>4.222705</td>\n",
       "      <td>1.594158</td>\n",
       "      <td>4.209672</td>\n",
       "      <td>4.729653</td>\n",
       "      <td>4.784754</td>\n",
       "      <td>2.913181</td>\n",
       "      <td>2.897078</td>\n",
       "      <td>4.516802</td>\n",
       "    </tr>\n",
       "    <tr>\n",
       "      <th>10</th>\n",
       "      <td>2.681610</td>\n",
       "      <td>2.012708</td>\n",
       "      <td>2.665469</td>\n",
       "      <td>6.130167</td>\n",
       "      <td>6.072718</td>\n",
       "      <td>2.945977</td>\n",
       "      <td>6.230339</td>\n",
       "      <td>5.750615</td>\n",
       "      <td>5.486961</td>\n",
       "      <td>4.081859</td>\n",
       "      <td>5.728691</td>\n",
       "      <td>6.286330</td>\n",
       "      <td>6.338167</td>\n",
       "      <td>4.998373</td>\n",
       "      <td>5.621212</td>\n",
       "      <td>6.280001</td>\n",
       "    </tr>\n",
       "    <tr>\n",
       "      <th>11</th>\n",
       "      <td>6.899972</td>\n",
       "      <td>3.552258</td>\n",
       "      <td>6.909741</td>\n",
       "      <td>6.245611</td>\n",
       "      <td>6.188155</td>\n",
       "      <td>6.953605</td>\n",
       "      <td>6.345793</td>\n",
       "      <td>5.901059</td>\n",
       "      <td>5.602316</td>\n",
       "      <td>4.196805</td>\n",
       "      <td>5.844084</td>\n",
       "      <td>6.439396</td>\n",
       "      <td>6.453632</td>\n",
       "      <td>5.113628</td>\n",
       "      <td>5.736589</td>\n",
       "      <td>6.410012</td>\n",
       "    </tr>\n",
       "    <tr>\n",
       "      <th>...</th>\n",
       "      <td>...</td>\n",
       "      <td>...</td>\n",
       "      <td>...</td>\n",
       "      <td>...</td>\n",
       "      <td>...</td>\n",
       "      <td>...</td>\n",
       "      <td>...</td>\n",
       "      <td>...</td>\n",
       "      <td>...</td>\n",
       "      <td>...</td>\n",
       "      <td>...</td>\n",
       "      <td>...</td>\n",
       "      <td>...</td>\n",
       "      <td>...</td>\n",
       "      <td>...</td>\n",
       "      <td>...</td>\n",
       "    </tr>\n",
       "    <tr>\n",
       "      <th>34663</th>\n",
       "      <td>5.063561</td>\n",
       "      <td>0.209330</td>\n",
       "      <td>3.312209</td>\n",
       "      <td>8.696872</td>\n",
       "      <td>6.681296</td>\n",
       "      <td>4.675181</td>\n",
       "      <td>6.166922</td>\n",
       "      <td>6.945737</td>\n",
       "      <td>6.905339</td>\n",
       "      <td>-0.371506</td>\n",
       "      <td>5.597221</td>\n",
       "      <td>6.170259</td>\n",
       "      <td>7.891809</td>\n",
       "      <td>5.452891</td>\n",
       "      <td>6.239269</td>\n",
       "      <td>7.386673</td>\n",
       "    </tr>\n",
       "    <tr>\n",
       "      <th>34665</th>\n",
       "      <td>4.661599</td>\n",
       "      <td>-0.437467</td>\n",
       "      <td>4.418274</td>\n",
       "      <td>9.014515</td>\n",
       "      <td>8.350559</td>\n",
       "      <td>5.778312</td>\n",
       "      <td>8.493319</td>\n",
       "      <td>7.797501</td>\n",
       "      <td>8.259794</td>\n",
       "      <td>1.172241</td>\n",
       "      <td>7.649749</td>\n",
       "      <td>8.615611</td>\n",
       "      <td>8.760742</td>\n",
       "      <td>4.441070</td>\n",
       "      <td>6.523595</td>\n",
       "      <td>9.412730</td>\n",
       "    </tr>\n",
       "    <tr>\n",
       "      <th>34667</th>\n",
       "      <td>11.191931</td>\n",
       "      <td>5.095088</td>\n",
       "      <td>9.857502</td>\n",
       "      <td>12.271701</td>\n",
       "      <td>11.136488</td>\n",
       "      <td>9.213941</td>\n",
       "      <td>11.283776</td>\n",
       "      <td>10.690080</td>\n",
       "      <td>11.332554</td>\n",
       "      <td>6.260317</td>\n",
       "      <td>11.087133</td>\n",
       "      <td>11.867576</td>\n",
       "      <td>6.942632</td>\n",
       "      <td>8.818194</td>\n",
       "      <td>9.435277</td>\n",
       "      <td>12.153787</td>\n",
       "    </tr>\n",
       "    <tr>\n",
       "      <th>34684</th>\n",
       "      <td>-2.534805</td>\n",
       "      <td>-3.321928</td>\n",
       "      <td>-2.348207</td>\n",
       "      <td>-2.301821</td>\n",
       "      <td>-3.321928</td>\n",
       "      <td>-3.321928</td>\n",
       "      <td>-3.321928</td>\n",
       "      <td>-2.143405</td>\n",
       "      <td>0.003268</td>\n",
       "      <td>-3.321928</td>\n",
       "      <td>-3.321928</td>\n",
       "      <td>-1.927886</td>\n",
       "      <td>-1.913863</td>\n",
       "      <td>-3.321928</td>\n",
       "      <td>-3.321928</td>\n",
       "      <td>-2.713053</td>\n",
       "    </tr>\n",
       "    <tr>\n",
       "      <th>34715</th>\n",
       "      <td>1.078063</td>\n",
       "      <td>-3.321928</td>\n",
       "      <td>3.016877</td>\n",
       "      <td>1.113834</td>\n",
       "      <td>1.696735</td>\n",
       "      <td>-3.321928</td>\n",
       "      <td>0.695194</td>\n",
       "      <td>3.215803</td>\n",
       "      <td>3.762950</td>\n",
       "      <td>0.904145</td>\n",
       "      <td>2.247730</td>\n",
       "      <td>2.828667</td>\n",
       "      <td>2.808283</td>\n",
       "      <td>-0.095642</td>\n",
       "      <td>0.323943</td>\n",
       "      <td>1.060677</td>\n",
       "    </tr>\n",
       "  </tbody>\n",
       "</table>\n",
       "<p>8613 rows × 16 columns</p>\n",
       "</div>"
      ],
      "text/plain": [
       "         male_10   male_11   male_12    male_13   male_14A  male_14B  \\\n",
       "3       4.573651  3.593093  4.383186   3.772605   4.240476  4.749679   \n",
       "8       3.472120 -3.321928 -3.321928  -3.321928   3.897757 -3.321928   \n",
       "9       4.260622 -3.321928  3.900371   4.801878   4.484797  2.990301   \n",
       "10      2.681610  2.012708  2.665469   6.130167   6.072718  2.945977   \n",
       "11      6.899972  3.552258  6.909741   6.245611   6.188155  6.953605   \n",
       "...          ...       ...       ...        ...        ...       ...   \n",
       "34663   5.063561  0.209330  3.312209   8.696872   6.681296  4.675181   \n",
       "34665   4.661599 -0.437467  4.418274   9.014515   8.350559  5.778312   \n",
       "34667  11.191931  5.095088  9.857502  12.271701  11.136488  9.213941   \n",
       "34684  -2.534805 -3.321928 -2.348207  -2.301821  -3.321928 -3.321928   \n",
       "34715   1.078063 -3.321928  3.016877   1.113834   1.696735 -3.321928   \n",
       "\n",
       "        male_14C   male_14D  female_10  female_11  female_12  female_13  \\\n",
       "3       4.518529   3.558602   4.459054   3.809626   4.051558   3.669331   \n",
       "8       4.145813   3.436875  -3.321928  -3.321928   3.905799   3.869772   \n",
       "9       3.801070   3.701063   4.222705   1.594158   4.209672   4.729653   \n",
       "10      6.230339   5.750615   5.486961   4.081859   5.728691   6.286330   \n",
       "11      6.345793   5.901059   5.602316   4.196805   5.844084   6.439396   \n",
       "...          ...        ...        ...        ...        ...        ...   \n",
       "34663   6.166922   6.945737   6.905339  -0.371506   5.597221   6.170259   \n",
       "34665   8.493319   7.797501   8.259794   1.172241   7.649749   8.615611   \n",
       "34667  11.283776  10.690080  11.332554   6.260317  11.087133  11.867576   \n",
       "34684  -3.321928  -2.143405   0.003268  -3.321928  -3.321928  -1.927886   \n",
       "34715   0.695194   3.215803   3.762950   0.904145   2.247730   2.828667   \n",
       "\n",
       "       female_14A  female_14B  female_14C  female_14D  \n",
       "3        4.995485    4.522507    3.851021    4.112914  \n",
       "8        4.353582    2.066050   -3.321928    4.665883  \n",
       "9        4.784754    2.913181    2.897078    4.516802  \n",
       "10       6.338167    4.998373    5.621212    6.280001  \n",
       "11       6.453632    5.113628    5.736589    6.410012  \n",
       "...           ...         ...         ...         ...  \n",
       "34663    7.891809    5.452891    6.239269    7.386673  \n",
       "34665    8.760742    4.441070    6.523595    9.412730  \n",
       "34667    6.942632    8.818194    9.435277   12.153787  \n",
       "34684   -1.913863   -3.321928   -3.321928   -2.713053  \n",
       "34715    2.808283   -0.095642    0.323943    1.060677  \n",
       "\n",
       "[8613 rows x 16 columns]"
      ]
     },
     "execution_count": 160,
     "metadata": {},
     "output_type": "execute_result"
    }
   ],
   "source": [
    "fpkms_log2_values"
   ]
  },
  {
   "cell_type": "code",
   "execution_count": 161,
   "metadata": {},
   "outputs": [],
   "source": [
    "pvals=[]\n",
    "for i in range(len(fpkms_log2_values.iloc[:,1])):\n",
    "    test=fpkms_log2_values.iloc[i,:]\n",
    "    data = [[10, test[0]],\n",
    "        [11,test[1]],\n",
    "        [12,test[2]],\n",
    "        [13,test[3]],\n",
    "        [14,test[4]],\n",
    "        [14,test[5]],\n",
    "        [14,test[6]],\n",
    "        [14,test[7]],\n",
    "        [10,test[8]],\n",
    "        [11,test[9]],\n",
    "        [12,test[10]],\n",
    "        [13,test[11]],\n",
    "        [14,test[12]],\n",
    "        [14,test[13]],\n",
    "        [14,test[14]],\n",
    "        [14,test[15]]\n",
    "        ]\n",
    "    df = pd.DataFrame(data, columns = ['stage', 'log_fpkm'])\n",
    "    model = smf.ols(formula = \"log_fpkm ~ 1 + stage\", data = df) \n",
    "    results = model.fit()\n",
    "    pvals.append(list(results.pvalues)[1])"
   ]
  },
  {
   "cell_type": "code",
   "execution_count": 162,
   "metadata": {},
   "outputs": [
    {
     "data": {
      "text/plain": [
       "[8.260525024378083e-15,\n",
       " 1.454300825411588e-14,\n",
       " 1.0477116535107141e-11,\n",
       " 2.5361836759422562e-11,\n",
       " 6.114700629209474e-11,\n",
       " 1.8988419372222957e-10,\n",
       " 2.2824580875882887e-10,\n",
       " 3.6539440223853207e-10,\n",
       " 3.796853379026104e-10]"
      ]
     },
     "execution_count": 162,
     "metadata": {},
     "output_type": "execute_result"
    }
   ],
   "source": [
    "pvals.sort()\n",
    "pvals[1:10]"
   ]
  },
  {
   "cell_type": "code",
   "execution_count": 163,
   "metadata": {},
   "outputs": [],
   "source": [
    "df = pd.DataFrame(pvals, columns=['pval'])"
   ]
  },
  {
   "cell_type": "code",
   "execution_count": 164,
   "metadata": {
    "scrolled": true
   },
   "outputs": [
    {
     "data": {
      "image/png": "[encoded data removed]",
      "text/plain": [
       "<Figure size 432x288 with 1 Axes>"
      ]
     },
     "metadata": {
      "needs_background": "light"
     },
     "output_type": "display_data"
    }
   ],
   "source": [
    "df['logP'] = -1 * np.log10(df['pval'])\n",
    "df['uniform_points'] = range(0, len(pvals))\n",
    "df['uniform_pval'] = (df['uniform_points'] + 1) / len(pvals)\n",
    "df['uniform_logP'] = -1 * np.log10(df['uniform_pval'])\n",
    "\n",
    "fig, ax = plt.subplots()\n",
    "ax.scatter(df[\"uniform_logP\"], df[\"logP\"])\n",
    "ax.plot([8,0], [8, 0], color = \"black\")\n",
    "plt.xlabel(\"Expected -log10(p-value)\")\n",
    "plt.ylabel(\"Observed -log10(p-value)\")\n",
    "plt.show()"
   ]
  },
  {
   "cell_type": "code",
   "execution_count": 165,
   "metadata": {},
   "outputs": [],
   "source": [
    "transcripts=[]\n",
    "pvals=[]\n",
    "for i in range(len(fpkms_log2_values.iloc[:,1])):\n",
    "    test=fpkms_log2_values.iloc[i,:]\n",
    "    data = [[10, test[0]],\n",
    "        [11,test[1]],\n",
    "        [12,test[2]],\n",
    "        [13,test[3]],\n",
    "        [14,test[4]],\n",
    "        [14,test[5]],\n",
    "        [14,test[6]],\n",
    "        [14,test[7]],\n",
    "        [10,test[8]],\n",
    "        [11,test[9]],\n",
    "        [12,test[10]],\n",
    "        [13,test[11]],\n",
    "        [14,test[12]],\n",
    "        [14,test[13]],\n",
    "        [14,test[14]],\n",
    "        [14,test[15]]\n",
    "        ]\n",
    "    df = pd.DataFrame(data, columns = ['stage', 'log_fpkm'])\n",
    "    model = smf.ols(formula = \"log_fpkm ~ 1 + stage\", data = df) \n",
    "    results = model.fit()\n",
    "    pvals.append(list(results.pvalues)[1])\n",
    "    transcripts.append(fpkms_filtered_by_median.iloc[i,0])\n"
   ]
  },
  {
   "cell_type": "code",
   "execution_count": 166,
   "metadata": {},
   "outputs": [
    {
     "data": {
      "text/plain": [
       "array([False, False, False, ..., False, False, False])"
      ]
     },
     "execution_count": 166,
     "metadata": {},
     "output_type": "execute_result"
    }
   ],
   "source": [
    "t_f = multitest.fdrcorrection(pvals, alpha=0.1, method='indep', is_sorted=False)[0]\n",
    "t_f"
   ]
  },
  {
   "cell_type": "code",
   "execution_count": 167,
   "metadata": {},
   "outputs": [
    {
     "data": {
      "text/html": [
       "<div>\n",
       "<style scoped>\n",
       "    .dataframe tbody tr th:only-of-type {\n",
       "        vertical-align: middle;\n",
       "    }\n",
       "\n",
       "    .dataframe tbody tr th {\n",
       "        vertical-align: top;\n",
       "    }\n",
       "\n",
       "    .dataframe thead th {\n",
       "        text-align: right;\n",
       "    }\n",
       "</style>\n",
       "<table border=\"1\" class=\"dataframe\">\n",
       "  <thead>\n",
       "    <tr style=\"text-align: right;\">\n",
       "      <th></th>\n",
       "      <th>id</th>\n",
       "      <th>significant</th>\n",
       "    </tr>\n",
       "  </thead>\n",
       "  <tbody>\n",
       "    <tr>\n",
       "      <th>3</th>\n",
       "      <td>FBtr0113895</td>\n",
       "      <td>True</td>\n",
       "    </tr>\n",
       "    <tr>\n",
       "      <th>5</th>\n",
       "      <td>FBtr0301812</td>\n",
       "      <td>True</td>\n",
       "    </tr>\n",
       "    <tr>\n",
       "      <th>8</th>\n",
       "      <td>FBtr0078962</td>\n",
       "      <td>True</td>\n",
       "    </tr>\n",
       "    <tr>\n",
       "      <th>13</th>\n",
       "      <td>FBtr0078985</td>\n",
       "      <td>True</td>\n",
       "    </tr>\n",
       "    <tr>\n",
       "      <th>14</th>\n",
       "      <td>FBtr0078967</td>\n",
       "      <td>True</td>\n",
       "    </tr>\n",
       "    <tr>\n",
       "      <th>...</th>\n",
       "      <td>...</td>\n",
       "      <td>...</td>\n",
       "    </tr>\n",
       "    <tr>\n",
       "      <th>8598</th>\n",
       "      <td>FBtr0100861</td>\n",
       "      <td>True</td>\n",
       "    </tr>\n",
       "    <tr>\n",
       "      <th>8601</th>\n",
       "      <td>FBtr0100864</td>\n",
       "      <td>True</td>\n",
       "    </tr>\n",
       "    <tr>\n",
       "      <th>8602</th>\n",
       "      <td>FBtr0100866</td>\n",
       "      <td>True</td>\n",
       "    </tr>\n",
       "    <tr>\n",
       "      <th>8605</th>\n",
       "      <td>FBtr0100870</td>\n",
       "      <td>True</td>\n",
       "    </tr>\n",
       "    <tr>\n",
       "      <th>8607</th>\n",
       "      <td>FBtr0100879</td>\n",
       "      <td>True</td>\n",
       "    </tr>\n",
       "  </tbody>\n",
       "</table>\n",
       "<p>3790 rows × 2 columns</p>\n",
       "</div>"
      ],
      "text/plain": [
       "               id  significant\n",
       "3     FBtr0113895         True\n",
       "5     FBtr0301812         True\n",
       "8     FBtr0078962         True\n",
       "13    FBtr0078985         True\n",
       "14    FBtr0078967         True\n",
       "...           ...          ...\n",
       "8598  FBtr0100861         True\n",
       "8601  FBtr0100864         True\n",
       "8602  FBtr0100866         True\n",
       "8605  FBtr0100870         True\n",
       "8607  FBtr0100879         True\n",
       "\n",
       "[3790 rows x 2 columns]"
      ]
     },
     "execution_count": 167,
     "metadata": {},
     "output_type": "execute_result"
    }
   ],
   "source": [
    "to_df = list(zip(transcripts, t_f))\n",
    "df = pd.DataFrame(to_df, columns = ['id', 'significant'])\n",
    "df[df.significant == True]"
   ]
  },
  {
   "cell_type": "markdown",
   "metadata": {},
   "source": [
    "## Using sex as covariate"
   ]
  },
  {
   "cell_type": "code",
   "execution_count": 128,
   "metadata": {},
   "outputs": [
    {
     "data": {
      "text/plain": [
       "t_name        FBtr0113885\n",
       "gene_name            Parp\n",
       "male_10           10.9972\n",
       "male_11                 0\n",
       "male_12                 0\n",
       "male_13                 0\n",
       "male_14A          14.8053\n",
       "male_14B                0\n",
       "male_14C          17.6017\n",
       "male_14D          10.7293\n",
       "female_10               0\n",
       "female_11               0\n",
       "female_12         14.8887\n",
       "female_13          14.519\n",
       "female_14A        20.3437\n",
       "female_14B        4.08739\n",
       "female_14C              0\n",
       "female_14D        25.2846\n",
       "Name: 8, dtype: object"
      ]
     },
     "execution_count": 128,
     "metadata": {},
     "output_type": "execute_result"
    }
   ],
   "source": [
    "fpkms_filtered_by_median.iloc[1,:]"
   ]
  },
  {
   "cell_type": "code",
   "execution_count": 168,
   "metadata": {},
   "outputs": [],
   "source": [
    "pvals=[]\n",
    "for i in range(len(fpkms_log2_values.iloc[:,1])):\n",
    "    test=fpkms_log2_values.iloc[i,:]\n",
    "    data = [[10, 'm', test[0]],\n",
    "        [11, 'm', test[1]],\n",
    "        [12, 'm', test[2]],\n",
    "        [13, 'm', test[3]],\n",
    "        [14, 'm', test[4]],\n",
    "        [14, 'm', test[5]],\n",
    "        [14, 'm', test[6]],\n",
    "        [14, 'm', test[7]],\n",
    "        [10, 'f', test[8]],\n",
    "        [11, 'f', test[9]],\n",
    "        [12, 'f', test[10]],\n",
    "        [13, 'f', test[11]],\n",
    "        [14, 'f', test[12]],\n",
    "        [14, 'f', test[13]],\n",
    "        [14, 'f', test[14]],\n",
    "        [14, 'f', test[15]]\n",
    "        ]\n",
    "    df = pd.DataFrame(data, columns = ['stage', 'sex', 'log_fpkm'])\n",
    "    model = smf.ols(formula = \"log_fpkm ~ 1 + sex + stage\", data = df) \n",
    "    results = model.fit()\n",
    "    pvals.append(list(results.pvalues)[2])"
   ]
  },
  {
   "cell_type": "code",
   "execution_count": 169,
   "metadata": {},
   "outputs": [
    {
     "data": {
      "text/plain": [
       "[6.477940958870726e-14,\n",
       " 1.140239495337146e-13,\n",
       " 2.904439998653629e-11,\n",
       " 1.3232272217582566e-10,\n",
       " 2.581540535500103e-10,\n",
       " 6.207501137803213e-10,\n",
       " 1.0208846833123602e-09,\n",
       " 1.3719732171123708e-09,\n",
       " 1.5086878608242107e-09]"
      ]
     },
     "execution_count": 169,
     "metadata": {},
     "output_type": "execute_result"
    }
   ],
   "source": [
    "pvals.sort()\n",
    "pvals[1:10]"
   ]
  },
  {
   "cell_type": "code",
   "execution_count": 170,
   "metadata": {},
   "outputs": [],
   "source": [
    "df = pd.DataFrame(pvals, columns=['pval'])"
   ]
  },
  {
   "cell_type": "code",
   "execution_count": 171,
   "metadata": {},
   "outputs": [
    {
     "data": {
      "image/png": "[encoded data removed]",
      "text/plain": [
       "<Figure size 432x288 with 1 Axes>"
      ]
     },
     "metadata": {
      "needs_background": "light"
     },
     "output_type": "display_data"
    }
   ],
   "source": [
    "df['logP'] = -1 * np.log10(df['pval'])\n",
    "df['uniform_points'] = range(0, len(pvals))\n",
    "df['uniform_pval'] = (df['uniform_points'] + 1) / len(pvals)\n",
    "df['uniform_logP'] = -1 * np.log10(df['uniform_pval'])\n",
    "\n",
    "fig, ax = plt.subplots()\n",
    "ax.scatter(df[\"uniform_logP\"], df[\"logP\"])\n",
    "ax.plot([8,0], [8, 0], color = \"black\")\n",
    "plt.xlabel(\"Expected -log10(p-value)\")\n",
    "plt.ylabel(\"Observed -log10(p-value)\")\n",
    "plt.show()"
   ]
  },
  {
   "cell_type": "code",
   "execution_count": 181,
   "metadata": {},
   "outputs": [],
   "source": [
    "transcripts=[]\n",
    "pvals=[]\n",
    "for i in range(len(fpkms_log2_values.iloc[:,1])):\n",
    "    test=fpkms_log2_values.iloc[i,:]\n",
    "    data = [[10, 'm', test[0]],\n",
    "        [11, 'm', test[1]],\n",
    "        [12, 'm', test[2]],\n",
    "        [13, 'm', test[3]],\n",
    "        [14, 'm', test[4]],\n",
    "        [14, 'm', test[5]],\n",
    "        [14, 'm', test[6]],\n",
    "        [14, 'm', test[7]],\n",
    "        [10, 'f', test[8]],\n",
    "        [11, 'f', test[9]],\n",
    "        [12, 'f', test[10]],\n",
    "        [13, 'f', test[11]],\n",
    "        [14, 'f', test[12]],\n",
    "        [14, 'f', test[13]],\n",
    "        [14, 'f', test[14]],\n",
    "        [14, 'f', test[15]]\n",
    "        ]\n",
    "    df = pd.DataFrame(data, columns = ['stage', 'sex', 'log_fpkm'])\n",
    "    model = smf.ols(formula = \"log_fpkm ~ 1 + sex + stage\", data = df) \n",
    "    results = model.fit()\n",
    "    pvals.append(list(results.pvalues)[2])\n",
    "    transcripts.append(fpkms_filtered_by_median.iloc[i,0])"
   ]
  },
  {
   "cell_type": "code",
   "execution_count": 182,
   "metadata": {},
   "outputs": [
    {
     "data": {
      "text/plain": [
       "array([False, False, False, ..., False, False, False])"
      ]
     },
     "execution_count": 182,
     "metadata": {},
     "output_type": "execute_result"
    }
   ],
   "source": [
    "t_f = multitest.fdrcorrection(pvals, alpha=0.1, method='indep', is_sorted=False)[0]\n",
    "t_f"
   ]
  },
  {
   "cell_type": "code",
   "execution_count": 192,
   "metadata": {},
   "outputs": [
    {
     "name": "stdout",
     "output_type": "stream",
     "text": [
      "               id  significant\n",
      "3     FBtr0113895         True\n",
      "5     FBtr0301812         True\n",
      "8     FBtr0078962         True\n",
      "13    FBtr0078985         True\n",
      "14    FBtr0078967         True\n",
      "...           ...          ...\n",
      "8598  FBtr0100861         True\n",
      "8601  FBtr0100864         True\n",
      "8602  FBtr0100866         True\n",
      "8605  FBtr0100870         True\n",
      "8607  FBtr0100879         True\n",
      "\n",
      "[3667 rows x 2 columns]\n"
     ]
    }
   ],
   "source": [
    "to_df = list(zip(transcripts, t_f))\n",
    "df = pd.DataFrame(to_df, columns = ['id', 'significant'])\n",
    "print(df[df.significant == True])\n",
    "for_color = []\n",
    "for i in df[\"significant\"]:\n",
    "    if i == True:\n",
    "        for_color.append(1)\n",
    "    else:\n",
    "        for_color.append(0)"
   ]
  },
  {
   "cell_type": "code",
   "execution_count": 175,
   "metadata": {},
   "outputs": [
    {
     "name": "stdout",
     "output_type": "stream",
     "text": [
      "96.64151861766854\n"
     ]
    }
   ],
   "source": [
    "percent_overlap = (3971)/4109*100\n",
    "print(percent_overlap)"
   ]
  },
  {
   "cell_type": "markdown",
   "metadata": {},
   "source": [
    "## Volcano"
   ]
  },
  {
   "cell_type": "code",
   "execution_count": 176,
   "metadata": {},
   "outputs": [
    {
     "data": {
      "text/plain": [
       "Intercept    3.211157\n",
       "sex[T.m]    -1.208513\n",
       "stage       -0.116162\n",
       "dtype: float64"
      ]
     },
     "execution_count": 176,
     "metadata": {},
     "output_type": "execute_result"
    }
   ],
   "source": [
    "results.params"
   ]
  },
  {
   "cell_type": "code",
   "execution_count": 177,
   "metadata": {},
   "outputs": [
    {
     "data": {
      "text/plain": [
       "-0.11616181134551021"
      ]
     },
     "execution_count": 177,
     "metadata": {},
     "output_type": "execute_result"
    }
   ],
   "source": [
    "results.params[2]"
   ]
  },
  {
   "cell_type": "code",
   "execution_count": 178,
   "metadata": {},
   "outputs": [],
   "source": [
    "pvals = []\n",
    "betas = []\n",
    "for i in range(len(fpkms_log2_values.iloc[:,1])):\n",
    "    test=fpkms_log2_values.iloc[i,:]\n",
    "    data = [[10, 'm', test[0]],\n",
    "        [11, 'm', test[1]],\n",
    "        [12, 'm', test[2]],\n",
    "        [13, 'm', test[3]],\n",
    "        [14, 'm', test[4]],\n",
    "        [14, 'm', test[5]],\n",
    "        [14, 'm', test[6]],\n",
    "        [14, 'm', test[7]],\n",
    "        [10, 'f', test[8]],\n",
    "        [11, 'f', test[9]],\n",
    "        [12, 'f', test[10]],\n",
    "        [13, 'f', test[11]],\n",
    "        [14, 'f', test[12]],\n",
    "        [14, 'f', test[13]],\n",
    "        [14, 'f', test[14]],\n",
    "        [14, 'f', test[15]]\n",
    "        ]\n",
    "    df = pd.DataFrame(data, columns = ['stage', 'sex', 'log_fpkm'])\n",
    "    model = smf.ols(formula = \"log_fpkm ~ 1 + sex + stage\", data = df) \n",
    "    results = model.fit()\n",
    "    pvals.append(list(results.pvalues)[2])\n",
    "    betas.append(results.params[2])"
   ]
  },
  {
   "cell_type": "code",
   "execution_count": 194,
   "metadata": {},
   "outputs": [
    {
     "data": {
      "image/png": "[encoded data removed]",
      "text/plain": [
       "<Figure size 432x288 with 1 Axes>"
      ]
     },
     "metadata": {
      "needs_background": "light"
     },
     "output_type": "display_data"
    }
   ],
   "source": [
    "fig, ax = plt.subplots()\n",
    "ax.scatter(betas, -1 * np.log10(pvals), c=for_color)\n",
    "plt.xlabel(\"Beta\")\n",
    "plt.ylabel(\"-log10(p-value)\")\n",
    "plt.show()"
   ]
  }
 ],
 "metadata": {
  "kernelspec": {
   "display_name": "Python 3",
   "language": "python",
   "name": "python3"
  },
  "language_info": {
   "codemirror_mode": {
    "name": "ipython",
    "version": 3
   },
   "file_extension": ".py",
   "mimetype": "text/x-python",
   "name": "python",
   "nbconvert_exporter": "python",
   "pygments_lexer": "ipython3",
   "version": "3.6.10"
  }
 },
 "nbformat": 4,
 "nbformat_minor": 4
}
