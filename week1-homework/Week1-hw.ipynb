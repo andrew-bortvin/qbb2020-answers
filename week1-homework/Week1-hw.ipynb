{
 "cells": [
  {
   "cell_type": "code",
   "execution_count": 1,
   "metadata": {},
   "outputs": [],
   "source": [
    "import pandas as pd"
   ]
  },
  {
   "cell_type": "markdown",
   "metadata": {},
   "source": [
    "# Week 1 Homework\n",
    "\n",
    "## Question 1. Coverage Analysis \n",
    "\n",
    "### Question 1a. How long is the reference genome?\n",
    "\n",
    "Running the command: samtools faidx ref.fa \n",
    "on the reference genome ref.fa will generate the index file ref.fa.idx, which reads: \n",
    "\n",
    "Halomonas\t233806\t11\t70\t71\n",
    "\n",
    "The first numeric field here is the length of the genome – 233806 bp.\n",
    "\n",
    "### Question 1b. How many reads are provided and how long are they? \n",
    "\n",
    "Running the command: FastQC file_name \n",
    "for all fq files (that is, frag180.1.fq, frag180.2.fq,\tjump2k.1.fq, and jump2k.2.fq)\n",
    "\n",
    "Gives the following information: \n",
    "frag180.1.fq contains 35178 sequences that are 100 bp long\n",
    "frag180.2.fw contains 35178 sequences that are 100 bp long \n",
    "\n",
    "jump2k.1.fq contains 70355 sequences that are 50 bp long\n",
    "jump2k.2.fq contains 70355 sequences that are 50 bp long \n",
    "\n",
    "### Question 1c. How much coverage do you expect to have?\n",
    "\n",
    "The frag180 files contain 35178 reads, 100 bp each. This makes for a total of 3517800 bp. 3517800/233806 = 15.05x coverage\n",
    "\n",
    "The jump2k files contain 70355 reads, 50 bp each. This makes for a total of 3517750 bp. 3517750/233806 = 15.05x coverage as well. \n",
    "\n",
    "### Question 1d. Plot the average quality value across the length of the reads\n",
    "\n",
    "Screenshots are in the week 1 homework directory "
   ]
  },
  {
   "cell_type": "markdown",
   "metadata": {},
   "source": [
    "## Question 2. Kmer Analysis \n",
    "\n",
    "### Question 2a. How many kmers occur exactly 50 times? \n",
    "Running the following: \n",
    "\n",
    "jellyfish count -m 21 -C -s 1000000 *.fq \n",
    "\n",
    "jellyfish histo mer_counts.jf \n",
    "\n",
    "Generates a histogram. From this histogram, 1091 21-mers occur 50 times exactly. \n",
    "\n",
    "### Question 2b. What are the top 10 most frequently occuring kmers? \n",
    "\n",
    "Running the following script generates the answer: \n",
    "\n",
    "jellyfish dump -c  mer_counts.jf | sort -n -r -k 2 | head \n",
    "\n",
    "the first part of this code outputs a list of 21-mers and their counts. The sort command rearranges them in descending numerical order based on the counts. The head commmand subsets the top 10 most common 21-mers, which are: \n",
    "\n",
    "GCCCACTAATTAGTGGGCGCC 105\n",
    "CGCCCACTAATTAGTGGGCGC 104\n",
    "CCCACTAATTAGTGGGCGCCG 104\n",
    "ACGGCGCCCACTAATTAGTGG 101\n",
    "CAGGCCAGCTTATAAGCTGGC 98\n",
    "AACAGGCCAGCTTATAAGCTG 98\n",
    "ACAGGCCAGCTTATAAGCTGG 97\n",
    "AGGCCAGCTTATAAGCTGGCC 95\n",
    "AGCATCGCCCACATGTGGGCG 83\n",
    "GCATCGCCCACATGTGGGCGA 82\n",
    "\n",
    "### Question 2c. What is the estimated genome size based on the kmer frequencies? \n",
    "\n",
    "Based on the kmer frequencies, the estimated genome size lies between 233,468 bp and 233,805 bp \n",
    "\n",
    "### Question 2d. How does the genome GenomeScope genome size estimate compare to the reference genome?\n",
    "\n",
    "This estimate is very close to the actual genome size of 233,806 bp."
   ]
  },
  {
   "cell_type": "markdown",
   "metadata": {},
   "source": [
    "## Question 3. De novo assembly\n",
    "\n",
    "### Question 3a. How many contigs were produced?\n",
    "The command:\n",
    "\n",
    "grep -c '>' contigs.fasta \n",
    "\n",
    "shows that there are four contigs produced\n",
    "\n",
    "### Question 3b. What is the total length of the contigs \n",
    "The command: \n",
    "samtools faidx contigs.fasta\n",
    "\n",
    "generates the index for the contigs."
   ]
  },
  {
   "cell_type": "code",
   "execution_count": 23,
   "metadata": {},
   "outputs": [
    {
     "data": {
      "text/plain": [
       "234467"
      ]
     },
     "execution_count": 23,
     "metadata": {},
     "output_type": "execute_result"
    }
   ],
   "source": [
    "# read in the index as a pandas data frame\n",
    "contig_idx = pd.read_csv('~/qbb2020-answers/week1-homework/asm/asm/contigs.fasta.fai', \n",
    "                         sep = '\\t', header = None, names = ['name', 'size',2,3,4 ])\n",
    "# get the sum\n",
    "contig_idx['size'].sum()"
   ]
  },
  {
   "cell_type": "markdown",
   "metadata": {},
   "source": [
    "### Question 3c. What is the size of your largest contig?\n",
    "\n",
    "The command:\n",
    "cat contigs.fasta.fai | sort -n  -k 2 -r\n",
    "\n",
    "gives: \n",
    "NODE_1_length_105831_cov_20.671371\t105831\t36\t60\t61\n",
    "\n",
    "### Question 3d. What is the contig N50 size?\n",
    "\n",
    "Size sorted contigs file made with: \n",
    "cat contigs.fasta.fai | sort -n  -k 2 -r > contigs.size_sorted.fasta.fai"
   ]
  },
  {
   "cell_type": "code",
   "execution_count": 24,
   "metadata": {},
   "outputs": [
    {
     "name": "stdout",
     "output_type": "stream",
     "text": [
      "105831\n",
      "153692\n"
     ]
    },
    {
     "data": {
      "text/plain": [
       "2"
      ]
     },
     "execution_count": 24,
     "metadata": {},
     "output_type": "execute_result"
    }
   ],
   "source": [
    "# Define half point of genome\n",
    "genome_size = 233806\n",
    "half_genome_size = genome_size/2\n",
    "\n",
    "# Import sorted contigs file \n",
    "sotred_contigs = pd.read_csv('~/qbb2020-answers/week1-homework/asm/asm/contigs.size_sorted.fasta.fai', \n",
    "                         sep = '\\t', header = None, names = ['name', 'size',2,3,4 ])\n",
    "\n",
    "# Add contigs until you get 50% of the genome\n",
    "check = 0\n",
    "contig_sum_size = 0\n",
    "counter = 0 \n",
    "while check == 0: \n",
    "    for i in sotred_contigs['size']:\n",
    "        contig_sum_size += i\n",
    "        counter += 1\n",
    "        print(contig_sum_size)\n",
    "        if contig_sum_size > half_genome_size:\n",
    "            check = 1\n",
    "            break\n",
    "\n",
    "counter"
   ]
  },
  {
   "cell_type": "markdown",
   "metadata": {},
   "source": [
    "It takes the two largest contigs to span half the genome"
   ]
  },
  {
   "cell_type": "markdown",
   "metadata": {},
   "source": [
    "## Question 4. Whole Genome Alignment\n",
    "\n",
    "### Question 4a. What is the average identity of your assembly compared to the reference? \n",
    "\n",
    "Running the command:\n",
    "\n",
    "dnadiff ref.fa asm/contigs.fasta \n",
    "\n",
    "generates a series of output files. Looking through out.report, 99.70% of bases in the query align, with an AvgIdentity of 100.00. \n",
    "\n",
    "### Question 4b. What is the longest alignment? \n",
    "The commands: \n",
    "\n",
    "nucmer ref.fa asm/contigs.fasta\n",
    "show-choords out.delta\n",
    "\n",
    "show the following table: \n",
    "\n",
    "    [S1]     [E1]  |     [S2]     [E2]  |  [LEN 1]  [LEN 2]  |  [% IDY]  | [TAGS]\n",
    "=====================================================================================\n",
    "  127965   233795  |   105831        1  |   105831   105831  |    99.99  | Halomonas\tNODE_1_length_105831_cov_20.671371\n",
    "   40651    88511  |    47861        1  |    47861    47861  |   100.00  | Halomonas\tNODE_2_length_47861_cov_20.231319\n",
    "       3    26789  |    41352    14566  |    26787    26787  |   100.00  | Halomonas\tNODE_3_length_41352_cov_20.588756\n",
    "   26790    40642  |    13853        1  |    13853    13853  |   100.00  | Halomonas\tNODE_3_length_41352_cov_20.588756\n",
    "   88532   127954  |    39423        1  |    39423    39423  |   100.00  | Halomonas\tNODE_4_length_39423_cov_20.384723\n",
    "   \n",
    "From this table, the largest alignment is from reference sequence positions 127965 to 233795, with length 105831\n",
    "\n",
    "### Question 4c. How many insertions and deletions are there in the assembly?\n",
    "\n",
    "From the out.report data, there are 5 deletions in the query files, averaging 10.20 bp. There is one insertion in the query with length 712 bp. "
   ]
  },
  {
   "cell_type": "markdown",
   "metadata": {},
   "source": [
    "## Question 5 \n",
    "\n",
    "### Question 5a. What is the position of the insertion in your assembly? Provide the corresponding position in the reference. (and) 5b. How long is the novel insertion?\n",
    "\n",
    "show-coords out.delta shows the table displayed above \n",
    "\n",
    "From this, we can see that the third contig aligns twice, with one alignment comprising bases 1-13853 and the second from bases 14566-41352 (base positions in query sequence). This 712 bp gap between the two is consistent with the reported 712 bp insertion from the out.report file. \n",
    "\n",
    "In the reference sequence, this insertion happens at position 26789.\n",
    "\n",
    "### Question 5c. What is the DNA sequence of the encoded message? \n",
    "\n",
    "The command: \n",
    "\n",
    "samtools faidx asm/contigs.fasta NODE_3_length_41352_cov_20.588756:13853-14566 \n",
    "\n",
    "gives: >NODE_3_length_41352_cov_20.588756:13853-14566\n",
    "CTAACGATTTACATCGGGAAAGCTTAATGCAATTCACGCAGATATTCAGCTTAGAAGGTA\n",
    "CGCAGCGGTGACGGGGTGCGGTCCATAATCTATGAAGCTATGAATTCGTACCTCAAGTAA\n",
    "TGTTTTCTTCGCTGCAGTTCAGAAGTGATAAAGGTATCCCGCTTAGCCTGGCATACTTTG\n",
    "TGCGTTCGTACCGCCCAGCATTAATGACTTGTGTAGGCAAGTAATGAACGACTCTTCTAC\n",
    "GCCGCGCCTAACCTCCGCACATAATGGCAGCATGTGGTAGTTACATACGCACAGAAGTGG\n",
    "TTCGGTTTTAACTATAGTCAGATATGAATAAGCTGCGTGTGTCGTTGTGTCGGCGTGTCG\n",
    "TACTTACCTCCTGACATAGGTGAATTTCAGCCTACTGTAAGTTTGGAGTCGCGCTCTTTT\n",
    "CTTATTATATTCTTTGGTATGTGTGTGATGGGTTCGGGCGTGTATTGATGTCTCTAAGGC\n",
    "TCATGTTAGTGTTTATTTGGTCAGTTATGACGGTGTTCCTGTCGTACGTGTTGGCTTAGC\n",
    "GGACTTGTAGACGGGATCAAGGTTGTCTGACCCTCCGGTCGACCGTGGGTCGGCCGTCCC\n",
    "GGCCAGAATACAAGCCGCTTAGACTTTCGAAAGAGGGTAAGTTACTACGCGCGAACGTTA\n",
    "TACCTCGTTTCAGTATGCACTCCCTTAAGTCACTCAGAAAAGACTAAGGGGCTG\n",
    "\n",
    "samtools faidx asm/contigs.fasta NODE_3_length_41352_cov_20.588756:13853-14565  > to_decode.fa\n",
    "\n",
    "python ported_decoder.py -d --rev_comp --input to_decode.fa \n",
    "\n",
    "Gives the message: The decoded message :  Congratulations to the 2020 CMDB @ JHU class!  Keep on looking for little green aliens..."
   ]
  },
  {
   "cell_type": "code",
   "execution_count": null,
   "metadata": {},
   "outputs": [],
   "source": []
  }
 ],
 "metadata": {
  "kernelspec": {
   "display_name": "Python 3",
   "language": "python",
   "name": "python3"
  },
  "language_info": {
   "codemirror_mode": {
    "name": "ipython",
    "version": 3
   },
   "file_extension": ".py",
   "mimetype": "text/x-python",
   "name": "python",
   "nbconvert_exporter": "python",
   "pygments_lexer": "ipython3",
   "version": "3.6.10"
  }
 },
 "nbformat": 4,
 "nbformat_minor": 4
}
