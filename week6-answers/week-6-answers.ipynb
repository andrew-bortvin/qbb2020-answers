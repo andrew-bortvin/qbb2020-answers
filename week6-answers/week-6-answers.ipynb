{
 "cells": [
  {
   "cell_type": "code",
   "execution_count": 21,
   "metadata": {},
   "outputs": [],
   "source": [
    "import gzip\n",
    "import pandas as pd\n",
    "import re"
   ]
  },
  {
   "cell_type": "markdown",
   "metadata": {},
   "source": [
    "# Getting Data\n",
    "\n",
    "Using sample info from SRA to rename samples:"
   ]
  },
  {
   "cell_type": "code",
   "execution_count": 3,
   "metadata": {},
   "outputs": [],
   "source": [
    "%%bash \n",
    "cp ./methylation_fastq/SRR3083926_1.chr6.fastq ./methylation_fastq/E4.0ICM_rep1.chr6.fastq\n",
    "cp ./methylation_fastq/SRR3083926_2.chr6.fastq ./methylation_fastq/E4.0ICM_rep2.chr6.fastq\n",
    "cp ./methylation_fastq/SRR3083929_1.chr6.fastq ./methylation_fastq/E5.5Epi_rep1.chr6.fastq\n",
    "cp ./methylation_fastq/SRR3083929_2.chr6.fastq ./methylation_fastq/E5.5Epi_rep2.chr6.fastq"
   ]
  },
  {
   "cell_type": "markdown",
   "metadata": {},
   "source": [
    "Generating fastqc report:"
   ]
  },
  {
   "cell_type": "code",
   "execution_count": null,
   "metadata": {},
   "outputs": [],
   "source": [
    "%%bash\n",
    "fastqc  SRR3083926_1.chr6.fastq "
   ]
  },
  {
   "cell_type": "markdown",
   "metadata": {},
   "source": [
    "Output:\n",
    "    SRR3083926_1.chr6_fastqc.zip\n",
    "    SRR3083926_1.chr6_fastqc.html"
   ]
  },
  {
   "cell_type": "markdown",
   "metadata": {},
   "source": [
    "Looking at the fastqc output, the only thing that looks strange about the data is that the lack of Cs (and, correspondingly, the large number of Ts). This is expected in bisulfite sequencing.\n",
    "\n",
    "# Bisulfite mapping with Bismark\n",
    "\n",
    "Chr6.fa was moved into a directory called 'mm10'. The following commands were run from the methylation_fastq directory. Indexing through Bismark was performed as such: "
   ]
  },
  {
   "cell_type": "code",
   "execution_count": null,
   "metadata": {},
   "outputs": [],
   "source": [
    "%%bash\n",
    "bismark_genome_preparation ./mm10"
   ]
  },
  {
   "cell_type": "markdown",
   "metadata": {},
   "source": [
    "This generates the Bisulfite_Genome directory within mm10. \n",
    "\n",
    "Running bismark on pairs of replicates:"
   ]
  },
  {
   "cell_type": "code",
   "execution_count": null,
   "metadata": {},
   "outputs": [],
   "source": [
    "%%bash\n",
    "bismark --fastq ./mm10 -1 E4.0ICM_rep1.chr6.fastq,E5.5Epi_rep1.chr6.fastq -2 E4.0ICM_rep2.chr6.fastq,E5.5Epi_rep2.chr6.fastq"
   ]
  },
  {
   "cell_type": "markdown",
   "metadata": {},
   "source": [
    "This generates the following pairs of files:\n",
    "\n",
    "    E4.0ICM_rep1.chr6_bismark_bt2_PE_report.txt\n",
    "    E4.0ICM_rep1.chr6_bismark_bt2_pe.bam\n",
    "\n",
    "The same files are made for E5.5\n",
    "\n",
    "The report.txt file contains info about the number of sequences, mapping efficiency, the number of methylated Cs, etc.\n",
    "The bam file is used for subsequent analysis\n",
    "\n",
    "Sorting for IGV visualization: "
   ]
  },
  {
   "cell_type": "code",
   "execution_count": null,
   "metadata": {},
   "outputs": [],
   "source": [
    "%%bash \n",
    "samtools sort E4.0ICM_rep1.chr6_bismark_bt2_pe.bam > E4.0ICM_rep1.chr6_bismark_bt2_pe.sorted.bam\n",
    "samtools sort E5.5Epi_rep1.chr6_bismark_bt2_pe.bam > E5.5Epi_rep1.chr6_bismark_bt2_pe.sorted.bam"
   ]
  },
  {
   "cell_type": "markdown",
   "metadata": {},
   "source": [
    "Indexing:"
   ]
  },
  {
   "cell_type": "code",
   "execution_count": null,
   "metadata": {},
   "outputs": [],
   "source": [
    "%%bash\n",
    "samtools index E4.0ICM_rep1.chr6_bismark_bt2_pe.sorted.bam\n",
    "samtools index E5.5Epi_rep1.chr6_bismark_bt2_pe.sorted.bam"
   ]
  },
  {
   "cell_type": "markdown",
   "metadata": {},
   "source": [
    "This generates .bam.bai files with, named as: \n",
    "\n",
    "    E4.0ICM_rep1.chr6_bismark_bt2_pe.sorted.bam.bai\n",
    "    \n",
    "When running IGV to visualize, use fname.sorted.bam as input. The fname.bam.bai files are found and used automatically.\n",
    "\n",
    "Methylation data is extracted as such:"
   ]
  },
  {
   "cell_type": "code",
   "execution_count": null,
   "metadata": {},
   "outputs": [],
   "source": [
    "%%bash\n",
    "bismark_methylation_extractor --bedgraph --comprehensive E4.0ICM_rep1.chr6_bismark_bt2_pe.sorted.bam E5.5Epi_rep1.chr6_bismark_bt2_pe.sorted.bam"
   ]
  },
  {
   "cell_type": "markdown",
   "metadata": {},
   "source": [
    "This gives a ton of output files. Specifically, they are of the format: \n",
    "    CHG_context_fname.txt\n",
    "    CHH_context_fname.txt\n",
    "    CpG_context_fname.txt\n",
    "    fname_splitting_report.txt\n",
    "    fname.bedGraph.gz\n",
    "    fname.bismark.cov.gz\n",
    "    fname.M-bias.txt\n",
    "\n",
    "We will use the fname.bedGraph.gz file as input for IGV."
   ]
  },
  {
   "cell_type": "markdown",
   "metadata": {},
   "source": [
    "# Python"
   ]
  },
  {
   "cell_type": "code",
   "execution_count": 75,
   "metadata": {},
   "outputs": [
    {
     "data": {
      "text/html": [
       "<div>\n",
       "<style scoped>\n",
       "    .dataframe tbody tr th:only-of-type {\n",
       "        vertical-align: middle;\n",
       "    }\n",
       "\n",
       "    .dataframe tbody tr th {\n",
       "        vertical-align: top;\n",
       "    }\n",
       "\n",
       "    .dataframe thead th {\n",
       "        text-align: right;\n",
       "    }\n",
       "</style>\n",
       "<table border=\"1\" class=\"dataframe\">\n",
       "  <thead>\n",
       "    <tr style=\"text-align: right;\">\n",
       "      <th></th>\n",
       "      <th>0</th>\n",
       "      <th>1</th>\n",
       "      <th>2</th>\n",
       "      <th>3</th>\n",
       "      <th>4</th>\n",
       "      <th>5</th>\n",
       "      <th>6</th>\n",
       "      <th>7</th>\n",
       "      <th>8</th>\n",
       "      <th>9</th>\n",
       "      <th>10</th>\n",
       "      <th>11</th>\n",
       "      <th>12</th>\n",
       "      <th>13</th>\n",
       "      <th>14</th>\n",
       "      <th>15</th>\n",
       "    </tr>\n",
       "  </thead>\n",
       "  <tbody>\n",
       "    <tr>\n",
       "      <th>0</th>\n",
       "      <td>967</td>\n",
       "      <td>NM_001164734</td>\n",
       "      <td>chr6</td>\n",
       "      <td>+</td>\n",
       "      <td>50110240</td>\n",
       "      <td>50198598</td>\n",
       "      <td>50145775</td>\n",
       "      <td>50198330</td>\n",
       "      <td>14</td>\n",
       "      <td>50110240,50143718,50145773,50158681,50162585,5...</td>\n",
       "      <td>50110464,50143784,50145892,50158834,50162735,5...</td>\n",
       "      <td>0</td>\n",
       "      <td>Mpp6</td>\n",
       "      <td>cmpl</td>\n",
       "      <td>cmpl</td>\n",
       "      <td>-1,-1,0,0,0,0,0,0,0,1,1,1,0,0,</td>\n",
       "    </tr>\n",
       "    <tr>\n",
       "      <th>1</th>\n",
       "      <td>967</td>\n",
       "      <td>NM_001164733</td>\n",
       "      <td>chr6</td>\n",
       "      <td>+</td>\n",
       "      <td>50110240</td>\n",
       "      <td>50198598</td>\n",
       "      <td>50145775</td>\n",
       "      <td>50198330</td>\n",
       "      <td>14</td>\n",
       "      <td>50110240,50143718,50145773,50158681,50162585,5...</td>\n",
       "      <td>50110454,50143784,50145892,50158834,50162735,5...</td>\n",
       "      <td>0</td>\n",
       "      <td>Mpp6</td>\n",
       "      <td>cmpl</td>\n",
       "      <td>cmpl</td>\n",
       "      <td>-1,-1,0,0,0,0,0,0,0,1,1,1,0,0,</td>\n",
       "    </tr>\n",
       "    <tr>\n",
       "      <th>2</th>\n",
       "      <td>967</td>\n",
       "      <td>NM_019939</td>\n",
       "      <td>chr6</td>\n",
       "      <td>+</td>\n",
       "      <td>50110240</td>\n",
       "      <td>50198598</td>\n",
       "      <td>50145775</td>\n",
       "      <td>50198330</td>\n",
       "      <td>13</td>\n",
       "      <td>50110240,50143718,50145773,50158681,50162585,5...</td>\n",
       "      <td>50110464,50143784,50145892,50158834,50162735,5...</td>\n",
       "      <td>0</td>\n",
       "      <td>Mpp6</td>\n",
       "      <td>cmpl</td>\n",
       "      <td>cmpl</td>\n",
       "      <td>-1,-1,0,0,0,0,0,0,1,1,1,0,0,</td>\n",
       "    </tr>\n",
       "    <tr>\n",
       "      <th>3</th>\n",
       "      <td>968</td>\n",
       "      <td>NM_018769</td>\n",
       "      <td>chr6</td>\n",
       "      <td>-</td>\n",
       "      <td>50207402</td>\n",
       "      <td>50261769</td>\n",
       "      <td>50207933</td>\n",
       "      <td>50251486</td>\n",
       "      <td>10</td>\n",
       "      <td>50207402,50216349,50219236,50220988,50222735,5...</td>\n",
       "      <td>50208206,50216423,50219438,50221116,50222900,5...</td>\n",
       "      <td>0</td>\n",
       "      <td>Dfna5</td>\n",
       "      <td>cmpl</td>\n",
       "      <td>cmpl</td>\n",
       "      <td>0,1,0,1,1,0,2,1,0,-1,</td>\n",
       "    </tr>\n",
       "    <tr>\n",
       "      <th>4</th>\n",
       "      <td>1</td>\n",
       "      <td>NM_027881</td>\n",
       "      <td>chr6</td>\n",
       "      <td>-</td>\n",
       "      <td>50293326</td>\n",
       "      <td>50382837</td>\n",
       "      <td>50297064</td>\n",
       "      <td>50370215</td>\n",
       "      <td>22</td>\n",
       "      <td>50293326,50299315,50300923,50303016,50308290,5...</td>\n",
       "      <td>50297161,50299438,50301050,50303161,50308435,5...</td>\n",
       "      <td>0</td>\n",
       "      <td>Osbpl3</td>\n",
       "      <td>cmpl</td>\n",
       "      <td>cmpl</td>\n",
       "      <td>2,2,1,0,2,1,0,0,1,0,0,0,1,0,1,0,0,0,0,0,0,-1,</td>\n",
       "    </tr>\n",
       "    <tr>\n",
       "      <th>...</th>\n",
       "      <td>...</td>\n",
       "      <td>...</td>\n",
       "      <td>...</td>\n",
       "      <td>...</td>\n",
       "      <td>...</td>\n",
       "      <td>...</td>\n",
       "      <td>...</td>\n",
       "      <td>...</td>\n",
       "      <td>...</td>\n",
       "      <td>...</td>\n",
       "      <td>...</td>\n",
       "      <td>...</td>\n",
       "      <td>...</td>\n",
       "      <td>...</td>\n",
       "      <td>...</td>\n",
       "      <td>...</td>\n",
       "    </tr>\n",
       "    <tr>\n",
       "      <th>147</th>\n",
       "      <td>129</td>\n",
       "      <td>NM_028705</td>\n",
       "      <td>chr6</td>\n",
       "      <td>+</td>\n",
       "      <td>58833699</td>\n",
       "      <td>58920396</td>\n",
       "      <td>58843632</td>\n",
       "      <td>58918921</td>\n",
       "      <td>25</td>\n",
       "      <td>58833699,58843603,58854872,58855737,58856592,5...</td>\n",
       "      <td>58833771,58843858,58855032,58855814,58856814,5...</td>\n",
       "      <td>0</td>\n",
       "      <td>Herc3</td>\n",
       "      <td>cmpl</td>\n",
       "      <td>cmpl</td>\n",
       "      <td>-1,0,1,2,1,1,0,2,1,0,2,2,0,1,0,0,0,0,0,0,2,0,2...</td>\n",
       "    </tr>\n",
       "    <tr>\n",
       "      <th>148</th>\n",
       "      <td>1034</td>\n",
       "      <td>NM_021432</td>\n",
       "      <td>chr6</td>\n",
       "      <td>-</td>\n",
       "      <td>58905232</td>\n",
       "      <td>58907126</td>\n",
       "      <td>58906496</td>\n",
       "      <td>58906967</td>\n",
       "      <td>1</td>\n",
       "      <td>58905232,</td>\n",
       "      <td>58907126,</td>\n",
       "      <td>0</td>\n",
       "      <td>Nap1l5</td>\n",
       "      <td>cmpl</td>\n",
       "      <td>cmpl</td>\n",
       "      <td>0,</td>\n",
       "    </tr>\n",
       "    <tr>\n",
       "      <th>149</th>\n",
       "      <td>129</td>\n",
       "      <td>NM_153574</td>\n",
       "      <td>chr6</td>\n",
       "      <td>-</td>\n",
       "      <td>58933535</td>\n",
       "      <td>59024502</td>\n",
       "      <td>58935584</td>\n",
       "      <td>59024340</td>\n",
       "      <td>18</td>\n",
       "      <td>58933535,58939295,58940120,58944120,58946039,5...</td>\n",
       "      <td>58935711,58939397,58940317,58944204,58946135,5...</td>\n",
       "      <td>0</td>\n",
       "      <td>Fam13a</td>\n",
       "      <td>cmpl</td>\n",
       "      <td>cmpl</td>\n",
       "      <td>2,2,0,0,0,0,1,0,2,1,0,2,0,2,2,2,2,0,</td>\n",
       "    </tr>\n",
       "    <tr>\n",
       "      <th>150</th>\n",
       "      <td>1036</td>\n",
       "      <td>NM_001081145</td>\n",
       "      <td>chr6</td>\n",
       "      <td>+</td>\n",
       "      <td>59208869</td>\n",
       "      <td>59212033</td>\n",
       "      <td>59210149</td>\n",
       "      <td>59211727</td>\n",
       "      <td>2</td>\n",
       "      <td>59208869,59209338,</td>\n",
       "      <td>59209181,59212033,</td>\n",
       "      <td>0</td>\n",
       "      <td>Tigd2</td>\n",
       "      <td>cmpl</td>\n",
       "      <td>cmpl</td>\n",
       "      <td>-1,0,</td>\n",
       "    </tr>\n",
       "    <tr>\n",
       "      <th>151</th>\n",
       "      <td>129</td>\n",
       "      <td>NM_183183</td>\n",
       "      <td>chr6</td>\n",
       "      <td>-</td>\n",
       "      <td>59352460</td>\n",
       "      <td>59426290</td>\n",
       "      <td>59353028</td>\n",
       "      <td>59355320</td>\n",
       "      <td>2</td>\n",
       "      <td>59352460,59426159,</td>\n",
       "      <td>59355429,59426290,</td>\n",
       "      <td>0</td>\n",
       "      <td>Gprin3</td>\n",
       "      <td>cmpl</td>\n",
       "      <td>cmpl</td>\n",
       "      <td>0,-1,</td>\n",
       "    </tr>\n",
       "  </tbody>\n",
       "</table>\n",
       "<p>152 rows × 16 columns</p>\n",
       "</div>"
      ],
      "text/plain": [
       "       0             1     2  3         4         5         6         7   8   \\\n",
       "0     967  NM_001164734  chr6  +  50110240  50198598  50145775  50198330  14   \n",
       "1     967  NM_001164733  chr6  +  50110240  50198598  50145775  50198330  14   \n",
       "2     967     NM_019939  chr6  +  50110240  50198598  50145775  50198330  13   \n",
       "3     968     NM_018769  chr6  -  50207402  50261769  50207933  50251486  10   \n",
       "4       1     NM_027881  chr6  -  50293326  50382837  50297064  50370215  22   \n",
       "..    ...           ...   ... ..       ...       ...       ...       ...  ..   \n",
       "147   129     NM_028705  chr6  +  58833699  58920396  58843632  58918921  25   \n",
       "148  1034     NM_021432  chr6  -  58905232  58907126  58906496  58906967   1   \n",
       "149   129     NM_153574  chr6  -  58933535  59024502  58935584  59024340  18   \n",
       "150  1036  NM_001081145  chr6  +  59208869  59212033  59210149  59211727   2   \n",
       "151   129     NM_183183  chr6  -  59352460  59426290  59353028  59355320   2   \n",
       "\n",
       "                                                    9   \\\n",
       "0    50110240,50143718,50145773,50158681,50162585,5...   \n",
       "1    50110240,50143718,50145773,50158681,50162585,5...   \n",
       "2    50110240,50143718,50145773,50158681,50162585,5...   \n",
       "3    50207402,50216349,50219236,50220988,50222735,5...   \n",
       "4    50293326,50299315,50300923,50303016,50308290,5...   \n",
       "..                                                 ...   \n",
       "147  58833699,58843603,58854872,58855737,58856592,5...   \n",
       "148                                          58905232,   \n",
       "149  58933535,58939295,58940120,58944120,58946039,5...   \n",
       "150                                 59208869,59209338,   \n",
       "151                                 59352460,59426159,   \n",
       "\n",
       "                                                    10  11      12    13  \\\n",
       "0    50110464,50143784,50145892,50158834,50162735,5...   0    Mpp6  cmpl   \n",
       "1    50110454,50143784,50145892,50158834,50162735,5...   0    Mpp6  cmpl   \n",
       "2    50110464,50143784,50145892,50158834,50162735,5...   0    Mpp6  cmpl   \n",
       "3    50208206,50216423,50219438,50221116,50222900,5...   0   Dfna5  cmpl   \n",
       "4    50297161,50299438,50301050,50303161,50308435,5...   0  Osbpl3  cmpl   \n",
       "..                                                 ...  ..     ...   ...   \n",
       "147  58833771,58843858,58855032,58855814,58856814,5...   0   Herc3  cmpl   \n",
       "148                                          58907126,   0  Nap1l5  cmpl   \n",
       "149  58935711,58939397,58940317,58944204,58946135,5...   0  Fam13a  cmpl   \n",
       "150                                 59209181,59212033,   0   Tigd2  cmpl   \n",
       "151                                 59355429,59426290,   0  Gprin3  cmpl   \n",
       "\n",
       "       14                                                 15  \n",
       "0    cmpl                     -1,-1,0,0,0,0,0,0,0,1,1,1,0,0,  \n",
       "1    cmpl                     -1,-1,0,0,0,0,0,0,0,1,1,1,0,0,  \n",
       "2    cmpl                       -1,-1,0,0,0,0,0,0,1,1,1,0,0,  \n",
       "3    cmpl                              0,1,0,1,1,0,2,1,0,-1,  \n",
       "4    cmpl      2,2,1,0,2,1,0,0,1,0,0,0,1,0,1,0,0,0,0,0,0,-1,  \n",
       "..    ...                                                ...  \n",
       "147  cmpl  -1,0,1,2,1,1,0,2,1,0,2,2,0,1,0,0,0,0,0,0,2,0,2...  \n",
       "148  cmpl                                                 0,  \n",
       "149  cmpl               2,2,0,0,0,0,1,0,2,1,0,2,0,2,2,2,2,0,  \n",
       "150  cmpl                                              -1,0,  \n",
       "151  cmpl                                              0,-1,  \n",
       "\n",
       "[152 rows x 16 columns]"
      ]
     },
     "execution_count": 75,
     "metadata": {},
     "output_type": "execute_result"
    }
   ],
   "source": [
    "gene_coordinates = pd.read_csv(\"methylation_fastq/mm10/mm10_refseq_genes_chr6_50M_60M.bed\", sep='\\t', header=None)\n",
    "#gene_coordinates"
   ]
  },
  {
   "cell_type": "markdown",
   "metadata": {},
   "source": [
    "13th column is gene name – filter unique genes. Columns 5 and 6 are position start and end\n",
    "\n",
    "Reading in bedGraph.gz files:"
   ]
  },
  {
   "cell_type": "code",
   "execution_count": 117,
   "metadata": {},
   "outputs": [],
   "source": [
    "with gzip.open(\"methylation_fastq/E4.0ICM_rep1.chr6_bismark_bt2_pe.sorted.bedGraph.gz\", 'r') as f:\n",
    "    E4 = f.readlines()\n",
    "\n",
    "E4 = E4[1::]"
   ]
  },
  {
   "cell_type": "code",
   "execution_count": 132,
   "metadata": {},
   "outputs": [],
   "source": [
    "with gzip.open(\"methylation_fastq/E5.5Epi_rep1.chr6_bismark_bt2_pe.sorted.bedGraph.gz\", 'r') as f:\n",
    "    E5 = f.readlines()\n",
    "\n",
    "E5 = E5[1::]"
   ]
  },
  {
   "cell_type": "code",
   "execution_count": 70,
   "metadata": {},
   "outputs": [
    {
     "name": "stdout",
     "output_type": "stream",
     "text": [
      "['chr6', '50186852', '50186853', '0']\n",
      "['chr6', '50186863', '50186864', '20']\n",
      "['chr6', '50186999', '50187000', '0']\n"
     ]
    }
   ],
   "source": [
    "print(str(E4[999], 'utf-8').split())\n",
    "print(str(E4[1000], 'utf-8').split())\n",
    "print(str(E4[1001], 'utf-8').split())"
   ]
  },
  {
   "cell_type": "code",
   "execution_count": 96,
   "metadata": {},
   "outputs": [
    {
     "data": {
      "text/plain": [
       "str"
      ]
     },
     "execution_count": 96,
     "metadata": {},
     "output_type": "execute_result"
    }
   ],
   "source": [
    "type(str(E4[1000], 'utf-8').split()[1])"
   ]
  },
  {
   "cell_type": "code",
   "execution_count": 147,
   "metadata": {},
   "outputs": [],
   "source": [
    "# Making a condensed list which only includes gene name, start, and stop. \n",
    "# This list only includes unique genes\n",
    "condensed_list = []\n",
    "for gene in gene_coordinates.iterrows():\n",
    "    if [gene[1][12], gene[1][4], gene[1][5]] not in condensed_list:\n",
    "        condensed_list.append([gene[1][12], gene[1][4], gene[1][5]])"
   ]
  },
  {
   "cell_type": "code",
   "execution_count": 150,
   "metadata": {},
   "outputs": [
    {
     "data": {
      "text/plain": [
       "[['Mpp6', 50110240, 50198598],\n",
       " ['Dfna5', 50207402, 50261769],\n",
       " ['Osbpl3', 50293326, 50382837],\n",
       " ['Osbpl3', 50293326, 50456170],\n",
       " ['Cycs', 50562562, 50566474],\n",
       " ['5430402O13Rik', 50566642, 50594865],\n",
       " ['Mir6371', 50572397, 50572508],\n",
       " ['4921507P07Rik', 50573303, 50596590],\n",
       " ['Npvf', 50650870, 50654393],\n",
       " ['C530044C16Rik', 50776114, 50814894]]"
      ]
     },
     "execution_count": 150,
     "metadata": {},
     "output_type": "execute_result"
    }
   ],
   "source": [
    "condensed_list[:10]"
   ]
  },
  {
   "cell_type": "markdown",
   "metadata": {},
   "source": [
    "Calculating average methylation per gene"
   ]
  },
  {
   "cell_type": "code",
   "execution_count": 137,
   "metadata": {},
   "outputs": [],
   "source": [
    "E4_averages = {}\n",
    "for gene in condensed_list:\n",
    "    E4_total_signal=0\n",
    "    E4_num_signals=0\n",
    "    for l in E4:\n",
    "        line=str(l, 'utf-8').split()\n",
    "        if line[-1] != '0':\n",
    "            if (int(line[1]) > int(gene[1]) and int(line[1]) < int(gene[2])) or (int(line[2]) > int(gene[1]) and int(line[2]) < int(gene[2])):\n",
    "                E4_total_signal+=float(line[3])\n",
    "                E4_num_signals+=1\n",
    "                #print(total_signal)\n",
    "                #print(num_signals)\n",
    "                #print(gene)\n",
    "                #print(line)\n",
    "    if E4_num_signals > 0:\n",
    "        E4_avg = E4_total_signal / E4_num_signals\n",
    "        E4_averages[gene[0]] = E4_avg\n",
    "\n",
    "#E4_averages\n",
    "\n",
    "E5_averages = {}\n",
    "for gene in condensed_list:\n",
    "    E5_total_signal=0\n",
    "    E5_num_signals=0\n",
    "    for l in E5:\n",
    "        line=str(l, 'utf-8').split()\n",
    "        if line[-1] != '0':\n",
    "            if (int(line[1]) > int(gene[1]) and int(line[1]) < int(gene[2])) or (int(line[2]) > int(gene[1]) and int(line[2]) < int(gene[2])):\n",
    "                E5_total_signal+=float(line[3])\n",
    "                E5_num_signals+=1\n",
    "                #print(total_signal)\n",
    "                #print(num_signals)\n",
    "                #print(gene)\n",
    "                #print(line)\n",
    "    if E5_num_signals > 0:\n",
    "        E5_avg = E5_total_signal / E5_num_signals\n",
    "        E5_averages[gene[0]] = E5_avg"
   ]
  },
  {
   "cell_type": "code",
   "execution_count": 151,
   "metadata": {},
   "outputs": [],
   "source": [
    "ratios = []\n",
    "for gene in E4_averages.keys():\n",
    "    if gene in E5_averages.keys():\n",
    "        ratios.append([gene, float(E4_averages[gene])/float(E5_averages[gene])])\n",
    "#ratios"
   ]
  },
  {
   "cell_type": "code",
   "execution_count": 152,
   "metadata": {},
   "outputs": [],
   "source": [
    "with open('E4-E5_methylation_ratios.txt', 'w') as f:\n",
    "    for gene in ratios:\n",
    "        f.write(\"%s\\n\" % gene)"
   ]
  },
  {
   "cell_type": "code",
   "execution_count": null,
   "metadata": {},
   "outputs": [],
   "source": []
  }
 ],
 "metadata": {
  "kernelspec": {
   "display_name": "Python 3",
   "language": "python",
   "name": "python3"
  },
  "language_info": {
   "codemirror_mode": {
    "name": "ipython",
    "version": 3
   },
   "file_extension": ".py",
   "mimetype": "text/x-python",
   "name": "python",
   "nbconvert_exporter": "python",
   "pygments_lexer": "ipython3",
   "version": "3.6.10"
  }
 },
 "nbformat": 4,
 "nbformat_minor": 4
}
