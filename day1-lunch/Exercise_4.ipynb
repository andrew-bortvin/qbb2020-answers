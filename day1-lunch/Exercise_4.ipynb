{
 "cells": [
  {
   "cell_type": "markdown",
   "metadata": {},
   "source": [
    "Exercise 4: Plot K4, K9, and K27 width distributions on the same plot as subplots"
   ]
  },
  {
   "cell_type": "markdown",
   "metadata": {},
   "source": [
    "# Packages"
   ]
  },
  {
   "cell_type": "code",
   "execution_count": 1,
   "metadata": {},
   "outputs": [],
   "source": [
    "import matplotlib.pyplot as plt\n",
    "import pandas as pd"
   ]
  },
  {
   "cell_type": "markdown",
   "metadata": {},
   "source": [
    "# Import bed files"
   ]
  },
  {
   "cell_type": "code",
   "execution_count": 2,
   "metadata": {},
   "outputs": [
    {
     "data": {
      "text/plain": [
       "['chr', 'start', 'end']"
      ]
     },
     "execution_count": 2,
     "metadata": {},
     "output_type": "execute_result"
    }
   ],
   "source": [
    "# specify column names\n",
    "bed_columns = [\"chr\", \"start\", \"end\"]\n",
    "bed_columns"
   ]
  },
  {
   "cell_type": "code",
   "execution_count": 3,
   "metadata": {},
   "outputs": [
    {
     "data": {
      "text/html": [
       "<div>\n",
       "<style scoped>\n",
       "    .dataframe tbody tr th:only-of-type {\n",
       "        vertical-align: middle;\n",
       "    }\n",
       "\n",
       "    .dataframe tbody tr th {\n",
       "        vertical-align: top;\n",
       "    }\n",
       "\n",
       "    .dataframe thead th {\n",
       "        text-align: right;\n",
       "    }\n",
       "</style>\n",
       "<table border=\"1\" class=\"dataframe\">\n",
       "  <thead>\n",
       "    <tr style=\"text-align: right;\">\n",
       "      <th></th>\n",
       "      <th>chr</th>\n",
       "      <th>start</th>\n",
       "      <th>end</th>\n",
       "    </tr>\n",
       "  </thead>\n",
       "  <tbody>\n",
       "    <tr>\n",
       "      <th>0</th>\n",
       "      <td>2L</td>\n",
       "      <td>5037</td>\n",
       "      <td>9637</td>\n",
       "    </tr>\n",
       "    <tr>\n",
       "      <th>1</th>\n",
       "      <td>2L</td>\n",
       "      <td>322173</td>\n",
       "      <td>326237</td>\n",
       "    </tr>\n",
       "    <tr>\n",
       "      <th>2</th>\n",
       "      <td>2L</td>\n",
       "      <td>365873</td>\n",
       "      <td>398837</td>\n",
       "    </tr>\n",
       "    <tr>\n",
       "      <th>3</th>\n",
       "      <td>2L</td>\n",
       "      <td>498973</td>\n",
       "      <td>547373</td>\n",
       "    </tr>\n",
       "    <tr>\n",
       "      <th>4</th>\n",
       "      <td>2L</td>\n",
       "      <td>579973</td>\n",
       "      <td>608037</td>\n",
       "    </tr>\n",
       "    <tr>\n",
       "      <th>...</th>\n",
       "      <td>...</td>\n",
       "      <td>...</td>\n",
       "      <td>...</td>\n",
       "    </tr>\n",
       "    <tr>\n",
       "      <th>426</th>\n",
       "      <td>X</td>\n",
       "      <td>20310691</td>\n",
       "      <td>20388555</td>\n",
       "    </tr>\n",
       "    <tr>\n",
       "      <th>427</th>\n",
       "      <td>X</td>\n",
       "      <td>20534591</td>\n",
       "      <td>20759055</td>\n",
       "    </tr>\n",
       "    <tr>\n",
       "      <th>428</th>\n",
       "      <td>X</td>\n",
       "      <td>20824191</td>\n",
       "      <td>20835255</td>\n",
       "    </tr>\n",
       "    <tr>\n",
       "      <th>429</th>\n",
       "      <td>X</td>\n",
       "      <td>20924791</td>\n",
       "      <td>20953755</td>\n",
       "    </tr>\n",
       "    <tr>\n",
       "      <th>430</th>\n",
       "      <td>X</td>\n",
       "      <td>21464155</td>\n",
       "      <td>21496991</td>\n",
       "    </tr>\n",
       "  </tbody>\n",
       "</table>\n",
       "<p>431 rows × 3 columns</p>\n",
       "</div>"
      ],
      "text/plain": [
       "    chr     start       end\n",
       "0    2L      5037      9637\n",
       "1    2L    322173    326237\n",
       "2    2L    365873    398837\n",
       "3    2L    498973    547373\n",
       "4    2L    579973    608037\n",
       "..   ..       ...       ...\n",
       "426   X  20310691  20388555\n",
       "427   X  20534591  20759055\n",
       "428   X  20824191  20835255\n",
       "429   X  20924791  20953755\n",
       "430   X  21464155  21496991\n",
       "\n",
       "[431 rows x 3 columns]"
      ]
     },
     "execution_count": 3,
     "metadata": {},
     "output_type": "execute_result"
    }
   ],
   "source": [
    "df_k4 = pd.read_table( \"../../qbb2020/data/K4me3.bed\",\n",
    "                     names = bed_columns)\n",
    "\n",
    "df_k9 = pd.read_table( \"../../qbb2020/data/K9me3.bed\",\n",
    "                     names = bed_columns)\n",
    "\n",
    "df_k27 = pd.read_table( \"../../qbb2020/data/K27me3.bed\",\n",
    "                     names = bed_columns)\n",
    "\n",
    "df_k27"
   ]
  },
  {
   "cell_type": "code",
   "execution_count": 4,
   "metadata": {},
   "outputs": [],
   "source": [
    "raw_data = [df_k4, df_k9, df_k27]"
   ]
  },
  {
   "cell_type": "markdown",
   "metadata": {},
   "source": [
    "Generating widths"
   ]
  },
  {
   "cell_type": "code",
   "execution_count": 5,
   "metadata": {},
   "outputs": [],
   "source": [
    "for dataset in raw_data:\n",
    "    dataset.loc[:,\"width\"] = dataset.loc[:,\"end\"] - dataset.loc[:,\"start\"]"
   ]
  },
  {
   "cell_type": "markdown",
   "metadata": {},
   "source": [
    "# Graphing"
   ]
  },
  {
   "cell_type": "code",
   "execution_count": 6,
   "metadata": {},
   "outputs": [],
   "source": [
    "# Specify index order \n",
    "index_order = ['2L','2R','3L','3R', '4', 'X']\n",
    "\n",
    "\n",
    "# Making a list of orders and titles for plotting\n",
    "titles = [\"K4 Width Distribution\", \n",
    "          \"K9 Width Distribution\", \n",
    "          \"K27 Width Distribution\"]"
   ]
  },
  {
   "cell_type": "code",
   "execution_count": 7,
   "metadata": {},
   "outputs": [
    {
     "data": {
      "image/png": "[encoded data removed]",
      "text/plain": [
       "<Figure size 720x1440 with 3 Axes>"
      ]
     },
     "metadata": {
      "needs_background": "light"
     },
     "output_type": "display_data"
    }
   ],
   "source": [
    "fig, ax = plt.subplots(figsize=(10,20), nrows=3)\n",
    "\n",
    "for i in range(len(raw_data)):\n",
    "    # Generate histograms\n",
    "    ax[i].hist( raw_data[i].loc[:,\"width\"] )      \n",
    "    # Formatting\n",
    "    ax[i].set_title(titles[i])\n",
    "    ax[i].set_xlabel(\"Widths\")\n",
    "    ax[i].set_ylabel(\"Frequency\")\n",
    "\n",
    "plt.show()"
   ]
  }
 ],
 "metadata": {
  "kernelspec": {
   "display_name": "Python 3",
   "language": "python",
   "name": "python3"
  },
  "language_info": {
   "codemirror_mode": {
    "name": "ipython",
    "version": 3
   },
   "file_extension": ".py",
   "mimetype": "text/x-python",
   "name": "python",
   "nbconvert_exporter": "python",
   "pygments_lexer": "ipython3",
   "version": "3.6.10"
  }
 },
 "nbformat": 4,
 "nbformat_minor": 4
}
