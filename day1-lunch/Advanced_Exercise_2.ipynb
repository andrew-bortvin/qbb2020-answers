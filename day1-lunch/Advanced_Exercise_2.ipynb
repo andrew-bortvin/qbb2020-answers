{
 "cells": [
  {
   "cell_type": "markdown",
   "metadata": {},
   "source": [
    "# Advanced Exercise 2 \n",
    "\n",
    "Plot K4, K9, and K27 width distributions on a single plot without using subplots"
   ]
  },
  {
   "cell_type": "markdown",
   "metadata": {},
   "source": [
    "##  Load Packages"
   ]
  },
  {
   "cell_type": "code",
   "execution_count": 1,
   "metadata": {},
   "outputs": [],
   "source": [
    "import matplotlib.pyplot as plt\n",
    "import pandas as pd\n",
    "import numpy as np"
   ]
  },
  {
   "cell_type": "markdown",
   "metadata": {},
   "source": [
    "## Import and Manipulate Bed Files"
   ]
  },
  {
   "cell_type": "code",
   "execution_count": 2,
   "metadata": {},
   "outputs": [
    {
     "data": {
      "text/plain": [
       "['chr', 'start', 'end']"
      ]
     },
     "execution_count": 2,
     "metadata": {},
     "output_type": "execute_result"
    }
   ],
   "source": [
    "bed_columns = [\"chr\", \"start\", \"end\"]\n",
    "bed_columns"
   ]
  },
  {
   "cell_type": "code",
   "execution_count": 3,
   "metadata": {},
   "outputs": [],
   "source": [
    "df_k4 = pd.read_table( \"../../qbb2020/data/K4me3.bed\",\n",
    "                     names = bed_columns)\n",
    "\n",
    "df_k9 = pd.read_table( \"../../qbb2020/data/K9me3.bed\",\n",
    "                     names = bed_columns)\n",
    "\n",
    "df_k27 = pd.read_table( \"../../qbb2020/data/K27me3.bed\",\n",
    "                     names = bed_columns)"
   ]
  },
  {
   "cell_type": "code",
   "execution_count": 4,
   "metadata": {},
   "outputs": [],
   "source": [
    "df_k4_graphing = df_k4.iloc[:,1:3]\n",
    "df_k9_graphing = df_k9.iloc[:, 1:3]\n",
    "df_k27_graphing = df_k27.iloc[:, 1:3]\n",
    "\n",
    "raw_data = [df_k4_graphing, df_k9_graphing, df_k27_graphing]"
   ]
  },
  {
   "cell_type": "code",
   "execution_count": 5,
   "metadata": {},
   "outputs": [],
   "source": [
    "for dataset in raw_data:\n",
    "    dataset.loc[:,\"width\"] = dataset.loc[:,\"end\"] - dataset.loc[:,\"start\"]"
   ]
  },
  {
   "cell_type": "markdown",
   "metadata": {},
   "source": [
    "## Graphing"
   ]
  },
  {
   "cell_type": "markdown",
   "metadata": {},
   "source": [
    "There is a big difference in width ranges between the three groups. Therefore, I am taking log2 of all widths prior to plotting"
   ]
  },
  {
   "cell_type": "code",
   "execution_count": 6,
   "metadata": {},
   "outputs": [],
   "source": [
    "df_k4_graphing_log2 = np.log2(df_k4_graphing)\n",
    "df_k9_graphing_log2 = np.log2(df_k9_graphing)\n",
    "df_k27_graphing_log2 = np.log2(df_k27_graphing)"
   ]
  },
  {
   "cell_type": "code",
   "execution_count": 7,
   "metadata": {},
   "outputs": [],
   "source": [
    "# Specify index order \n",
    "index_order = ['2L','2R','3L','3R', '4', 'X']"
   ]
  },
  {
   "cell_type": "code",
   "execution_count": 8,
   "metadata": {},
   "outputs": [
    {
     "data": {
      "image/png": "[encoded data removed]",
      "text/plain": [
       "<Figure size 432x288 with 1 Axes>"
      ]
     },
     "metadata": {
      "needs_background": "light"
     },
     "output_type": "display_data"
    }
   ],
   "source": [
    "fig, ax = plt.subplots()\n",
    "\n",
    "# Generate histograms\n",
    "ax.hist( df_k4_graphing_log2.loc[:,\"width\"] , \n",
    "        alpha = 0.8, label='K4')\n",
    "ax.hist( df_k9_graphing_log2.loc[:,\"width\"] , \n",
    "        alpha = 1, label='K9')\n",
    "ax.hist( df_k27_graphing_log2.loc[:,\"width\"] , \n",
    "        alpha = 0.5, label='K27')\n",
    "# Formatting\n",
    "ax.set_title(\"Width distributions of K4, K9, and K27\")\n",
    "ax.set_xlabel(\"Widths\")\n",
    "ax.set_ylabel(\"Frequency\")\n",
    "ax.legend()\n",
    "\n",
    "plt.show()"
   ]
  },
  {
   "cell_type": "markdown",
   "metadata": {},
   "source": [
    "Because K4 has many more observations than K9 and K27, I am also plotting this with log2 of the Y axis "
   ]
  },
  {
   "cell_type": "code",
   "execution_count": 9,
   "metadata": {},
   "outputs": [
    {
     "data": {
      "image/png": "[encoded data removed]",
      "text/plain": [
       "<Figure size 432x288 with 1 Axes>"
      ]
     },
     "metadata": {
      "needs_background": "light"
     },
     "output_type": "display_data"
    }
   ],
   "source": [
    "fig, ax = plt.subplots()\n",
    "\n",
    "# Generate histograms\n",
    "ax.hist( df_k4_graphing_log2.loc[:,\"width\"] , \n",
    "        alpha = 0.8, label='K4')\n",
    "ax.hist( df_k9_graphing_log2.loc[:,\"width\"] , \n",
    "        alpha = 1, label='K9')\n",
    "ax.hist( df_k27_graphing_log2.loc[:,\"width\"] , \n",
    "        alpha = 0.5, label='K27')\n",
    "# Formatting\n",
    "ax.set_title(\"Width distributions of K4, K9, and K27\")\n",
    "ax.set_xlabel(\"Widths\")\n",
    "ax.set_ylabel(\"log2(Frequency)\")\n",
    "ax.set_yscale('log',base=2)\n",
    "ax.legend()\n",
    "\n",
    "plt.show()"
   ]
  },
  {
   "cell_type": "markdown",
   "metadata": {},
   "source": []
  }
 ],
 "metadata": {
  "kernelspec": {
   "display_name": "Python 3",
   "language": "python",
   "name": "python3"
  },
  "language_info": {
   "codemirror_mode": {
    "name": "ipython",
    "version": 3
   },
   "file_extension": ".py",
   "mimetype": "text/x-python",
   "name": "python",
   "nbconvert_exporter": "python",
   "pygments_lexer": "ipython3",
   "version": "3.6.10"
  }
 },
 "nbformat": 4,
 "nbformat_minor": 4
}
