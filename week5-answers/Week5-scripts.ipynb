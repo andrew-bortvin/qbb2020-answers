{
 "cells": [
  {
   "cell_type": "markdown",
   "metadata": {},
   "source": [
    "# ChIP-seq"
   ]
  },
  {
   "cell_type": "markdown",
   "metadata": {},
   "source": [
    "## Mapping Reads"
   ]
  },
  {
   "cell_type": "markdown",
   "metadata": {},
   "source": [
    "Bash script: For each sample, generate map sample back to reference"
   ]
  },
  {
   "cell_type": "code",
   "execution_count": null,
   "metadata": {},
   "outputs": [],
   "source": [
    "%%bash\n",
    "cd g1e\n",
    "for sample in *.fastq\n",
    "do\n",
    "        #echo ${sample%%.*}\n",
    "        bowtie2 -x ../bowtie_index/chr19 -U ${sample%%.*}.fastq -S ${sample%%.*}.sam -p 6\n",
    "        samtools view -bSo ${sample%%.*}.bam ${sample%%.*}.sam\n",
    "        samtools sort ${sample%%.*}.bam -o ${sample%%.*}.sorted.bam\n",
    "        samtools index ${sample%%.*}.sorted.bam\n",
    "done"
   ]
  },
  {
   "cell_type": "markdown",
   "metadata": {},
   "source": [
    "Bash script: For each sample, use macs2 to call ChIP-seq peaks"
   ]
  },
  {
   "cell_type": "markdown",
   "metadata": {},
   "source": [
    "## Calling Peaks"
   ]
  },
  {
   "cell_type": "code",
   "execution_count": null,
   "metadata": {},
   "outputs": [],
   "source": [
    "%%bash\n",
    "for condition in G1E ER4\n",
    "do\n",
    "        mkdir $condition\n",
    "        cd $condition\n",
    "        macs2 callpeak -t ../CTCF_${condition}.bam -c ../input_${condition}.bam --format=BAM --name=CTCF_$condition --gsize 614\n",
    "        cd ../\n",
    "done"
   ]
  },
  {
   "cell_type": "markdown",
   "metadata": {},
   "source": [
    "The important file generated here for the next step is {sample}.narrowPeak. This file looks like this: "
   ]
  },
  {
   "cell_type": "code",
   "execution_count": 1,
   "metadata": {},
   "outputs": [
    {
     "name": "stdout",
     "output_type": "stream",
     "text": [
      "chr19\t3208370\t3208515\tER4_peak_1\t84\t.\t7.65977\t11.3454\t8.43177\t63\n",
      "chr19\t3292050\t3292339\tER4_peak_2\t131\t.\t9.166\t16.2172\t13.1558\t155\n",
      "chr19\t3320885\t3321144\tER4_peak_3\t210\t.\t14.1138\t24.3182\t21.0141\t161\n",
      "chr19\t3322397\t3322611\tER4_peak_4\t62\t.\t6.3805\t9.08008\t6.26144\t95\n",
      "chr19\t3347898\t3348096\tER4_peak_5\t47\t.\t5.79244\t7.51662\t4.76083\t106\n",
      "chr19\t3355241\t3355415\tER4_peak_6\t80\t.\t7.58092\t10.9318\t8.04178\t68\n",
      "chr19\t3436948\t3437178\tER4_peak_7\t225\t.\t14.5612\t25.9143\t22.5713\t111\n",
      "chr19\t3451255\t3451586\tER4_peak_8\t260\t.\t14.4592\t29.5237\t26.0837\t166\n",
      "chr19\t3581469\t3581603\tER4_peak_9\t84\t.\t7.65977\t11.3454\t8.43177\t78\n",
      "chr19\t3586580\t3586862\tER4_peak_10\t451\t.\t20.5167\t49.2668\t45.1303\t165\n"
     ]
    }
   ],
   "source": [
    "%%bash \n",
    "less -S ./g1e/ER4/ER4_peaks.narrowPeak | head"
   ]
  },
  {
   "cell_type": "markdown",
   "metadata": {},
   "source": [
    "## Differential Binding\n",
    "\n",
    "To find peaks gained during differentiation, we want to identify the peaks found in ER4 cells and not present in G1E. To do so:"
   ]
  },
  {
   "cell_type": "code",
   "execution_count": null,
   "metadata": {},
   "outputs": [],
   "source": [
    "%%bash\n",
    "bedtools intersect -a ER4/CTCF_ER4_peaks.narrowPeak -b G1E/CTCF_G1E_peaks.narrowPeak -v > CTCF_gained_differentiation.bed"
   ]
  },
  {
   "cell_type": "markdown",
   "metadata": {},
   "source": [
    "This generates a file that looks like this: "
   ]
  },
  {
   "cell_type": "code",
   "execution_count": 3,
   "metadata": {},
   "outputs": [
    {
     "name": "stdout",
     "output_type": "stream",
     "text": [
      "chr19\t3208370\t3208515\tCTCF_ER4_peak_1\t84\t.\t7.65977\t11.3454\t8.43177\t63\n",
      "chr19\t3355241\t3355415\tCTCF_ER4_peak_6\t80\t.\t7.58092\t10.9318\t8.04178\t68\n",
      "chr19\t3581469\t3581603\tCTCF_ER4_peak_9\t84\t.\t7.65977\t11.3454\t8.43177\t78\n",
      "chr19\t3619493\t3619782\tCTCF_ER4_peak_12\t49\t.\t5.89783\t7.71107\t4.95136\t116\n",
      "chr19\t3719176\t3719306\tCTCF_ER4_peak_15\t39\t.\t5.12473\t6.618\t3.91409\t87\n",
      "chr19\t4125737\t4125868\tCTCF_ER4_peak_25\t67\t.\t7.17368\t9.60462\t6.76423\t68\n",
      "chr19\t4136039\t4136319\tCTCF_ER4_peak_26\t107\t.\t8.73525\t13.7437\t10.759\t193\n",
      "chr19\t4169525\t4169771\tCTCF_ER4_peak_27\t323\t.\t18.2933\t36.0094\t32.3432\t122\n",
      "chr19\t4279606\t4279758\tCTCF_ER4_peak_33\t52\t.\t6.06331\t8.02723\t5.25382\t27\n",
      "chr19\t4384424\t4384560\tCTCF_ER4_peak_38\t58\t.\t6.60848\t8.68661\t5.88803\t84\n"
     ]
    }
   ],
   "source": [
    "%%bash \n",
    "less -S ./g1e/CTCF_gained_differentiation.bed | head "
   ]
  },
  {
   "cell_type": "markdown",
   "metadata": {},
   "source": [
    "Likewise, peaks lost during differentiation will be seen in G1E and not in ER4. They are found with: "
   ]
  },
  {
   "cell_type": "code",
   "execution_count": null,
   "metadata": {},
   "outputs": [],
   "source": [
    "%%bash\n",
    "bedtools intersect -a G1E/CTCF_G1E_peaks.narrowPeak -b ER4/CTCF_ER4_peaks.narrowPeak -v > CTCF_lost_differentiation.bed"
   ]
  },
  {
   "cell_type": "markdown",
   "metadata": {},
   "source": [
    "The resulting file looks like: "
   ]
  },
  {
   "cell_type": "code",
   "execution_count": 5,
   "metadata": {},
   "outputs": [
    {
     "name": "stdout",
     "output_type": "stream",
     "text": [
      "chr19\t3208370\t3208515\tCTCF_ER4_peak_1\t84\t.\t7.65977\t11.3454\t8.43177\t63\n",
      "chr19\t3355241\t3355415\tCTCF_ER4_peak_6\t80\t.\t7.58092\t10.9318\t8.04178\t68\n",
      "chr19\t3581469\t3581603\tCTCF_ER4_peak_9\t84\t.\t7.65977\t11.3454\t8.43177\t78\n",
      "chr19\t3619493\t3619782\tCTCF_ER4_peak_12\t49\t.\t5.89783\t7.71107\t4.95136\t116\n",
      "chr19\t3719176\t3719306\tCTCF_ER4_peak_15\t39\t.\t5.12473\t6.618\t3.91409\t87\n",
      "chr19\t4125737\t4125868\tCTCF_ER4_peak_25\t67\t.\t7.17368\t9.60462\t6.76423\t68\n",
      "chr19\t4136039\t4136319\tCTCF_ER4_peak_26\t107\t.\t8.73525\t13.7437\t10.759\t193\n",
      "chr19\t4169525\t4169771\tCTCF_ER4_peak_27\t323\t.\t18.2933\t36.0094\t32.3432\t122\n",
      "chr19\t4279606\t4279758\tCTCF_ER4_peak_33\t52\t.\t6.06331\t8.02723\t5.25382\t27\n",
      "chr19\t4384424\t4384560\tCTCF_ER4_peak_38\t58\t.\t6.60848\t8.68661\t5.88803\t84\n"
     ]
    }
   ],
   "source": [
    "%%bash\n",
    "less -S ./g1e/CTCF_gained_differentiation.bed | head"
   ]
  },
  {
   "cell_type": "markdown",
   "metadata": {},
   "source": [
    "## Feature Overlapping "
   ]
  },
  {
   "cell_type": "markdown",
   "metadata": {},
   "source": [
    "Feature overlaps can be found using the bedtools intersect command. Feature overalps with ER4:"
   ]
  },
  {
   "cell_type": "code",
   "execution_count": null,
   "metadata": {},
   "outputs": [],
   "source": [
    "%%bash\n",
    "bedtools intersect -wa -a Mus_musculus.GRCm38.94_features.bed -b g1e/ER4/CTCF_ER4_peaks.narrowPeak"
   ]
  },
  {
   "cell_type": "markdown",
   "metadata": {},
   "source": [
    "Feature overlaps with GR1:"
   ]
  },
  {
   "cell_type": "code",
   "execution_count": null,
   "metadata": {},
   "outputs": [],
   "source": [
    "%%bash\n",
    "bedtools intersect -C -a Mus_musculus.GRCm38.94_features.bed -b ./g1e/G1E/CTCF_G1E_peaks.narrowPeak > intersect_GR1_peaks.bed "
   ]
  },
  {
   "cell_type": "markdown",
   "metadata": {},
   "source": [
    "This has produced two files, in the general format of : "
   ]
  },
  {
   "cell_type": "code",
   "execution_count": 7,
   "metadata": {},
   "outputs": [
    {
     "name": "stdout",
     "output_type": "stream",
     "text": [
      "chr19\t53677592\t53813248\tintron\t.\t+\t4\n",
      "chr19\t45363886\t45502932\tintron\t.\t+\t4\n",
      "chr19\t6618263\t6674271\tintron\t.\t-\t3\n",
      "chr19\t61058276\t61127007\tintron\t.\t-\t3\n",
      "chr19\t47501717\t47507806\tintron\t.\t-\t3\n",
      "chr19\t37550565\t37570383\tintron\t.\t+\t3\n",
      "chr19\t33202648\t33382367\tintron\t.\t-\t3\n",
      "chr19\t22139301\t22697422\tintron\t.\t+\t3\n",
      "chr19\t7435138\t7456300\tintron\t.\t-\t2\n",
      "chr19\t6979141\t6980394\tintron\t.\t-\t2\n"
     ]
    }
   ],
   "source": [
    "%%bash\n",
    "sort -k7 -nr intersect_GR1_peaks.bed | head"
   ]
  },
  {
   "cell_type": "markdown",
   "metadata": {},
   "source": [
    "with the final numeric column representing the number of intersecting CTCF sites in the region. To plot, we want to sum the final column by the feature type. To do so for for GR1 data: "
   ]
  },
  {
   "cell_type": "code",
   "execution_count": null,
   "metadata": {},
   "outputs": [],
   "source": [
    "%%bash\n",
    "promoter_count=`awk '/promoter/ {s+=$7}END{print s}' intersect_GR1_peaks.bed`\n",
    "intron_count=`awk '/intron/ {s+=$7}END{print s}' intersect_GR1_peaks.bed`\n",
    "exon_count=`awk '/exon/ {s+=$7}END{print s}' intersect_GR1_peaks.bed`\n",
    "printf \"%s\\t%i\\n\" exon $exon_count > GR1_to_plot.txt\n",
    "printf \"%s\\t%i\\n\" intron $intron_count >> GR1_to_plot.txt\n",
    "printf \"%s\\t%i\\n\" promoter $promoter_count >> GR1_to_plot.txt"
   ]
  },
  {
   "cell_type": "markdown",
   "metadata": {},
   "source": [
    "Generates the following table:"
   ]
  },
  {
   "cell_type": "code",
   "execution_count": 9,
   "metadata": {},
   "outputs": [
    {
     "name": "stdout",
     "output_type": "stream",
     "text": [
      "exon\t85\n",
      "intron\t311\n",
      "promoter\t55\n"
     ]
    }
   ],
   "source": [
    "%%bash\n",
    "cat GR1_to_plot.txt"
   ]
  },
  {
   "cell_type": "markdown",
   "metadata": {},
   "source": [
    "The same done for ER4:"
   ]
  },
  {
   "cell_type": "code",
   "execution_count": null,
   "metadata": {},
   "outputs": [],
   "source": [
    "%%bash\n",
    "promoter_count=`awk '/promoter/ {s+=$7}END{print s}' intersect_ER4_peaks.bed`\n",
    "intron_count=`awk '/intron/ {s+=$7}END{print s}' intersect_ER4_peaks.bed`\n",
    "exon_count=`awk '/exon/ {s+=$7}END{print s}' intersect_ER4_peaks.bed`\n",
    "printf \"%s\\t%i\\n\" exon $exon_count > ER4_to_plot.txt\n",
    "printf \"%s\\t%i\\n\" intron $intron_count >> ER4_to_plot.txt\n",
    "printf \"%s\\t%i\\n\" promoter $promoter_count >> ER4_to_plot.txt"
   ]
  },
  {
   "cell_type": "markdown",
   "metadata": {},
   "source": [
    "Generates the following table: "
   ]
  },
  {
   "cell_type": "code",
   "execution_count": 10,
   "metadata": {},
   "outputs": [
    {
     "name": "stdout",
     "output_type": "stream",
     "text": [
      "exon\t101\n",
      "intron\t341\n",
      "promoter\t67\n"
     ]
    }
   ],
   "source": [
    "%%bash \n",
    "cat ER4_to_plot.txt"
   ]
  },
  {
   "cell_type": "markdown",
   "metadata": {},
   "source": [
    "## Plotting "
   ]
  },
  {
   "cell_type": "code",
   "execution_count": 13,
   "metadata": {},
   "outputs": [],
   "source": [
    "import matplotlib.pyplot as plt\n",
    "import pandas as pd"
   ]
  },
  {
   "cell_type": "code",
   "execution_count": 38,
   "metadata": {},
   "outputs": [],
   "source": [
    "ER4_left_pannel = pd.read_csv(\"ER4_to_plot.txt\", sep='\\t', header = None)\n",
    "GR1_left_pannel = pd.read_csv(\"GR1_to_plot.txt\", sep='\\t', header = None)"
   ]
  },
  {
   "cell_type": "code",
   "execution_count": 40,
   "metadata": {},
   "outputs": [],
   "source": [
    "to_plot = pd.read_csv(\"to_plot.txt\", sep='\\t', header = None)"
   ]
  },
  {
   "cell_type": "code",
   "execution_count": 71,
   "metadata": {},
   "outputs": [
    {
     "name": "stdout",
     "output_type": "stream",
     "text": [
      "     123 g1e/CTCF_gained_differentiation.bed\n",
      "      59 g1e/CTCF_lost_differentiation.bed\n"
     ]
    }
   ],
   "source": [
    "%%bash\n",
    "wc -l g1e/CTCF_gained_differentiation.bed \n",
    "wc -l g1e/CTCF_lost_differentiation.bed "
   ]
  },
  {
   "cell_type": "code",
   "execution_count": 76,
   "metadata": {},
   "outputs": [
    {
     "name": "stderr",
     "output_type": "stream",
     "text": [
      "/Users/cmdb/miniconda3/envs/cmdb/lib/python3.6/site-packages/ipykernel_launcher.py:8: UserWarning: FixedFormatter should only be used together with FixedLocator\n",
      "  \n"
     ]
    },
    {
     "data": {
      "image/png": "[encoded data removed]",
      "text/plain": [
       "<Figure size 720x360 with 2 Axes>"
      ]
     },
     "metadata": {
      "needs_background": "light"
     },
     "output_type": "display_data"
    }
   ],
   "source": [
    "fig, (ax1, ax2) = plt.subplots(1, 2, figsize=(10, 5))\n",
    "ax1.bar(to_plot.loc[:,0], to_plot.loc[:,1])\n",
    "ax1.bar(to_plot.loc[:,0], to_plot.loc[:,1])\n",
    "ax1.set_xlabel(\"Feature\")\n",
    "ax1.set_ylabel(\"Number\")\n",
    "ax1.set_title(\"CTCF Binding Sites per Feature Type\\n before and after differentiation\")\n",
    "ax2.set_title(\"CTCF Sites Gained and lost durring differentiation\")\n",
    "ax1.set_xticklabels(to_plot.loc[:,0], rotation=30, ha='right')\n",
    "ax2.bar([\"gained\", \"lost\"], [123, 59])\n",
    "plt.show()"
   ]
  },
  {
   "cell_type": "code",
   "execution_count": null,
   "metadata": {},
   "outputs": [],
   "source": []
  },
  {
   "cell_type": "code",
   "execution_count": null,
   "metadata": {},
   "outputs": [],
   "source": []
  },
  {
   "cell_type": "code",
   "execution_count": null,
   "metadata": {},
   "outputs": [],
   "source": []
  },
  {
   "cell_type": "code",
   "execution_count": null,
   "metadata": {},
   "outputs": [],
   "source": []
  },
  {
   "cell_type": "code",
   "execution_count": null,
   "metadata": {},
   "outputs": [],
   "source": []
  },
  {
   "cell_type": "code",
   "execution_count": null,
   "metadata": {},
   "outputs": [],
   "source": []
  },
  {
   "cell_type": "markdown",
   "metadata": {},
   "source": [
    "## Part II"
   ]
  },
  {
   "cell_type": "markdown",
   "metadata": {},
   "source": [
    "First, to make the input file, I want to sort the ER4 narrowPeak file by -log10 p value and select the 100 most significant. This is done as such:"
   ]
  },
  {
   "cell_type": "code",
   "execution_count": null,
   "metadata": {},
   "outputs": [],
   "source": [
    "%%bash \n",
    "sort -k8 -nr ER4_peaks.narrowPeak | head -n 100 > ER4_most_sig.bed"
   ]
  },
  {
   "cell_type": "markdown",
   "metadata": {},
   "source": [
    "Giving a file that starts like so: "
   ]
  },
  {
   "cell_type": "code",
   "execution_count": 20,
   "metadata": {},
   "outputs": [
    {
     "name": "stdout",
     "output_type": "stream",
     "text": [
      "chr19\t44582576\t44583088\tER4_peak_475\t944\t.\t42.1345\t102.256\t94.4687\t243\n",
      "chr19\t6262223\t6262602\tER4_peak_103\t914\t.\t39.6848\t97.763\t91.4324\t186\n",
      "chr19\t41442600\t41442958\tER4_peak_412\t902\t.\t36.3803\t96.3429\t90.2546\t182\n",
      "chr19\t44363400\t44363834\tER4_peak_468\t900\t.\t40.1436\t96.0664\t90.05\t282\n",
      "chr19\t10502605\t10502969\tER4_peak_177\t875\t.\t37.567\t93.2599\t87.5061\t192\n",
      "chr19\t59239486\t59239830\tER4_peak_644\t851\t.\t38.0395\t90.699\t85.1186\t166\n",
      "chr19\t37265833\t37266079\tER4_peak_367\t783\t.\t33.6194\t83.6707\t78.3244\t126\n",
      "chr19\t10059857\t10060255\tER4_peak_162\t778\t.\t33.6648\t83.1776\t77.8437\t198\n",
      "chr19\t40345737\t40346080\tER4_peak_389\t761\t.\t35.3199\t81.4157\t76.1227\t137\n",
      "chr19\t40391516\t40391831\tER4_peak_390\t759\t.\t33.9936\t81.2794\t75.9946\t120\n"
     ]
    }
   ],
   "source": [
    "%%bash\n",
    "head g1e/ER4/ER4_most_sig.bed"
   ]
  },
  {
   "cell_type": "markdown",
   "metadata": {},
   "source": [
    "Now, I would like to convert this file to a FASTA file by mapping it back to the reference as such: "
   ]
  },
  {
   "cell_type": "code",
   "execution_count": null,
   "metadata": {},
   "outputs": [],
   "source": [
    "%%bash\n",
    "bedtools getfasta -fi bowtie_index/chr19.fa -bed g1e/ER4/ER4_most_sig.bed > ER4_most_sig.fa"
   ]
  },
  {
   "cell_type": "markdown",
   "metadata": {},
   "source": [
    "This generates a fasta file starting with: "
   ]
  },
  {
   "cell_type": "code",
   "execution_count": 21,
   "metadata": {},
   "outputs": [
    {
     "name": "stdout",
     "output_type": "stream",
     "text": [
      ">chr19:44582576-44583088\n",
      "AAAGGTGCTGTTAACTGAAGCACTTTGCTGAGATGTGGAAGAGAGGATGTAATTCTGCATTCCCTTACTTCCAATGGGTGGACACGTCACCTTCCCAAAGTCAGGATGAGGAACAGAAGGGAGTCTAGGAGGCAGTGAGGTGGGAGGGGGTCTGTATATCCAGACCTCAAGCACCCTGTTTCCAGTGTGCTCCCTTGGGGCGAGTGGCCCCTGCTGTGGCCACAGCGTGGCGCACTTGCTCCATGCAGGGATCCAGAGCCACTTTGGGTGTTGGAATGGGCAGCACTGTGCTACCCACACTGCCCACTTGGGGGAGCCTGAGAGCCCGCTCTGCACAGGCCAGCTAGGCCTGAGATTTCCTGTGTGACAAAAAGACAAAAGTCTGGAGATGACTCCACAGCCTTACCCCTCCCTGTGGTACCTGCTGGGGCCAAGCTTCCCAATATGAGCTACATTTTCACATGGCCCACCATGCCAGGGGCCACTCTTCTCACAGGAGAGTGTAGAGATCA\n"
     ]
    }
   ],
   "source": [
    "%%bash\n",
    "head -n 2 ER4_most_sig.fa"
   ]
  },
  {
   "cell_type": "markdown",
   "metadata": {},
   "source": [
    "This output file can be used as input for meme-chip:"
   ]
  },
  {
   "cell_type": "code",
   "execution_count": null,
   "metadata": {},
   "outputs": [],
   "source": [
    "%%bash\n",
    "meme-chip -meme-maxw 20 -oc meme_chip -db ../../motif_databases/JASPAR/JASPAR_CORE_2016.meme ../../ER4_most_sig.fa "
   ]
  },
  {
   "cell_type": "markdown",
   "metadata": {},
   "source": [
    "The meme-maxw parameter sets the max motif size to 20. The resulting sequence logo is included as seq_logo.png."
   ]
  },
  {
   "cell_type": "code",
   "execution_count": null,
   "metadata": {},
   "outputs": [],
   "source": []
  }
 ],
 "metadata": {
  "kernelspec": {
   "display_name": "Python 3",
   "language": "python",
   "name": "python3"
  },
  "language_info": {
   "codemirror_mode": {
    "name": "ipython",
    "version": 3
   },
   "file_extension": ".py",
   "mimetype": "text/x-python",
   "name": "python",
   "nbconvert_exporter": "python",
   "pygments_lexer": "ipython3",
   "version": "3.6.10"
  }
 },
 "nbformat": 4,
 "nbformat_minor": 4
}
