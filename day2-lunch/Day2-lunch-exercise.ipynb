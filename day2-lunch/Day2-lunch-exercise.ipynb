{
 "cells": [
  {
   "cell_type": "code",
   "execution_count": 1,
   "metadata": {},
   "outputs": [],
   "source": [
    "# Open input file, extract gene IDS from lines that have DROME and are not missing FBgn IDS\n",
    "f = open( 'fly.txt' , 'r')\n",
    "data = []\n",
    "for line in f:\n",
    "    if \"DROME\" in line and 'FBgn' in line.split()[-1]:\n",
    "        text = (line.split()[-2] + '\\t' + line.split()[-1])\n",
    "        data.append(text)\n",
    "f.close()\n",
    "# print(data)\n",
    "\n",
    "f = open('flyIDS.txt', 'w')\n",
    "for gene in data:\n",
    "    f.write(gene + '\\n')\n",
    "f.close()"
   ]
  },
  {
   "cell_type": "code",
   "execution_count": 2,
   "metadata": {},
   "outputs": [],
   "source": [
    "# Show the resulting data. Commented out to not show the giant dataset. \n",
    "#f = open('flyIDS.txt', 'r')\n",
    "#for line in f:\n",
    "#    print(line.split())"
   ]
  },
  {
   "cell_type": "code",
   "execution_count": 3,
   "metadata": {},
   "outputs": [],
   "source": [
    "# Takes an input file as created above and makes it into a dictionary\n",
    "\n",
    "def id_dictionary(mapping_file):\n",
    "    f = open(mapping_file, 'r')\n",
    "    id_dict = {}\n",
    "    lines = f.readlines()\n",
    "    for gene in lines:\n",
    "        gene = gene.split()\n",
    "        id_dict[gene[1]] = gene[0]\n",
    "    f.close()\n",
    "    return(id_dict)"
   ]
  },
  {
   "cell_type": "code",
   "execution_count": 4,
   "metadata": {},
   "outputs": [],
   "source": [
    "# Look through ctab file and line by line convert IDs \n",
    "def map_IDS(mapping_file, ctab_file, def_value = False):\n",
    "    \n",
    "    output_names = []\n",
    "    \n",
    "    id_dict = id_dictionary(mapping_file)\n",
    "    \n",
    "    f = open(ctab_file, 'r')\n",
    "    lines = f.readlines()[1:101]\n",
    "    for line in lines: \n",
    "        key = line.split()[-4]\n",
    "        if key in id_dict.keys():\n",
    "            output_names.append(id_dict[key])\n",
    "            #print(id_dict[key])\n",
    "        else:\n",
    "            if def_value != False:\n",
    "                output_names.append(def_value)\n",
    "    return(output_names)"
   ]
  },
  {
   "cell_type": "code",
   "execution_count": 5,
   "metadata": {},
   "outputs": [
    {
     "data": {
      "text/plain": [
       "['P35875',\n",
       " 'P09040',\n",
       " 'Q9VMY9',\n",
       " 'Q9V3C0',\n",
       " 'Q07171',\n",
       " 'Q07171',\n",
       " 'Q07171',\n",
       " 'Q07171',\n",
       " 'Q07171',\n",
       " 'Q07171',\n",
       " 'Q07171',\n",
       " 'P82986',\n",
       " 'Q8IPM8',\n",
       " 'Q8IPM8',\n",
       " 'Q8IPM8',\n",
       " 'Q8IPM8',\n",
       " 'Q8IPM8',\n",
       " 'Q8IPM8',\n",
       " 'Q8IPM8',\n",
       " 'Q8IPM8',\n",
       " 'Q8IPM8',\n",
       " 'Q8IPM8',\n",
       " 'Q8IPM8',\n",
       " 'Q8IPM8',\n",
       " 'Q8IPM8',\n",
       " 'Q8IPM8',\n",
       " 'Q8IPM8',\n",
       " 'Q8IPM8',\n",
       " 'Q8IPM8',\n",
       " 'Q8IPM8',\n",
       " 'Q8IPM8',\n",
       " 'Q8IPM8',\n",
       " 'Q8IPM8']"
      ]
     },
     "execution_count": 5,
     "metadata": {},
     "output_type": "execute_result"
    }
   ],
   "source": [
    "# Implement the above function \n",
    "first_hundered_lines = map_IDS('flyIDS.txt', 't_data.ctab', False )\n",
    "first_hundered_lines"
   ]
  }
 ],
 "metadata": {
  "kernelspec": {
   "display_name": "Python 3",
   "language": "python",
   "name": "python3"
  },
  "language_info": {
   "codemirror_mode": {
    "name": "ipython",
    "version": 3
   },
   "file_extension": ".py",
   "mimetype": "text/x-python",
   "name": "python",
   "nbconvert_exporter": "python",
   "pygments_lexer": "ipython3",
   "version": "3.6.10"
  }
 },
 "nbformat": 4,
 "nbformat_minor": 4
}
