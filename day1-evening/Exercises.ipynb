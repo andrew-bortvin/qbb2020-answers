{
 "cells": [
  {
   "cell_type": "markdown",
   "metadata": {},
   "source": [
    "# Exercise 1"
   ]
  },
  {
   "cell_type": "markdown",
   "metadata": {},
   "source": [
    "Count the number of alignments\n",
    "\n",
    "Each line is an individual read. Therefore, counting the number of alignments should be the same as counting the number of lines. "
   ]
  },
  {
   "cell_type": "code",
   "execution_count": 1,
   "metadata": {},
   "outputs": [
    {
     "data": {
      "text/plain": [
       "2000000"
      ]
     },
     "execution_count": 1,
     "metadata": {},
     "output_type": "execute_result"
    }
   ],
   "source": [
    "# 1 – number of allignments\n",
    "\n",
    "# full data: ../../qbb2020/data/SRR072893.sam\n",
    "# shortened debug file: ../../qbb2020/data/debug.sam\n",
    "\n",
    "#f = open('../../qbb2020/data/debug.sam')\n",
    "f = open('../../qbb2020/data/SRR072893.sam')\n",
    "ids = []\n",
    "for line in f:\n",
    "    l = line.split('\\t')\n",
    "    ids.append(l[0])\n",
    "f.close()\n",
    "len(ids)\n"
   ]
  },
  {
   "cell_type": "markdown",
   "metadata": {},
   "source": [
    "# Exercise 2"
   ]
  },
  {
   "cell_type": "markdown",
   "metadata": {},
   "source": [
    "Count number of alignments that match perfectly to the genome\n",
    "\n",
    "Perfect matches will have no mismatches with the reference sequence. Therefore NM:i will be 0. Counting the number of rows in the dataset with NM:i:0 will give the number of perfect matches."
   ]
  },
  {
   "cell_type": "code",
   "execution_count": 2,
   "metadata": {},
   "outputs": [
    {
     "name": "stdout",
     "output_type": "stream",
     "text": [
      "1702765\n"
     ]
    }
   ],
   "source": [
    "# 2 – number of perfect matches\n",
    "\n",
    "#f = open('../../qbb2020/data/debug.sam')\n",
    "f = open('../../qbb2020/data/SRR072893.sam')\n",
    "perfect_matches = []\n",
    "for line in f:\n",
    "    l = line.split('\\t')\n",
    "    for i in l:\n",
    "        if 'NM:i:0' in i:\n",
    "            perfect_matches.append(i)\n",
    "f.close()\n",
    "print(len(perfect_matches))\n"
   ]
  },
  {
   "cell_type": "markdown",
   "metadata": {},
   "source": [
    "# Exercise 3"
   ]
  },
  {
   "cell_type": "markdown",
   "metadata": {},
   "source": [
    "For the first 10 alignments, print just the column indicating the chromosome.\n",
    "\n",
    "This is the third tab-separated column"
   ]
  },
  {
   "cell_type": "code",
   "execution_count": 3,
   "metadata": {},
   "outputs": [
    {
     "name": "stdout",
     "output_type": "stream",
     "text": [
      "2L\n",
      "2L\n",
      "2L\n",
      "2L\n",
      "2L\n",
      "2L\n",
      "2L\n",
      "2L\n",
      "2L\n",
      "2L\n"
     ]
    }
   ],
   "source": [
    "f = open('../../qbb2020/data/debug.sam')\n",
    "head = f.readlines()[0:10]\n",
    "for line in head:\n",
    "    print(head[1].split('\\t')[2])\n",
    "f.close()"
   ]
  },
  {
   "cell_type": "markdown",
   "metadata": {},
   "source": [
    "# Exercise 4"
   ]
  },
  {
   "cell_type": "markdown",
   "metadata": {},
   "source": [
    "Calculate the average MAPQ score across all reads"
   ]
  },
  {
   "cell_type": "code",
   "execution_count": 4,
   "metadata": {},
   "outputs": [
    {
     "name": "stdout",
     "output_type": "stream",
     "text": [
      "119281565\n",
      "2000000\n",
      "59.6407825\n"
     ]
    }
   ],
   "source": [
    "# Get average MAPQ score \n",
    "f = open('../../qbb2020/data/SRR072893.sam')\n",
    "maps = 0\n",
    "count = 0\n",
    "for line in f:\n",
    "    l = line.split('\\t')\n",
    "    maps += int(l[4])\n",
    "    count += 1\n",
    "f.close()\n",
    "\n",
    "print(maps)\n",
    "print(count)\n",
    "print(maps/count)"
   ]
  },
  {
   "cell_type": "markdown",
   "metadata": {},
   "source": [
    "# Exercise 5"
   ]
  },
  {
   "cell_type": "markdown",
   "metadata": {},
   "source": [
    "Count the number of reads that start their alignment between bases 10,000 and 20,000 of chromosome 2L "
   ]
  },
  {
   "cell_type": "code",
   "execution_count": 5,
   "metadata": {},
   "outputs": [
    {
     "name": "stdout",
     "output_type": "stream",
     "text": [
      "7550\n"
     ]
    }
   ],
   "source": [
    "f = open('../../qbb2020/data/SRR072893.sam')\n",
    "count = 0\n",
    "for line in f:\n",
    "    l = line.split('\\t')\n",
    "    if 10000 <= int(l[3]) and int(l[3]) <= 20000:\n",
    "        count += 1\n",
    "f.close()\n",
    "print(count)"
   ]
  },
  {
   "cell_type": "markdown",
   "metadata": {},
   "source": [
    "# Advanced Exercise 1"
   ]
  },
  {
   "cell_type": "markdown",
   "metadata": {},
   "source": [
    "How many reads map to the reverse strand?\n",
    "\n",
    "In the second column, these will have a 1 in the 5th place in binary"
   ]
  },
  {
   "cell_type": "code",
   "execution_count": 6,
   "metadata": {},
   "outputs": [
    {
     "name": "stdout",
     "output_type": "stream",
     "text": [
      "990254\n"
     ]
    }
   ],
   "source": [
    "# Number of reads with reverse allignment\n",
    "f = open('../../qbb2020/data/SRR072893.sam')\n",
    "count = 0\n",
    "for line in f:\n",
    "    l = line.split('\\t')\n",
    "    if int(l[1]) >= 16 and str(bin(int(l[1])))[-5] == '1':\n",
    "        count +=1        \n",
    "f.close()     \n",
    "print(count)"
   ]
  },
  {
   "cell_type": "markdown",
   "metadata": {},
   "source": [
    "# Advanced Exercise 2"
   ]
  },
  {
   "cell_type": "markdown",
   "metadata": {},
   "source": [
    "Determine how many reads have an average quality score >30.\n",
    "\n",
    "To do this, convert phred+33 scores to numerical, subtract 33 and average across the read."
   ]
  },
  {
   "cell_type": "code",
   "execution_count": 7,
   "metadata": {},
   "outputs": [
    {
     "name": "stdout",
     "output_type": "stream",
     "text": [
      "1386209\n"
     ]
    }
   ],
   "source": [
    "# PHRED Quality score\n",
    "f = open('../../qbb2020/data/SRR072893.sam')\n",
    "# count variable to keep track of number of quality >30 reads\n",
    "over_30_count = 0\n",
    "for line in f:\n",
    "    # tracks score for each read\n",
    "    score_sum = 0\n",
    "    # extract phred+33\n",
    "    phred33 = line.split('\\t')[10]\n",
    "    # convert to int and add to score \n",
    "    for i in phred33:\n",
    "        score_sum += (ord(i) - 33)\n",
    "    # check average\n",
    "    if score_sum/len(phred33) > 30:\n",
    "        over_30_count +=1 \n",
    "\n",
    "print(over_30_count)"
   ]
  }
 ],
 "metadata": {
  "kernelspec": {
   "display_name": "Python 3",
   "language": "python",
   "name": "python3"
  },
  "language_info": {
   "codemirror_mode": {
    "name": "ipython",
    "version": 3
   },
   "file_extension": ".py",
   "mimetype": "text/x-python",
   "name": "python",
   "nbconvert_exporter": "python",
   "pygments_lexer": "ipython3",
   "version": "3.6.10"
  }
 },
 "nbformat": 4,
 "nbformat_minor": 4
}
