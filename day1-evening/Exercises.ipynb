{
 "cells": [
  {
   "cell_type": "code",
   "execution_count": 1,
   "metadata": {},
   "outputs": [],
   "source": [
    "import pandas as pd"
   ]
  },
  {
   "cell_type": "code",
   "execution_count": 2,
   "metadata": {},
   "outputs": [
    {
     "data": {
      "text/plain": [
       "2000000"
      ]
     },
     "execution_count": 2,
     "metadata": {},
     "output_type": "execute_result"
    }
   ],
   "source": [
    "# 1 – number of allignments\n",
    "\n",
    "# full data: ../../qbb2020/data/SRR072893.sam\n",
    "# shortened debug file: ../../qbb2020/data/debug.sam\n",
    "\n",
    "#f = open('../../qbb2020/data/debug.sam')\n",
    "f = open('../../qbb2020/data/SRR072893.sam')\n",
    "ids = []\n",
    "for line in f:\n",
    "    l = line.split('\\t')\n",
    "    ids.append(l[0])\n",
    "f.close()\n",
    "# The first line is the unique ID for a read. Therefore, counting the number of lines will be equivalent to counting the number of alignments\n",
    "len(ids)\n"
   ]
  },
  {
   "cell_type": "code",
   "execution_count": 3,
   "metadata": {},
   "outputs": [
    {
     "name": "stdout",
     "output_type": "stream",
     "text": [
      "1702765\n"
     ]
    }
   ],
   "source": [
    "# 2 – number of perfect matches\n",
    "\n",
    "#f = open('../../qbb2020/data/debug.sam')\n",
    "f = open('../../qbb2020/data/SRR072893.sam')\n",
    "perfect_matches = []\n",
    "for line in f:\n",
    "    l = line.split('\\t')\n",
    "    for i in l:\n",
    "        if 'NM:i:0' in i:\n",
    "            perfect_matches.append(i)\n",
    "f.close()\n",
    "# The first line is the unique ID for a read. Therefore, counting the number of lines will be equivalent to counting the number of alignments\n",
    "print(len(perfect_matches))\n"
   ]
  },
  {
   "cell_type": "code",
   "execution_count": 13,
   "metadata": {},
   "outputs": [
    {
     "name": "stdout",
     "output_type": "stream",
     "text": [
      "2L\n",
      "2L\n",
      "2L\n",
      "2L\n",
      "2L\n",
      "2L\n",
      "2L\n",
      "2L\n",
      "2L\n",
      "2L\n"
     ]
    }
   ],
   "source": [
    "# Print out the chromosomes\n",
    "f = open('../../qbb2020/data/debug.sam')\n",
    "head = f.readlines()[0:10]\n",
    "for line in head:\n",
    "    print(head[1].split('\\t')[2])\n",
    "f.close()"
   ]
  },
  {
   "cell_type": "code",
   "execution_count": 5,
   "metadata": {},
   "outputs": [
    {
     "name": "stdout",
     "output_type": "stream",
     "text": [
      "119281565\n",
      "2000000\n",
      "59.6407825\n"
     ]
    }
   ],
   "source": [
    "# Get average MAPQ score \n",
    "f = open('../../qbb2020/data/SRR072893.sam')\n",
    "maps = 0\n",
    "count = 0\n",
    "for line in f:\n",
    "    l = line.split('\\t')\n",
    "    maps += int(l[4])\n",
    "    count += 1\n",
    "f.close()\n",
    "\n",
    "print(maps)\n",
    "print(count)\n",
    "print(maps/count)"
   ]
  },
  {
   "cell_type": "code",
   "execution_count": 6,
   "metadata": {},
   "outputs": [
    {
     "name": "stdout",
     "output_type": "stream",
     "text": [
      "7550\n"
     ]
    }
   ],
   "source": [
    "# Number of reads with leftmost allignment between 10000 and 20000\n",
    "f = open('../../qbb2020/data/SRR072893.sam')\n",
    "count = 0\n",
    "for line in f:\n",
    "    l = line.split('\\t')\n",
    "    if 10000 <= int(l[3]) and int(l[3]) <= 20000:\n",
    "        count += 1\n",
    "f.close()\n",
    "print(count)"
   ]
  },
  {
   "cell_type": "code",
   "execution_count": 8,
   "metadata": {},
   "outputs": [
    {
     "name": "stdout",
     "output_type": "stream",
     "text": [
      "990254\n"
     ]
    }
   ],
   "source": [
    "# Number of reads with reverse allignment\n",
    "f = open('../../qbb2020/data/SRR072893.sam')\n",
    "count = 0\n",
    "for line in f:\n",
    "    l = line.split('\\t')\n",
    "    if int(l[1]) >= 16 and str(bin(int(l[1])))[-5] == '1':\n",
    "        count +=1        \n",
    "f.close()     \n",
    "print(count)"
   ]
  },
  {
   "cell_type": "code",
   "execution_count": 25,
   "metadata": {},
   "outputs": [
    {
     "name": "stdout",
     "output_type": "stream",
     "text": [
      "30\n",
      "27\n",
      "25\n",
      "27\n",
      "27\n",
      "28\n",
      "32\n",
      "35\n",
      "32\n",
      "33\n",
      "28\n",
      "33\n",
      "28\n",
      "33\n",
      "32\n",
      "35\n",
      "33\n",
      "32\n",
      "32\n",
      "30\n",
      "19\n",
      "29\n",
      "20\n",
      "27\n",
      "25\n",
      "15\n",
      "18\n",
      "18\n",
      "13\n",
      "17\n",
      "37\n",
      "34\n",
      "34\n",
      "37\n",
      "26\n",
      "17\n",
      "32\n",
      "34\n",
      "22\n",
      "27\n"
     ]
    }
   ],
   "source": [
    "# PHRED Quality score\n",
    "f = open('../../qbb2020/data/debug.sam')\n",
    "head = f.readlines()[0:2]\n",
    "text = head[0].split('\\t')[10]\n",
    "for i in text:\n",
    "    print(ord(i) - 33)"
   ]
  },
  {
   "cell_type": "code",
   "execution_count": null,
   "metadata": {},
   "outputs": [],
   "source": []
  }
 ],
 "metadata": {
  "kernelspec": {
   "display_name": "Python 3",
   "language": "python",
   "name": "python3"
  },
  "language_info": {
   "codemirror_mode": {
    "name": "ipython",
    "version": 3
   },
   "file_extension": ".py",
   "mimetype": "text/x-python",
   "name": "python",
   "nbconvert_exporter": "python",
   "pygments_lexer": "ipython3",
   "version": "3.6.10"
  }
 },
 "nbformat": 4,
 "nbformat_minor": 4
}
